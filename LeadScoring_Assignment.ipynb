{
 "cells": [
  {
   "cell_type": "markdown",
   "id": "7ad21153-dbfa-426c-ab6c-f9bbc4935597",
   "metadata": {},
   "source": [
    "# Lead Scoring Assignment: LIBA FEB-2023 "
   ]
  },
  {
   "cell_type": "markdown",
   "id": "e0054b02-ac79-4497-b09e-77b650db2827",
   "metadata": {
    "tags": []
   },
   "source": [
    "## Importing Libraries"
   ]
  },
  {
   "cell_type": "code",
   "execution_count": 1,
   "id": "1ffaf00c-31fc-4d66-95ea-39a457af17e0",
   "metadata": {},
   "outputs": [],
   "source": [
    "import warnings\n",
    "warnings.filterwarnings('ignore')"
   ]
  },
  {
   "cell_type": "code",
   "execution_count": 163,
   "id": "afd186f1-4212-4745-801d-7f468afea972",
   "metadata": {},
   "outputs": [],
   "source": [
    "# Importing the NumPy and Pandas packages\n",
    "\n",
    "import numpy as np\n",
    "import pandas as pd\n",
    "\n",
    "\n",
    "# importing visualization libraries\n",
    "import matplotlib.pyplot as plt\n",
    "import seaborn as sns\n",
    "sns.set(style=\"whitegrid\")\n",
    "\n",
    "#import stats library\n",
    "from scipy import stats\n",
    "import statsmodels.api as sm\n",
    "\n",
    "from sklearn.model_selection import train_test_split\n",
    "from sklearn.preprocessing import MinMaxScaler\n",
    "from sklearn.preprocessing import StandardScaler\n",
    "from sklearn.linear_model import LogisticRegression\n",
    "from sklearn.feature_selection import RFE\n",
    "from sklearn import metrics\n",
    "from sklearn.metrics import classification_report,recall_score,roc_auc_score,roc_curve,accuracy_score,precision_score,precision_recall_curve,confusion_matrix\n",
    "from sklearn.preprocessing import LabelEncoder\n",
    "\n",
    "#import miscellaneous libraries\n",
    "pd.set_option(\"display.max_columns\",None)\n",
    "pd.set_option(\"display.max_colwidth\",200)"
   ]
  },
  {
   "cell_type": "markdown",
   "id": "e63e30b4-8f53-4c90-87f2-bcc42260290f",
   "metadata": {},
   "source": [
    "## Importing csv file"
   ]
  },
  {
   "cell_type": "code",
   "execution_count": 3,
   "id": "1db69a06-e4ef-4261-b490-af69f82fe11c",
   "metadata": {},
   "outputs": [],
   "source": [
    "leads = pd.read_csv(\"Leads.csv\")"
   ]
  },
  {
   "cell_type": "markdown",
   "id": "37f08c34-16de-4c75-afdb-c5238e93ff26",
   "metadata": {},
   "source": [
    "### Inspecting the dataset"
   ]
  },
  {
   "cell_type": "code",
   "execution_count": 4,
   "id": "ae01f0fd-5aa7-4087-a628-f9314df209f7",
   "metadata": {},
   "outputs": [
    {
     "data": {
      "text/html": [
       "<div>\n",
       "<style scoped>\n",
       "    .dataframe tbody tr th:only-of-type {\n",
       "        vertical-align: middle;\n",
       "    }\n",
       "\n",
       "    .dataframe tbody tr th {\n",
       "        vertical-align: top;\n",
       "    }\n",
       "\n",
       "    .dataframe thead th {\n",
       "        text-align: right;\n",
       "    }\n",
       "</style>\n",
       "<table border=\"1\" class=\"dataframe\">\n",
       "  <thead>\n",
       "    <tr style=\"text-align: right;\">\n",
       "      <th></th>\n",
       "      <th>Prospect ID</th>\n",
       "      <th>Lead Number</th>\n",
       "      <th>Lead Origin</th>\n",
       "      <th>Lead Source</th>\n",
       "      <th>Do Not Email</th>\n",
       "      <th>Do Not Call</th>\n",
       "      <th>Converted</th>\n",
       "      <th>TotalVisits</th>\n",
       "      <th>Total Time Spent on Website</th>\n",
       "      <th>Page Views Per Visit</th>\n",
       "      <th>...</th>\n",
       "      <th>Get updates on DM Content</th>\n",
       "      <th>Lead Profile</th>\n",
       "      <th>City</th>\n",
       "      <th>Asymmetrique Activity Index</th>\n",
       "      <th>Asymmetrique Profile Index</th>\n",
       "      <th>Asymmetrique Activity Score</th>\n",
       "      <th>Asymmetrique Profile Score</th>\n",
       "      <th>I agree to pay the amount through cheque</th>\n",
       "      <th>A free copy of Mastering The Interview</th>\n",
       "      <th>Last Notable Activity</th>\n",
       "    </tr>\n",
       "  </thead>\n",
       "  <tbody>\n",
       "    <tr>\n",
       "      <th>0</th>\n",
       "      <td>7927b2df-8bba-4d29-b9a2-b6e0beafe620</td>\n",
       "      <td>660737</td>\n",
       "      <td>API</td>\n",
       "      <td>Olark Chat</td>\n",
       "      <td>No</td>\n",
       "      <td>No</td>\n",
       "      <td>0</td>\n",
       "      <td>0.0</td>\n",
       "      <td>0</td>\n",
       "      <td>0.0</td>\n",
       "      <td>...</td>\n",
       "      <td>No</td>\n",
       "      <td>Select</td>\n",
       "      <td>Select</td>\n",
       "      <td>02.Medium</td>\n",
       "      <td>02.Medium</td>\n",
       "      <td>15.0</td>\n",
       "      <td>15.0</td>\n",
       "      <td>No</td>\n",
       "      <td>No</td>\n",
       "      <td>Modified</td>\n",
       "    </tr>\n",
       "    <tr>\n",
       "      <th>1</th>\n",
       "      <td>2a272436-5132-4136-86fa-dcc88c88f482</td>\n",
       "      <td>660728</td>\n",
       "      <td>API</td>\n",
       "      <td>Organic Search</td>\n",
       "      <td>No</td>\n",
       "      <td>No</td>\n",
       "      <td>0</td>\n",
       "      <td>5.0</td>\n",
       "      <td>674</td>\n",
       "      <td>2.5</td>\n",
       "      <td>...</td>\n",
       "      <td>No</td>\n",
       "      <td>Select</td>\n",
       "      <td>Select</td>\n",
       "      <td>02.Medium</td>\n",
       "      <td>02.Medium</td>\n",
       "      <td>15.0</td>\n",
       "      <td>15.0</td>\n",
       "      <td>No</td>\n",
       "      <td>No</td>\n",
       "      <td>Email Opened</td>\n",
       "    </tr>\n",
       "    <tr>\n",
       "      <th>2</th>\n",
       "      <td>8cc8c611-a219-4f35-ad23-fdfd2656bd8a</td>\n",
       "      <td>660727</td>\n",
       "      <td>Landing Page Submission</td>\n",
       "      <td>Direct Traffic</td>\n",
       "      <td>No</td>\n",
       "      <td>No</td>\n",
       "      <td>1</td>\n",
       "      <td>2.0</td>\n",
       "      <td>1532</td>\n",
       "      <td>2.0</td>\n",
       "      <td>...</td>\n",
       "      <td>No</td>\n",
       "      <td>Potential Lead</td>\n",
       "      <td>Mumbai</td>\n",
       "      <td>02.Medium</td>\n",
       "      <td>01.High</td>\n",
       "      <td>14.0</td>\n",
       "      <td>20.0</td>\n",
       "      <td>No</td>\n",
       "      <td>Yes</td>\n",
       "      <td>Email Opened</td>\n",
       "    </tr>\n",
       "    <tr>\n",
       "      <th>3</th>\n",
       "      <td>0cc2df48-7cf4-4e39-9de9-19797f9b38cc</td>\n",
       "      <td>660719</td>\n",
       "      <td>Landing Page Submission</td>\n",
       "      <td>Direct Traffic</td>\n",
       "      <td>No</td>\n",
       "      <td>No</td>\n",
       "      <td>0</td>\n",
       "      <td>1.0</td>\n",
       "      <td>305</td>\n",
       "      <td>1.0</td>\n",
       "      <td>...</td>\n",
       "      <td>No</td>\n",
       "      <td>Select</td>\n",
       "      <td>Mumbai</td>\n",
       "      <td>02.Medium</td>\n",
       "      <td>01.High</td>\n",
       "      <td>13.0</td>\n",
       "      <td>17.0</td>\n",
       "      <td>No</td>\n",
       "      <td>No</td>\n",
       "      <td>Modified</td>\n",
       "    </tr>\n",
       "    <tr>\n",
       "      <th>4</th>\n",
       "      <td>3256f628-e534-4826-9d63-4a8b88782852</td>\n",
       "      <td>660681</td>\n",
       "      <td>Landing Page Submission</td>\n",
       "      <td>Google</td>\n",
       "      <td>No</td>\n",
       "      <td>No</td>\n",
       "      <td>1</td>\n",
       "      <td>2.0</td>\n",
       "      <td>1428</td>\n",
       "      <td>1.0</td>\n",
       "      <td>...</td>\n",
       "      <td>No</td>\n",
       "      <td>Select</td>\n",
       "      <td>Mumbai</td>\n",
       "      <td>02.Medium</td>\n",
       "      <td>01.High</td>\n",
       "      <td>15.0</td>\n",
       "      <td>18.0</td>\n",
       "      <td>No</td>\n",
       "      <td>No</td>\n",
       "      <td>Modified</td>\n",
       "    </tr>\n",
       "  </tbody>\n",
       "</table>\n",
       "<p>5 rows × 37 columns</p>\n",
       "</div>"
      ],
      "text/plain": [
       "                            Prospect ID  Lead Number              Lead Origin  \\\n",
       "0  7927b2df-8bba-4d29-b9a2-b6e0beafe620       660737                      API   \n",
       "1  2a272436-5132-4136-86fa-dcc88c88f482       660728                      API   \n",
       "2  8cc8c611-a219-4f35-ad23-fdfd2656bd8a       660727  Landing Page Submission   \n",
       "3  0cc2df48-7cf4-4e39-9de9-19797f9b38cc       660719  Landing Page Submission   \n",
       "4  3256f628-e534-4826-9d63-4a8b88782852       660681  Landing Page Submission   \n",
       "\n",
       "      Lead Source Do Not Email Do Not Call  Converted  TotalVisits  \\\n",
       "0      Olark Chat           No          No          0          0.0   \n",
       "1  Organic Search           No          No          0          5.0   \n",
       "2  Direct Traffic           No          No          1          2.0   \n",
       "3  Direct Traffic           No          No          0          1.0   \n",
       "4          Google           No          No          1          2.0   \n",
       "\n",
       "   Total Time Spent on Website  Page Views Per Visit  ...  \\\n",
       "0                            0                   0.0  ...   \n",
       "1                          674                   2.5  ...   \n",
       "2                         1532                   2.0  ...   \n",
       "3                          305                   1.0  ...   \n",
       "4                         1428                   1.0  ...   \n",
       "\n",
       "  Get updates on DM Content    Lead Profile    City  \\\n",
       "0                        No          Select  Select   \n",
       "1                        No          Select  Select   \n",
       "2                        No  Potential Lead  Mumbai   \n",
       "3                        No          Select  Mumbai   \n",
       "4                        No          Select  Mumbai   \n",
       "\n",
       "  Asymmetrique Activity Index Asymmetrique Profile Index  \\\n",
       "0                   02.Medium                  02.Medium   \n",
       "1                   02.Medium                  02.Medium   \n",
       "2                   02.Medium                    01.High   \n",
       "3                   02.Medium                    01.High   \n",
       "4                   02.Medium                    01.High   \n",
       "\n",
       "  Asymmetrique Activity Score Asymmetrique Profile Score  \\\n",
       "0                        15.0                       15.0   \n",
       "1                        15.0                       15.0   \n",
       "2                        14.0                       20.0   \n",
       "3                        13.0                       17.0   \n",
       "4                        15.0                       18.0   \n",
       "\n",
       "  I agree to pay the amount through cheque  \\\n",
       "0                                       No   \n",
       "1                                       No   \n",
       "2                                       No   \n",
       "3                                       No   \n",
       "4                                       No   \n",
       "\n",
       "  A free copy of Mastering The Interview Last Notable Activity  \n",
       "0                                     No              Modified  \n",
       "1                                     No          Email Opened  \n",
       "2                                    Yes          Email Opened  \n",
       "3                                     No              Modified  \n",
       "4                                     No              Modified  \n",
       "\n",
       "[5 rows x 37 columns]"
      ]
     },
     "execution_count": 4,
     "metadata": {},
     "output_type": "execute_result"
    }
   ],
   "source": [
    "leads.head()"
   ]
  },
  {
   "cell_type": "code",
   "execution_count": 5,
   "id": "26773608-8248-4e79-8c1a-45a500c21d42",
   "metadata": {},
   "outputs": [
    {
     "data": {
      "text/plain": [
       "(9240, 37)"
      ]
     },
     "execution_count": 5,
     "metadata": {},
     "output_type": "execute_result"
    }
   ],
   "source": [
    "leads.shape"
   ]
  },
  {
   "cell_type": "code",
   "execution_count": 6,
   "id": "6a0433bc-50f3-451b-9e2b-60db4466dc0c",
   "metadata": {},
   "outputs": [
    {
     "data": {
      "text/plain": [
       "Index(['Prospect ID', 'Lead Number', 'Lead Origin', 'Lead Source',\n",
       "       'Do Not Email', 'Do Not Call', 'Converted', 'TotalVisits',\n",
       "       'Total Time Spent on Website', 'Page Views Per Visit', 'Last Activity',\n",
       "       'Country', 'Specialization', 'How did you hear about X Education',\n",
       "       'What is your current occupation',\n",
       "       'What matters most to you in choosing a course', 'Search', 'Magazine',\n",
       "       'Newspaper Article', 'X Education Forums', 'Newspaper',\n",
       "       'Digital Advertisement', 'Through Recommendations',\n",
       "       'Receive More Updates About Our Courses', 'Tags', 'Lead Quality',\n",
       "       'Update me on Supply Chain Content', 'Get updates on DM Content',\n",
       "       'Lead Profile', 'City', 'Asymmetrique Activity Index',\n",
       "       'Asymmetrique Profile Index', 'Asymmetrique Activity Score',\n",
       "       'Asymmetrique Profile Score',\n",
       "       'I agree to pay the amount through cheque',\n",
       "       'A free copy of Mastering The Interview', 'Last Notable Activity'],\n",
       "      dtype='object')"
      ]
     },
     "execution_count": 6,
     "metadata": {},
     "output_type": "execute_result"
    }
   ],
   "source": [
    "leads.columns"
   ]
  },
  {
   "cell_type": "code",
   "execution_count": 7,
   "id": "79af0154-186e-4f0b-9366-a0a71dde5ec1",
   "metadata": {},
   "outputs": [
    {
     "data": {
      "text/html": [
       "<div>\n",
       "<style scoped>\n",
       "    .dataframe tbody tr th:only-of-type {\n",
       "        vertical-align: middle;\n",
       "    }\n",
       "\n",
       "    .dataframe tbody tr th {\n",
       "        vertical-align: top;\n",
       "    }\n",
       "\n",
       "    .dataframe thead th {\n",
       "        text-align: right;\n",
       "    }\n",
       "</style>\n",
       "<table border=\"1\" class=\"dataframe\">\n",
       "  <thead>\n",
       "    <tr style=\"text-align: right;\">\n",
       "      <th></th>\n",
       "      <th>Lead Number</th>\n",
       "      <th>Converted</th>\n",
       "      <th>TotalVisits</th>\n",
       "      <th>Total Time Spent on Website</th>\n",
       "      <th>Page Views Per Visit</th>\n",
       "      <th>Asymmetrique Activity Score</th>\n",
       "      <th>Asymmetrique Profile Score</th>\n",
       "    </tr>\n",
       "  </thead>\n",
       "  <tbody>\n",
       "    <tr>\n",
       "      <th>count</th>\n",
       "      <td>9240.000000</td>\n",
       "      <td>9240.000000</td>\n",
       "      <td>9103.000000</td>\n",
       "      <td>9240.000000</td>\n",
       "      <td>9103.000000</td>\n",
       "      <td>5022.000000</td>\n",
       "      <td>5022.000000</td>\n",
       "    </tr>\n",
       "    <tr>\n",
       "      <th>mean</th>\n",
       "      <td>617188.435606</td>\n",
       "      <td>0.385390</td>\n",
       "      <td>3.445238</td>\n",
       "      <td>487.698268</td>\n",
       "      <td>2.362820</td>\n",
       "      <td>14.306252</td>\n",
       "      <td>16.344883</td>\n",
       "    </tr>\n",
       "    <tr>\n",
       "      <th>std</th>\n",
       "      <td>23405.995698</td>\n",
       "      <td>0.486714</td>\n",
       "      <td>4.854853</td>\n",
       "      <td>548.021466</td>\n",
       "      <td>2.161418</td>\n",
       "      <td>1.386694</td>\n",
       "      <td>1.811395</td>\n",
       "    </tr>\n",
       "    <tr>\n",
       "      <th>min</th>\n",
       "      <td>579533.000000</td>\n",
       "      <td>0.000000</td>\n",
       "      <td>0.000000</td>\n",
       "      <td>0.000000</td>\n",
       "      <td>0.000000</td>\n",
       "      <td>7.000000</td>\n",
       "      <td>11.000000</td>\n",
       "    </tr>\n",
       "    <tr>\n",
       "      <th>25%</th>\n",
       "      <td>596484.500000</td>\n",
       "      <td>0.000000</td>\n",
       "      <td>1.000000</td>\n",
       "      <td>12.000000</td>\n",
       "      <td>1.000000</td>\n",
       "      <td>14.000000</td>\n",
       "      <td>15.000000</td>\n",
       "    </tr>\n",
       "    <tr>\n",
       "      <th>50%</th>\n",
       "      <td>615479.000000</td>\n",
       "      <td>0.000000</td>\n",
       "      <td>3.000000</td>\n",
       "      <td>248.000000</td>\n",
       "      <td>2.000000</td>\n",
       "      <td>14.000000</td>\n",
       "      <td>16.000000</td>\n",
       "    </tr>\n",
       "    <tr>\n",
       "      <th>75%</th>\n",
       "      <td>637387.250000</td>\n",
       "      <td>1.000000</td>\n",
       "      <td>5.000000</td>\n",
       "      <td>936.000000</td>\n",
       "      <td>3.000000</td>\n",
       "      <td>15.000000</td>\n",
       "      <td>18.000000</td>\n",
       "    </tr>\n",
       "    <tr>\n",
       "      <th>max</th>\n",
       "      <td>660737.000000</td>\n",
       "      <td>1.000000</td>\n",
       "      <td>251.000000</td>\n",
       "      <td>2272.000000</td>\n",
       "      <td>55.000000</td>\n",
       "      <td>18.000000</td>\n",
       "      <td>20.000000</td>\n",
       "    </tr>\n",
       "  </tbody>\n",
       "</table>\n",
       "</div>"
      ],
      "text/plain": [
       "         Lead Number    Converted  TotalVisits  Total Time Spent on Website  \\\n",
       "count    9240.000000  9240.000000  9103.000000                  9240.000000   \n",
       "mean   617188.435606     0.385390     3.445238                   487.698268   \n",
       "std     23405.995698     0.486714     4.854853                   548.021466   \n",
       "min    579533.000000     0.000000     0.000000                     0.000000   \n",
       "25%    596484.500000     0.000000     1.000000                    12.000000   \n",
       "50%    615479.000000     0.000000     3.000000                   248.000000   \n",
       "75%    637387.250000     1.000000     5.000000                   936.000000   \n",
       "max    660737.000000     1.000000   251.000000                  2272.000000   \n",
       "\n",
       "       Page Views Per Visit  Asymmetrique Activity Score  \\\n",
       "count           9103.000000                  5022.000000   \n",
       "mean               2.362820                    14.306252   \n",
       "std                2.161418                     1.386694   \n",
       "min                0.000000                     7.000000   \n",
       "25%                1.000000                    14.000000   \n",
       "50%                2.000000                    14.000000   \n",
       "75%                3.000000                    15.000000   \n",
       "max               55.000000                    18.000000   \n",
       "\n",
       "       Asymmetrique Profile Score  \n",
       "count                 5022.000000  \n",
       "mean                    16.344883  \n",
       "std                      1.811395  \n",
       "min                     11.000000  \n",
       "25%                     15.000000  \n",
       "50%                     16.000000  \n",
       "75%                     18.000000  \n",
       "max                     20.000000  "
      ]
     },
     "execution_count": 7,
     "metadata": {},
     "output_type": "execute_result"
    }
   ],
   "source": [
    "leads.describe()"
   ]
  },
  {
   "cell_type": "code",
   "execution_count": 8,
   "id": "760d7687-a766-4fa4-96ec-e204bab29872",
   "metadata": {},
   "outputs": [
    {
     "name": "stdout",
     "output_type": "stream",
     "text": [
      "<class 'pandas.core.frame.DataFrame'>\n",
      "RangeIndex: 9240 entries, 0 to 9239\n",
      "Data columns (total 37 columns):\n",
      " #   Column                                         Non-Null Count  Dtype  \n",
      "---  ------                                         --------------  -----  \n",
      " 0   Prospect ID                                    9240 non-null   object \n",
      " 1   Lead Number                                    9240 non-null   int64  \n",
      " 2   Lead Origin                                    9240 non-null   object \n",
      " 3   Lead Source                                    9204 non-null   object \n",
      " 4   Do Not Email                                   9240 non-null   object \n",
      " 5   Do Not Call                                    9240 non-null   object \n",
      " 6   Converted                                      9240 non-null   int64  \n",
      " 7   TotalVisits                                    9103 non-null   float64\n",
      " 8   Total Time Spent on Website                    9240 non-null   int64  \n",
      " 9   Page Views Per Visit                           9103 non-null   float64\n",
      " 10  Last Activity                                  9137 non-null   object \n",
      " 11  Country                                        6779 non-null   object \n",
      " 12  Specialization                                 7802 non-null   object \n",
      " 13  How did you hear about X Education             7033 non-null   object \n",
      " 14  What is your current occupation                6550 non-null   object \n",
      " 15  What matters most to you in choosing a course  6531 non-null   object \n",
      " 16  Search                                         9240 non-null   object \n",
      " 17  Magazine                                       9240 non-null   object \n",
      " 18  Newspaper Article                              9240 non-null   object \n",
      " 19  X Education Forums                             9240 non-null   object \n",
      " 20  Newspaper                                      9240 non-null   object \n",
      " 21  Digital Advertisement                          9240 non-null   object \n",
      " 22  Through Recommendations                        9240 non-null   object \n",
      " 23  Receive More Updates About Our Courses         9240 non-null   object \n",
      " 24  Tags                                           5887 non-null   object \n",
      " 25  Lead Quality                                   4473 non-null   object \n",
      " 26  Update me on Supply Chain Content              9240 non-null   object \n",
      " 27  Get updates on DM Content                      9240 non-null   object \n",
      " 28  Lead Profile                                   6531 non-null   object \n",
      " 29  City                                           7820 non-null   object \n",
      " 30  Asymmetrique Activity Index                    5022 non-null   object \n",
      " 31  Asymmetrique Profile Index                     5022 non-null   object \n",
      " 32  Asymmetrique Activity Score                    5022 non-null   float64\n",
      " 33  Asymmetrique Profile Score                     5022 non-null   float64\n",
      " 34  I agree to pay the amount through cheque       9240 non-null   object \n",
      " 35  A free copy of Mastering The Interview         9240 non-null   object \n",
      " 36  Last Notable Activity                          9240 non-null   object \n",
      "dtypes: float64(4), int64(3), object(30)\n",
      "memory usage: 2.6+ MB\n"
     ]
    }
   ],
   "source": [
    "leads.info()"
   ]
  },
  {
   "cell_type": "markdown",
   "id": "971ac756-8466-430c-9e38-4dcedec4c091",
   "metadata": {},
   "source": [
    "## Data preparation and Cleaning"
   ]
  },
  {
   "cell_type": "code",
   "execution_count": 10,
   "id": "f7a03304-ccf8-426b-904f-ab5e3aaeecb3",
   "metadata": {},
   "outputs": [
    {
     "data": {
      "text/plain": [
       "Lead Quality                                     4767\n",
       "Asymmetrique Activity Index                      4218\n",
       "Asymmetrique Profile Score                       4218\n",
       "Asymmetrique Activity Score                      4218\n",
       "Asymmetrique Profile Index                       4218\n",
       "Tags                                             3353\n",
       "Lead Profile                                     2709\n",
       "What matters most to you in choosing a course    2709\n",
       "What is your current occupation                  2690\n",
       "Country                                          2461\n",
       "How did you hear about X Education               2207\n",
       "Specialization                                   1438\n",
       "City                                             1420\n",
       "Page Views Per Visit                              137\n",
       "TotalVisits                                       137\n",
       "Last Activity                                     103\n",
       "Lead Source                                        36\n",
       "Receive More Updates About Our Courses              0\n",
       "I agree to pay the amount through cheque            0\n",
       "Get updates on DM Content                           0\n",
       "Update me on Supply Chain Content                   0\n",
       "A free copy of Mastering The Interview              0\n",
       "Prospect ID                                         0\n",
       "Newspaper Article                                   0\n",
       "Through Recommendations                             0\n",
       "Digital Advertisement                               0\n",
       "Newspaper                                           0\n",
       "X Education Forums                                  0\n",
       "Lead Number                                         0\n",
       "Magazine                                            0\n",
       "Search                                              0\n",
       "Total Time Spent on Website                         0\n",
       "Converted                                           0\n",
       "Do Not Call                                         0\n",
       "Do Not Email                                        0\n",
       "Lead Origin                                         0\n",
       "Last Notable Activity                               0\n",
       "dtype: int64"
      ]
     },
     "execution_count": 10,
     "metadata": {},
     "output_type": "execute_result"
    }
   ],
   "source": [
    "# finding out if null values exists in the dataset and sorting them by column that has the highest null values.\n",
    "leads.isnull().sum().sort_values(ascending=False)"
   ]
  },
  {
   "cell_type": "code",
   "execution_count": 11,
   "id": "c5e0b931-5508-40ba-88fb-671b34ed3ef8",
   "metadata": {},
   "outputs": [
    {
     "data": {
      "text/plain": [
       "Mumbai                         3222\n",
       "Select                         2249\n",
       "Thane & Outskirts               752\n",
       "Other Cities                    686\n",
       "Other Cities of Maharashtra     457\n",
       "Other Metro Cities              380\n",
       "Tier II Cities                   74\n",
       "Name: City, dtype: int64"
      ]
     },
     "execution_count": 11,
     "metadata": {},
     "output_type": "execute_result"
    }
   ],
   "source": [
    "leads['City'].value_counts()"
   ]
  },
  {
   "cell_type": "code",
   "execution_count": 12,
   "id": "93ec2a9b-8249-4f06-b305-dcb291a1acc2",
   "metadata": {},
   "outputs": [
    {
     "data": {
      "text/plain": [
       "Mumbai                         3222\n",
       "Select                         2249\n",
       "NaN                            1420\n",
       "Thane & Outskirts               752\n",
       "Other Cities                    686\n",
       "Other Cities of Maharashtra     457\n",
       "Other Metro Cities              380\n",
       "Tier II Cities                   74\n",
       "Name: City, dtype: int64"
      ]
     },
     "execution_count": 12,
     "metadata": {},
     "output_type": "execute_result"
    }
   ],
   "source": [
    "leads['City'].value_counts(dropna=False)"
   ]
  },
  {
   "cell_type": "code",
   "execution_count": 13,
   "id": "194863b4-34bd-4b69-a648-7066b61a2013",
   "metadata": {},
   "outputs": [
    {
     "data": {
      "text/plain": [
       "India                   6492\n",
       "NaN                     2461\n",
       "United States             69\n",
       "United Arab Emirates      53\n",
       "Singapore                 24\n",
       "Saudi Arabia              21\n",
       "United Kingdom            15\n",
       "Australia                 13\n",
       "Qatar                     10\n",
       "Bahrain                    7\n",
       "Hong Kong                  7\n",
       "Oman                       6\n",
       "France                     6\n",
       "unknown                    5\n",
       "Kuwait                     4\n",
       "South Africa               4\n",
       "Canada                     4\n",
       "Nigeria                    4\n",
       "Germany                    4\n",
       "Sweden                     3\n",
       "Philippines                2\n",
       "Uganda                     2\n",
       "Italy                      2\n",
       "Bangladesh                 2\n",
       "Netherlands                2\n",
       "Asia/Pacific Region        2\n",
       "China                      2\n",
       "Belgium                    2\n",
       "Ghana                      2\n",
       "Kenya                      1\n",
       "Sri Lanka                  1\n",
       "Tanzania                   1\n",
       "Malaysia                   1\n",
       "Liberia                    1\n",
       "Switzerland                1\n",
       "Denmark                    1\n",
       "Russia                     1\n",
       "Vietnam                    1\n",
       "Indonesia                  1\n",
       "Name: Country, dtype: int64"
      ]
     },
     "execution_count": 13,
     "metadata": {},
     "output_type": "execute_result"
    }
   ],
   "source": [
    "leads['Country'].value_counts(dropna=False)"
   ]
  },
  {
   "cell_type": "code",
   "execution_count": 16,
   "id": "2ae538b9-b371-47e2-8ce0-9ee99a5f31f1",
   "metadata": {},
   "outputs": [],
   "source": [
    "# Dropping 'City' and 'Country' columns as we will not be needing city or country specific lead conversion.\n",
    "leads.drop(['City'], axis = 1, inplace = True)"
   ]
  },
  {
   "cell_type": "code",
   "execution_count": 17,
   "id": "28403817-59e5-4326-99fa-e1fc0b7e86b6",
   "metadata": {},
   "outputs": [],
   "source": [
    "leads.drop(['Country'], axis = 1, inplace = True)"
   ]
  },
  {
   "cell_type": "code",
   "execution_count": 20,
   "id": "3f1d203f-7880-4429-934d-d406b913b451",
   "metadata": {},
   "outputs": [
    {
     "name": "stdout",
     "output_type": "stream",
     "text": [
      "<class 'pandas.core.frame.DataFrame'>\n",
      "RangeIndex: 9240 entries, 0 to 9239\n",
      "Data columns (total 35 columns):\n",
      " #   Column                                         Non-Null Count  Dtype  \n",
      "---  ------                                         --------------  -----  \n",
      " 0   Prospect ID                                    9240 non-null   object \n",
      " 1   Lead Number                                    9240 non-null   int64  \n",
      " 2   Lead Origin                                    9240 non-null   object \n",
      " 3   Lead Source                                    9204 non-null   object \n",
      " 4   Do Not Email                                   9240 non-null   object \n",
      " 5   Do Not Call                                    9240 non-null   object \n",
      " 6   Converted                                      9240 non-null   int64  \n",
      " 7   TotalVisits                                    9103 non-null   float64\n",
      " 8   Total Time Spent on Website                    9240 non-null   int64  \n",
      " 9   Page Views Per Visit                           9103 non-null   float64\n",
      " 10  Last Activity                                  9137 non-null   object \n",
      " 11  Specialization                                 7802 non-null   object \n",
      " 12  How did you hear about X Education             7033 non-null   object \n",
      " 13  What is your current occupation                6550 non-null   object \n",
      " 14  What matters most to you in choosing a course  6531 non-null   object \n",
      " 15  Search                                         9240 non-null   object \n",
      " 16  Magazine                                       9240 non-null   object \n",
      " 17  Newspaper Article                              9240 non-null   object \n",
      " 18  X Education Forums                             9240 non-null   object \n",
      " 19  Newspaper                                      9240 non-null   object \n",
      " 20  Digital Advertisement                          9240 non-null   object \n",
      " 21  Through Recommendations                        9240 non-null   object \n",
      " 22  Receive More Updates About Our Courses         9240 non-null   object \n",
      " 23  Tags                                           5887 non-null   object \n",
      " 24  Lead Quality                                   4473 non-null   object \n",
      " 25  Update me on Supply Chain Content              9240 non-null   object \n",
      " 26  Get updates on DM Content                      9240 non-null   object \n",
      " 27  Lead Profile                                   6531 non-null   object \n",
      " 28  Asymmetrique Activity Index                    5022 non-null   object \n",
      " 29  Asymmetrique Profile Index                     5022 non-null   object \n",
      " 30  Asymmetrique Activity Score                    5022 non-null   float64\n",
      " 31  Asymmetrique Profile Score                     5022 non-null   float64\n",
      " 32  I agree to pay the amount through cheque       9240 non-null   object \n",
      " 33  A free copy of Mastering The Interview         9240 non-null   object \n",
      " 34  Last Notable Activity                          9240 non-null   object \n",
      "dtypes: float64(4), int64(3), object(28)\n",
      "memory usage: 2.5+ MB\n"
     ]
    }
   ],
   "source": [
    "# checking if the columns have been dropped.\n",
    "leads.info()"
   ]
  },
  {
   "cell_type": "code",
   "execution_count": 21,
   "id": "1a81288c-adbc-455b-96f5-4aae5d86f003",
   "metadata": {},
   "outputs": [
    {
     "data": {
      "text/plain": [
       "Lead Quality                                     4767\n",
       "Asymmetrique Activity Index                      4218\n",
       "Asymmetrique Profile Score                       4218\n",
       "Asymmetrique Activity Score                      4218\n",
       "Asymmetrique Profile Index                       4218\n",
       "Tags                                             3353\n",
       "Lead Profile                                     2709\n",
       "What matters most to you in choosing a course    2709\n",
       "What is your current occupation                  2690\n",
       "How did you hear about X Education               2207\n",
       "Specialization                                   1438\n",
       "TotalVisits                                       137\n",
       "Page Views Per Visit                              137\n",
       "Last Activity                                     103\n",
       "Lead Source                                        36\n",
       "Receive More Updates About Our Courses              0\n",
       "I agree to pay the amount through cheque            0\n",
       "Get updates on DM Content                           0\n",
       "Update me on Supply Chain Content                   0\n",
       "A free copy of Mastering The Interview              0\n",
       "Prospect ID                                         0\n",
       "Newspaper Article                                   0\n",
       "Through Recommendations                             0\n",
       "Digital Advertisement                               0\n",
       "Newspaper                                           0\n",
       "X Education Forums                                  0\n",
       "Lead Number                                         0\n",
       "Magazine                                            0\n",
       "Search                                              0\n",
       "Total Time Spent on Website                         0\n",
       "Converted                                           0\n",
       "Do Not Call                                         0\n",
       "Do Not Email                                        0\n",
       "Lead Origin                                         0\n",
       "Last Notable Activity                               0\n",
       "dtype: int64"
      ]
     },
     "execution_count": 21,
     "metadata": {},
     "output_type": "execute_result"
    }
   ],
   "source": [
    "# checking null values once again.\n",
    "leads.isnull().sum().sort_values(ascending=False)"
   ]
  },
  {
   "cell_type": "code",
   "execution_count": 22,
   "id": "c40348da-3afb-44f6-846b-8e05b58ce968",
   "metadata": {},
   "outputs": [],
   "source": [
    "## Dropping columns with more than 3000 null values as lowering it more than 3000 may remove important columns"
   ]
  },
  {
   "cell_type": "code",
   "execution_count": 23,
   "id": "12f60fc6-4806-408d-936c-b4f9e3bf8912",
   "metadata": {},
   "outputs": [],
   "source": [
    "for col in leads.columns:\n",
    "    if leads[col].isnull().sum()>3000:\n",
    "        leads.drop(col, axis=1,inplace=True)"
   ]
  },
  {
   "cell_type": "code",
   "execution_count": 25,
   "id": "59224c0d-79e8-479f-87d1-45abfb69282e",
   "metadata": {},
   "outputs": [
    {
     "data": {
      "text/plain": [
       "What matters most to you in choosing a course    2709\n",
       "Lead Profile                                     2709\n",
       "What is your current occupation                  2690\n",
       "How did you hear about X Education               2207\n",
       "Specialization                                   1438\n",
       "TotalVisits                                       137\n",
       "Page Views Per Visit                              137\n",
       "Last Activity                                     103\n",
       "Lead Source                                        36\n",
       "Get updates on DM Content                           0\n",
       "Update me on Supply Chain Content                   0\n",
       "X Education Forums                                  0\n",
       "I agree to pay the amount through cheque            0\n",
       "A free copy of Mastering The Interview              0\n",
       "Receive More Updates About Our Courses              0\n",
       "Through Recommendations                             0\n",
       "Digital Advertisement                               0\n",
       "Newspaper                                           0\n",
       "Prospect ID                                         0\n",
       "Newspaper Article                                   0\n",
       "Magazine                                            0\n",
       "Search                                              0\n",
       "Lead Number                                         0\n",
       "Total Time Spent on Website                         0\n",
       "Converted                                           0\n",
       "Do Not Call                                         0\n",
       "Do Not Email                                        0\n",
       "Lead Origin                                         0\n",
       "Last Notable Activity                               0\n",
       "dtype: int64"
      ]
     },
     "execution_count": 25,
     "metadata": {},
     "output_type": "execute_result"
    }
   ],
   "source": [
    "# Checking which columns were removed.\n",
    "leads.isnull().sum().sort_values(ascending=False)"
   ]
  },
  {
   "cell_type": "markdown",
   "id": "e870859b-4a1d-4c3e-a2cd-afab960b2154",
   "metadata": {},
   "source": [
    "### Filtering \"Select\" values in columns."
   ]
  },
  {
   "cell_type": "code",
   "execution_count": null,
   "id": "0fec3ee7-db92-4ef6-8745-72777f6ffc44",
   "metadata": {},
   "outputs": [],
   "source": [
    "# Finding out which columns have 'Select' as a value."
   ]
  },
  {
   "cell_type": "code",
   "execution_count": 30,
   "id": "fcbda8c0-eb97-418a-a344-ba4942894a27",
   "metadata": {},
   "outputs": [
    {
     "name": "stdout",
     "output_type": "stream",
     "text": [
      "Columns containing 'Select' as a value:\n",
      "['Specialization', 'How did you hear about X Education', 'Lead Profile']\n"
     ]
    }
   ],
   "source": [
    "columns_with_select = leads.columns[leads.isin(['Select']).any()].tolist()\n",
    "print(\"Columns containing 'Select' as a value:\")\n",
    "print(columns_with_select)"
   ]
  },
  {
   "cell_type": "code",
   "execution_count": 45,
   "id": "2a3f9183-8d0a-4b79-9d81-f9a16c8743e0",
   "metadata": {},
   "outputs": [
    {
     "data": {
      "text/plain": [
       "Select                         4146\n",
       "Potential Lead                 1613\n",
       "Other Leads                     487\n",
       "Student of SomeSchool           241\n",
       "Lateral Student                  24\n",
       "Dual Specialization Student      20\n",
       "Name: Lead Profile, dtype: int64"
      ]
     },
     "execution_count": 45,
     "metadata": {},
     "output_type": "execute_result"
    }
   ],
   "source": [
    "leads['Lead Profile'].astype('category').value_counts()"
   ]
  },
  {
   "cell_type": "code",
   "execution_count": 46,
   "id": "401c40d4-9bca-4ea0-9f03-f563f32c2981",
   "metadata": {},
   "outputs": [
    {
     "data": {
      "text/plain": [
       "Select                               1942\n",
       "Finance Management                    976\n",
       "Human Resource Management             848\n",
       "Marketing Management                  838\n",
       "Operations Management                 503\n",
       "Business Administration               403\n",
       "IT Projects Management                366\n",
       "Supply Chain Management               349\n",
       "Banking, Investment And Insurance     338\n",
       "Media and Advertising                 203\n",
       "Travel and Tourism                    203\n",
       "International Business                178\n",
       "Healthcare Management                 159\n",
       "Hospitality Management                114\n",
       "E-COMMERCE                            112\n",
       "Retail Management                     100\n",
       "Rural and Agribusiness                 73\n",
       "E-Business                             57\n",
       "Services Excellence                    40\n",
       "Name: Specialization, dtype: int64"
      ]
     },
     "execution_count": 46,
     "metadata": {},
     "output_type": "execute_result"
    }
   ],
   "source": [
    "leads['Specialization'].astype('category').value_counts()"
   ]
  },
  {
   "cell_type": "code",
   "execution_count": 48,
   "id": "1ea0e73f-1d91-4d34-a786-932c8d6a6d19",
   "metadata": {},
   "outputs": [
    {
     "data": {
      "text/plain": [
       "Select                   5043\n",
       "Online Search             808\n",
       "Word Of Mouth             348\n",
       "Student of SomeSchool     310\n",
       "Other                     186\n",
       "Multiple Sources          152\n",
       "Advertisements             70\n",
       "Social Media               67\n",
       "Email                      26\n",
       "SMS                        23\n",
       "Name: How did you hear about X Education, dtype: int64"
      ]
     },
     "execution_count": 48,
     "metadata": {},
     "output_type": "execute_result"
    }
   ],
   "source": [
    "leads['How did you hear about X Education'].astype('category').value_counts()"
   ]
  },
  {
   "cell_type": "code",
   "execution_count": null,
   "id": "7a92be08-0484-4675-a4c7-34661aa188b2",
   "metadata": {},
   "outputs": [],
   "source": []
  },
  {
   "cell_type": "code",
   "execution_count": 43,
   "id": "691001f2-5c44-47a2-a792-c802475d2719",
   "metadata": {},
   "outputs": [],
   "source": [
    "def countplot(x, fig):\n",
    "    plt.subplot(2,2, fig)\n",
    "    sns.countplot(leads[x])\n",
    "    plt.title('Count across'+' '+ x, size = 16)\n",
    "    plt.xlabel(x,size = 14)\n",
    "    plt.xticks(rotation = 90)\n",
    "# This function takes column name, and position as input and returns a seaborn countplot  \n"
   ]
  },
  {
   "cell_type": "code",
   "execution_count": 44,
   "id": "b38a43d4-56c1-41bf-9f44-808df02e239f",
   "metadata": {},
   "outputs": [
    {
     "data": {
      "image/png": "[encoded data removed]",
      "text/plain": [
       "<Figure size 1500x1000 with 3 Axes>"
      ]
     },
     "metadata": {},
     "output_type": "display_data"
    }
   ],
   "source": [
    "\n",
    "plt.figure(figsize=(15,10)) ## stating figure size ~ width, height\n",
    "countplot('How did you hear about X Education',1)\n",
    "countplot('Lead Profile',2)\n",
    "countplot('Specialization',3)\n",
    "\n",
    "\n",
    "plt.tight_layout()"
   ]
  },
  {
   "cell_type": "code",
   "execution_count": 78,
   "id": "071c7bd9-d96b-4a77-a40d-6d5bcae036a5",
   "metadata": {},
   "outputs": [],
   "source": [
    "leads.drop(['Lead Profile', 'How did you hear about X Education'], axis = 1, inplace = True)"
   ]
  },
  {
   "cell_type": "code",
   "execution_count": 79,
   "id": "2e62e6ff-ebe6-4650-9c54-811df848daf5",
   "metadata": {},
   "outputs": [
    {
     "name": "stdout",
     "output_type": "stream",
     "text": [
      "000104b9-23e4-4ddc-8caa-8629fe8ad7f4    1\n",
      "a7a319ea-b6ae-4c6b-afc5-183b933d10b5    1\n",
      "aa27a0af-eeab-4007-a770-fa8a93fa53c8    1\n",
      "aa30ebb2-8476-41ce-9258-37cc025110d3    1\n",
      "aa405742-17ac-4c65-b19e-ab91c241cc53    1\n",
      "                                       ..\n",
      "539eb309-df36-4a89-ac58-6d3651393910    1\n",
      "539ffa32-1be7-4fe1-b04c-faf1bab763cf    1\n",
      "53aabd84-5dcc-4299-bbe3-62f3764b07b1    1\n",
      "53ac14bd-2bb2-4315-a21c-94562d1b6b2d    1\n",
      "fffb0e5e-9f92-4017-9f42-781a69da4154    1\n",
      "Name: Prospect ID, Length: 9240, dtype: int64\n",
      "___________________________________________________\n",
      "579533    1\n",
      "629593    1\n",
      "630390    1\n",
      "630403    1\n",
      "630405    1\n",
      "         ..\n",
      "602534    1\n",
      "602540    1\n",
      "602557    1\n",
      "602561    1\n",
      "660737    1\n",
      "Name: Lead Number, Length: 9240, dtype: int64\n",
      "___________________________________________________\n",
      "Landing Page Submission    4886\n",
      "API                        3580\n",
      "Lead Add Form               718\n",
      "Lead Import                  55\n",
      "Quick Add Form                1\n",
      "Name: Lead Origin, dtype: int64\n",
      "___________________________________________________\n",
      "Google               2868\n",
      "Direct Traffic       2543\n",
      "Olark Chat           1755\n",
      "Organic Search       1154\n",
      "Reference             534\n",
      "Welingak Website      142\n",
      "Referral Sites        125\n",
      "Facebook               55\n",
      "bing                    6\n",
      "google                  5\n",
      "Click2call              4\n",
      "Press_Release           2\n",
      "Social Media            2\n",
      "Live Chat               2\n",
      "WeLearn                 1\n",
      "Pay per Click Ads       1\n",
      "NC_EDM                  1\n",
      "blog                    1\n",
      "testone                 1\n",
      "welearnblog_Home        1\n",
      "youtubechannel          1\n",
      "Name: Lead Source, dtype: int64\n",
      "___________________________________________________\n",
      "No     8506\n",
      "Yes     734\n",
      "Name: Do Not Email, dtype: int64\n",
      "___________________________________________________\n",
      "0    5679\n",
      "1    3561\n",
      "Name: Converted, dtype: int64\n",
      "___________________________________________________\n",
      "0.0      2189\n",
      "2.0      1680\n",
      "3.0      1306\n",
      "4.0      1120\n",
      "5.0       783\n",
      "6.0       466\n",
      "1.0       395\n",
      "7.0       309\n",
      "8.0       224\n",
      "9.0       164\n",
      "10.0      114\n",
      "11.0       86\n",
      "13.0       48\n",
      "12.0       45\n",
      "14.0       36\n",
      "16.0       21\n",
      "15.0       18\n",
      "17.0       16\n",
      "18.0       15\n",
      "20.0       12\n",
      "19.0        9\n",
      "23.0        6\n",
      "21.0        6\n",
      "24.0        5\n",
      "25.0        5\n",
      "27.0        5\n",
      "22.0        3\n",
      "26.0        2\n",
      "28.0        2\n",
      "29.0        2\n",
      "54.0        1\n",
      "141.0       1\n",
      "115.0       1\n",
      "74.0        1\n",
      "55.0        1\n",
      "30.0        1\n",
      "43.0        1\n",
      "42.0        1\n",
      "41.0        1\n",
      "32.0        1\n",
      "251.0       1\n",
      "Name: TotalVisits, dtype: int64\n",
      "___________________________________________________\n",
      "0       2193\n",
      "60        19\n",
      "75        18\n",
      "74        18\n",
      "127       18\n",
      "        ... \n",
      "1091       1\n",
      "1088       1\n",
      "1085       1\n",
      "1084       1\n",
      "2272       1\n",
      "Name: Total Time Spent on Website, Length: 1731, dtype: int64\n",
      "___________________________________________________\n",
      "0.0     2189\n",
      "2.0     1795\n",
      "3.0     1196\n",
      "4.0      896\n",
      "1.0      651\n",
      "        ... \n",
      "3.57       1\n",
      "3.8        1\n",
      "3.82       1\n",
      "3.83       1\n",
      "55.0       1\n",
      "Name: Page Views Per Visit, Length: 114, dtype: int64\n",
      "___________________________________________________\n",
      "Email Opened                    3437\n",
      "SMS Sent                        2745\n",
      "Olark Chat Conversation          973\n",
      "Page Visited on Website          640\n",
      "Converted to Lead                428\n",
      "Email Bounced                    326\n",
      "Email Link Clicked               267\n",
      "Form Submitted on Website        116\n",
      "Unreachable                       93\n",
      "Unsubscribed                      61\n",
      "Had a Phone Conversation          30\n",
      "Approached upfront                 9\n",
      "View in browser link Clicked       6\n",
      "Email Received                     2\n",
      "Email Marked Spam                  2\n",
      "Resubscribed to emails             1\n",
      "Visited Booth in Tradeshow         1\n",
      "Name: Last Activity, dtype: int64\n",
      "___________________________________________________\n",
      "Select                               1942\n",
      "Finance Management                    976\n",
      "Human Resource Management             848\n",
      "Marketing Management                  838\n",
      "Operations Management                 503\n",
      "Business Administration               403\n",
      "IT Projects Management                366\n",
      "Supply Chain Management               349\n",
      "Banking, Investment And Insurance     338\n",
      "Media and Advertising                 203\n",
      "Travel and Tourism                    203\n",
      "International Business                178\n",
      "Healthcare Management                 159\n",
      "Hospitality Management                114\n",
      "E-COMMERCE                            112\n",
      "Retail Management                     100\n",
      "Rural and Agribusiness                 73\n",
      "E-Business                             57\n",
      "Services Excellence                    40\n",
      "Name: Specialization, dtype: int64\n",
      "___________________________________________________\n",
      "Unemployed              5600\n",
      "Working Professional     706\n",
      "Student                  210\n",
      "Other                     16\n",
      "Housewife                 10\n",
      "Businessman                8\n",
      "Name: What is your current occupation, dtype: int64\n",
      "___________________________________________________\n",
      "No     6352\n",
      "Yes    2888\n",
      "Name: A free copy of Mastering The Interview, dtype: int64\n",
      "___________________________________________________\n",
      "Modified                        3407\n",
      "Email Opened                    2827\n",
      "SMS Sent                        2172\n",
      "Page Visited on Website          318\n",
      "Olark Chat Conversation          183\n",
      "Email Link Clicked               173\n",
      "Email Bounced                     60\n",
      "Unsubscribed                      47\n",
      "Unreachable                       32\n",
      "Had a Phone Conversation          14\n",
      "Email Marked Spam                  2\n",
      "Approached upfront                 1\n",
      "Email Received                     1\n",
      "Form Submitted on Website          1\n",
      "Resubscribed to emails             1\n",
      "View in browser link Clicked       1\n",
      "Name: Last Notable Activity, dtype: int64\n",
      "___________________________________________________\n"
     ]
    }
   ],
   "source": [
    "# checking the value counts of all the columns\n",
    "\n",
    "for c in leads:\n",
    "    print(leads[c].astype('category').value_counts())\n",
    "    print('___________________________________________________')\n"
   ]
  },
  {
   "cell_type": "markdown",
   "id": "628698ff-d8fd-423b-99b6-5c0a2047e1b6",
   "metadata": {},
   "source": [
    " We see that \n",
    " `Do Not Call`, `Search`, `Magazine`, `Newspaper Article`, `X Education Forums`, `Newspaper`, `Digital Advertisement`, `Through Recommendations`, `Receive More Updates About Our Courses`, `Update me on Supply Chain Content`, `Get updates on DM Content`, `I agree to pay the amount through cheque`.\n",
    " These columns  either have only one  value which is 'No' or the other values do not have any significant presence in the dataset."
   ]
  },
  {
   "cell_type": "code",
   "execution_count": 67,
   "id": "cc9cb567-3b5b-4a07-8bc1-3e9a521a2a42",
   "metadata": {},
   "outputs": [],
   "source": [
    "bkp_leads=leads"
   ]
  },
  {
   "cell_type": "code",
   "execution_count": 68,
   "id": "68c0504e-43dd-4e7a-b74c-aad0ad0c4865",
   "metadata": {},
   "outputs": [],
   "source": [
    "leads.drop(['Do Not Call', 'Search', 'Magazine', 'Newspaper Article', 'X Education Forums', 'Newspaper', \n",
    "            'Digital Advertisement', 'Through Recommendations', 'Receive More Updates About Our Courses', \n",
    "            'Update me on Supply Chain Content', 'Get updates on DM Content', \n",
    "            'I agree to pay the amount through cheque'], axis = 1, inplace = True)"
   ]
  },
  {
   "cell_type": "code",
   "execution_count": 80,
   "id": "3a8b42c7-64bb-483b-aed5-6f2379fc36da",
   "metadata": {},
   "outputs": [
    {
     "name": "stdout",
     "output_type": "stream",
     "text": [
      "<class 'pandas.core.frame.DataFrame'>\n",
      "RangeIndex: 9240 entries, 0 to 9239\n",
      "Data columns (total 14 columns):\n",
      " #   Column                                  Non-Null Count  Dtype  \n",
      "---  ------                                  --------------  -----  \n",
      " 0   Prospect ID                             9240 non-null   object \n",
      " 1   Lead Number                             9240 non-null   int64  \n",
      " 2   Lead Origin                             9240 non-null   object \n",
      " 3   Lead Source                             9204 non-null   object \n",
      " 4   Do Not Email                            9240 non-null   object \n",
      " 5   Converted                               9240 non-null   int64  \n",
      " 6   TotalVisits                             9103 non-null   float64\n",
      " 7   Total Time Spent on Website             9240 non-null   int64  \n",
      " 8   Page Views Per Visit                    9103 non-null   float64\n",
      " 9   Last Activity                           9137 non-null   object \n",
      " 10  Specialization                          7802 non-null   object \n",
      " 11  What is your current occupation         6550 non-null   object \n",
      " 12  A free copy of Mastering The Interview  9240 non-null   object \n",
      " 13  Last Notable Activity                   9240 non-null   object \n",
      "dtypes: float64(2), int64(3), object(9)\n",
      "memory usage: 1010.8+ KB\n"
     ]
    }
   ],
   "source": [
    "leads.info()"
   ]
  },
  {
   "cell_type": "code",
   "execution_count": null,
   "id": "10ad3349-5e20-4d18-a89f-e365f32379a7",
   "metadata": {},
   "outputs": [],
   "source": [
    "leads['What matters most to you in choosing a course'].astype('category').value_counts()"
   ]
  },
  {
   "cell_type": "markdown",
   "id": "f57f5738-f0d6-4648-b0cf-b9c756369525",
   "metadata": {},
   "source": [
    " Similarly \"What matters most to you in choosing a course\" columns also does not have much variations when it comes to the values that it holds"
   ]
  },
  {
   "cell_type": "code",
   "execution_count": 73,
   "id": "c6b7dbab-b06b-4ede-98f7-f0e8a0e50518",
   "metadata": {},
   "outputs": [],
   "source": [
    "leads.drop(['What matters most to you in choosing a course'], axis = 1, inplace=True)"
   ]
  },
  {
   "cell_type": "code",
   "execution_count": 82,
   "id": "05e1ad57-a17d-4574-8d55-9b0f496a60e3",
   "metadata": {},
   "outputs": [
    {
     "data": {
      "text/plain": [
       "What is your current occupation           2690\n",
       "Specialization                            1438\n",
       "TotalVisits                                137\n",
       "Page Views Per Visit                       137\n",
       "Last Activity                              103\n",
       "Lead Source                                 36\n",
       "Prospect ID                                  0\n",
       "Lead Number                                  0\n",
       "Lead Origin                                  0\n",
       "Do Not Email                                 0\n",
       "Converted                                    0\n",
       "Total Time Spent on Website                  0\n",
       "A free copy of Mastering The Interview       0\n",
       "Last Notable Activity                        0\n",
       "dtype: int64"
      ]
     },
     "execution_count": 82,
     "metadata": {},
     "output_type": "execute_result"
    }
   ],
   "source": [
    "#Checking what columns we have left\n",
    "leads.isnull().sum().sort_values(ascending=False)"
   ]
  },
  {
   "cell_type": "code",
   "execution_count": 76,
   "id": "87f88779-1730-4efc-bc57-dc0c7cb6bdfc",
   "metadata": {},
   "outputs": [
    {
     "data": {
      "text/plain": [
       "No     8506\n",
       "Yes     734\n",
       "Name: Do Not Email, dtype: int64"
      ]
     },
     "execution_count": 76,
     "metadata": {},
     "output_type": "execute_result"
    }
   ],
   "source": [
    "leads['Do Not Email'].astype('category').value_counts()"
   ]
  },
  {
   "cell_type": "markdown",
   "id": "932486c6-53b0-4dc5-83a1-43d8bc66f261",
   "metadata": {},
   "source": [
    "Although for the columns \"Do Not Email\", the number of \"No\"s are high, we may not want to delete it as \"Yes\" although being a smaller number, is not as small as the others "
   ]
  },
  {
   "cell_type": "code",
   "execution_count": 83,
   "id": "e2986e27-1540-42b3-910c-80b24bdf0659",
   "metadata": {},
   "outputs": [
    {
     "data": {
      "text/plain": [
       "What is your current occupation           2690\n",
       "Specialization                            1438\n",
       "TotalVisits                                137\n",
       "Page Views Per Visit                       137\n",
       "Last Activity                              103\n",
       "Lead Source                                 36\n",
       "Prospect ID                                  0\n",
       "Lead Number                                  0\n",
       "Lead Origin                                  0\n",
       "Do Not Email                                 0\n",
       "Converted                                    0\n",
       "Total Time Spent on Website                  0\n",
       "A free copy of Mastering The Interview       0\n",
       "Last Notable Activity                        0\n",
       "dtype: int64"
      ]
     },
     "execution_count": 83,
     "metadata": {},
     "output_type": "execute_result"
    }
   ],
   "source": [
    "# Checking the number of null values \n",
    "leads.isnull().sum().sort_values(ascending=False)"
   ]
  },
  {
   "cell_type": "code",
   "execution_count": 85,
   "id": "230203e5-f32b-456a-b9f4-643879cb5e05",
   "metadata": {},
   "outputs": [
    {
     "data": {
      "text/plain": [
       "Unemployed              5600\n",
       "NaN                     2690\n",
       "Working Professional     706\n",
       "Student                  210\n",
       "Other                     16\n",
       "Housewife                 10\n",
       "Businessman                8\n",
       "Name: What is your current occupation, dtype: int64"
      ]
     },
     "execution_count": 85,
     "metadata": {},
     "output_type": "execute_result"
    }
   ],
   "source": [
    "leads['What is your current occupation'].astype('category').value_counts(dropna=False)"
   ]
  },
  {
   "cell_type": "markdown",
   "id": "4b12f147-395b-4d82-b3ab-018bd92ec82e",
   "metadata": {},
   "source": [
    "Similarly, although the \"What is your current occupation\" has a lot of null values, it still has both higher and lower number of values that are of different types. So, it would be better to keep it for now. And also the Occupation Type can be a big factor in converstion rating."
   ]
  },
  {
   "cell_type": "code",
   "execution_count": 89,
   "id": "b477fb3d-ceb1-40e1-a586-25c5a0116804",
   "metadata": {},
   "outputs": [],
   "source": [
    "## Removing the NaN values so we can use the other values.\n",
    "leads = leads[~pd.isnull(leads['What is your current occupation'])]"
   ]
  },
  {
   "cell_type": "code",
   "execution_count": 90,
   "id": "7346b11e-3f4b-4cdc-87d4-94d2cbacfcb9",
   "metadata": {},
   "outputs": [
    {
     "data": {
      "text/plain": [
       "Unemployed              5600\n",
       "Working Professional     706\n",
       "Student                  210\n",
       "Other                     16\n",
       "Housewife                 10\n",
       "Businessman                8\n",
       "Name: What is your current occupation, dtype: int64"
      ]
     },
     "execution_count": 90,
     "metadata": {},
     "output_type": "execute_result"
    }
   ],
   "source": [
    "leads['What is your current occupation'].astype('category').value_counts(dropna=False)"
   ]
  },
  {
   "cell_type": "code",
   "execution_count": 91,
   "id": "295f8ea8-ede3-4260-be2d-75a5d86534c5",
   "metadata": {},
   "outputs": [
    {
     "data": {
      "text/plain": [
       "TotalVisits                               130\n",
       "Page Views Per Visit                      130\n",
       "Last Activity                             103\n",
       "Lead Source                                36\n",
       "Specialization                             18\n",
       "Prospect ID                                 0\n",
       "Lead Number                                 0\n",
       "Lead Origin                                 0\n",
       "Do Not Email                                0\n",
       "Converted                                   0\n",
       "Total Time Spent on Website                 0\n",
       "What is your current occupation             0\n",
       "A free copy of Mastering The Interview      0\n",
       "Last Notable Activity                       0\n",
       "dtype: int64"
      ]
     },
     "execution_count": 91,
     "metadata": {},
     "output_type": "execute_result"
    }
   ],
   "source": [
    "leads.isnull().sum().sort_values(ascending=False)"
   ]
  },
  {
   "cell_type": "markdown",
   "id": "2f962e5c-d33e-44ea-bbbc-8e377c07b60e",
   "metadata": {},
   "source": [
    "As we have still some null values left, we can just remove the null values from the columns themselves."
   ]
  },
  {
   "cell_type": "code",
   "execution_count": 92,
   "id": "01cd9020-7d7b-4065-a923-fc92df85ddb5",
   "metadata": {},
   "outputs": [
    {
     "data": {
      "text/plain": [
       "Lead Source                               29\n",
       "Specialization                            18\n",
       "Prospect ID                                0\n",
       "Lead Number                                0\n",
       "Lead Origin                                0\n",
       "Do Not Email                               0\n",
       "Converted                                  0\n",
       "TotalVisits                                0\n",
       "Total Time Spent on Website                0\n",
       "Page Views Per Visit                       0\n",
       "Last Activity                              0\n",
       "What is your current occupation            0\n",
       "A free copy of Mastering The Interview     0\n",
       "Last Notable Activity                      0\n",
       "dtype: int64"
      ]
     },
     "execution_count": 92,
     "metadata": {},
     "output_type": "execute_result"
    }
   ],
   "source": [
    "\n",
    "leads = leads[~pd.isnull(leads['TotalVisits'])]\n",
    "leads.isnull().sum().sort_values(ascending=False)"
   ]
  },
  {
   "cell_type": "code",
   "execution_count": 93,
   "id": "09bc3750-cdb3-4b9a-afcc-72fc10a9d465",
   "metadata": {},
   "outputs": [
    {
     "data": {
      "text/plain": [
       "Specialization                            18\n",
       "Prospect ID                                0\n",
       "Lead Number                                0\n",
       "Lead Origin                                0\n",
       "Lead Source                                0\n",
       "Do Not Email                               0\n",
       "Converted                                  0\n",
       "TotalVisits                                0\n",
       "Total Time Spent on Website                0\n",
       "Page Views Per Visit                       0\n",
       "Last Activity                              0\n",
       "What is your current occupation            0\n",
       "A free copy of Mastering The Interview     0\n",
       "Last Notable Activity                      0\n",
       "dtype: int64"
      ]
     },
     "execution_count": 93,
     "metadata": {},
     "output_type": "execute_result"
    }
   ],
   "source": [
    "leads = leads[~pd.isnull(leads['Lead Source'])]\n",
    "leads.isnull().sum().sort_values(ascending=False)"
   ]
  },
  {
   "cell_type": "code",
   "execution_count": 94,
   "id": "7e6629ea-3beb-48cf-95fb-6345853478af",
   "metadata": {},
   "outputs": [
    {
     "data": {
      "text/plain": [
       "Prospect ID                               0\n",
       "Lead Number                               0\n",
       "Lead Origin                               0\n",
       "Lead Source                               0\n",
       "Do Not Email                              0\n",
       "Converted                                 0\n",
       "TotalVisits                               0\n",
       "Total Time Spent on Website               0\n",
       "Page Views Per Visit                      0\n",
       "Last Activity                             0\n",
       "Specialization                            0\n",
       "What is your current occupation           0\n",
       "A free copy of Mastering The Interview    0\n",
       "Last Notable Activity                     0\n",
       "dtype: int64"
      ]
     },
     "execution_count": 94,
     "metadata": {},
     "output_type": "execute_result"
    }
   ],
   "source": [
    "leads = leads[~pd.isnull(leads['Specialization'])]\n",
    "leads.isnull().sum().sort_values(ascending=False)"
   ]
  },
  {
   "cell_type": "markdown",
   "id": "20236e7b-9d80-4c36-b16e-66acbb2de41c",
   "metadata": {},
   "source": [
    "Out dataset now has no null values. Let's check how many rows we have left."
   ]
  },
  {
   "cell_type": "code",
   "execution_count": 96,
   "id": "e72e2c6e-62af-4236-ae9f-8cde712fd311",
   "metadata": {},
   "outputs": [
    {
     "name": "stdout",
     "output_type": "stream",
     "text": [
      "6373\n",
      "68.97186147186147\n"
     ]
    }
   ],
   "source": [
    "\n",
    "print(len(leads.index))\n",
    "print(len(leads.index)/9240*100)  "
   ]
  },
  {
   "cell_type": "markdown",
   "id": "a7cf7f13-b244-4d27-a5e2-fead143504fb",
   "metadata": {},
   "source": [
    "So we have almost 69% of rows intact."
   ]
  },
  {
   "cell_type": "code",
   "execution_count": 100,
   "id": "55ba882a-2cf8-46cf-865e-4e847f6ce51b",
   "metadata": {},
   "outputs": [],
   "source": [
    "# Checking the Dataset again"
   ]
  },
  {
   "cell_type": "code",
   "execution_count": 97,
   "id": "96624bd0-2be1-43e0-bea3-6001a9324227",
   "metadata": {},
   "outputs": [
    {
     "data": {
      "text/html": [
       "<div>\n",
       "<style scoped>\n",
       "    .dataframe tbody tr th:only-of-type {\n",
       "        vertical-align: middle;\n",
       "    }\n",
       "\n",
       "    .dataframe tbody tr th {\n",
       "        vertical-align: top;\n",
       "    }\n",
       "\n",
       "    .dataframe thead th {\n",
       "        text-align: right;\n",
       "    }\n",
       "</style>\n",
       "<table border=\"1\" class=\"dataframe\">\n",
       "  <thead>\n",
       "    <tr style=\"text-align: right;\">\n",
       "      <th></th>\n",
       "      <th>Prospect ID</th>\n",
       "      <th>Lead Number</th>\n",
       "      <th>Lead Origin</th>\n",
       "      <th>Lead Source</th>\n",
       "      <th>Do Not Email</th>\n",
       "      <th>Converted</th>\n",
       "      <th>TotalVisits</th>\n",
       "      <th>Total Time Spent on Website</th>\n",
       "      <th>Page Views Per Visit</th>\n",
       "      <th>Last Activity</th>\n",
       "      <th>Specialization</th>\n",
       "      <th>What is your current occupation</th>\n",
       "      <th>A free copy of Mastering The Interview</th>\n",
       "      <th>Last Notable Activity</th>\n",
       "    </tr>\n",
       "  </thead>\n",
       "  <tbody>\n",
       "    <tr>\n",
       "      <th>0</th>\n",
       "      <td>7927b2df-8bba-4d29-b9a2-b6e0beafe620</td>\n",
       "      <td>660737</td>\n",
       "      <td>API</td>\n",
       "      <td>Olark Chat</td>\n",
       "      <td>No</td>\n",
       "      <td>0</td>\n",
       "      <td>0.0</td>\n",
       "      <td>0</td>\n",
       "      <td>0.0</td>\n",
       "      <td>Page Visited on Website</td>\n",
       "      <td>Select</td>\n",
       "      <td>Unemployed</td>\n",
       "      <td>No</td>\n",
       "      <td>Modified</td>\n",
       "    </tr>\n",
       "    <tr>\n",
       "      <th>1</th>\n",
       "      <td>2a272436-5132-4136-86fa-dcc88c88f482</td>\n",
       "      <td>660728</td>\n",
       "      <td>API</td>\n",
       "      <td>Organic Search</td>\n",
       "      <td>No</td>\n",
       "      <td>0</td>\n",
       "      <td>5.0</td>\n",
       "      <td>674</td>\n",
       "      <td>2.5</td>\n",
       "      <td>Email Opened</td>\n",
       "      <td>Select</td>\n",
       "      <td>Unemployed</td>\n",
       "      <td>No</td>\n",
       "      <td>Email Opened</td>\n",
       "    </tr>\n",
       "    <tr>\n",
       "      <th>2</th>\n",
       "      <td>8cc8c611-a219-4f35-ad23-fdfd2656bd8a</td>\n",
       "      <td>660727</td>\n",
       "      <td>Landing Page Submission</td>\n",
       "      <td>Direct Traffic</td>\n",
       "      <td>No</td>\n",
       "      <td>1</td>\n",
       "      <td>2.0</td>\n",
       "      <td>1532</td>\n",
       "      <td>2.0</td>\n",
       "      <td>Email Opened</td>\n",
       "      <td>Business Administration</td>\n",
       "      <td>Student</td>\n",
       "      <td>Yes</td>\n",
       "      <td>Email Opened</td>\n",
       "    </tr>\n",
       "    <tr>\n",
       "      <th>3</th>\n",
       "      <td>0cc2df48-7cf4-4e39-9de9-19797f9b38cc</td>\n",
       "      <td>660719</td>\n",
       "      <td>Landing Page Submission</td>\n",
       "      <td>Direct Traffic</td>\n",
       "      <td>No</td>\n",
       "      <td>0</td>\n",
       "      <td>1.0</td>\n",
       "      <td>305</td>\n",
       "      <td>1.0</td>\n",
       "      <td>Unreachable</td>\n",
       "      <td>Media and Advertising</td>\n",
       "      <td>Unemployed</td>\n",
       "      <td>No</td>\n",
       "      <td>Modified</td>\n",
       "    </tr>\n",
       "    <tr>\n",
       "      <th>4</th>\n",
       "      <td>3256f628-e534-4826-9d63-4a8b88782852</td>\n",
       "      <td>660681</td>\n",
       "      <td>Landing Page Submission</td>\n",
       "      <td>Google</td>\n",
       "      <td>No</td>\n",
       "      <td>1</td>\n",
       "      <td>2.0</td>\n",
       "      <td>1428</td>\n",
       "      <td>1.0</td>\n",
       "      <td>Converted to Lead</td>\n",
       "      <td>Select</td>\n",
       "      <td>Unemployed</td>\n",
       "      <td>No</td>\n",
       "      <td>Modified</td>\n",
       "    </tr>\n",
       "  </tbody>\n",
       "</table>\n",
       "</div>"
      ],
      "text/plain": [
       "                            Prospect ID  Lead Number              Lead Origin  \\\n",
       "0  7927b2df-8bba-4d29-b9a2-b6e0beafe620       660737                      API   \n",
       "1  2a272436-5132-4136-86fa-dcc88c88f482       660728                      API   \n",
       "2  8cc8c611-a219-4f35-ad23-fdfd2656bd8a       660727  Landing Page Submission   \n",
       "3  0cc2df48-7cf4-4e39-9de9-19797f9b38cc       660719  Landing Page Submission   \n",
       "4  3256f628-e534-4826-9d63-4a8b88782852       660681  Landing Page Submission   \n",
       "\n",
       "      Lead Source Do Not Email  Converted  TotalVisits  \\\n",
       "0      Olark Chat           No          0          0.0   \n",
       "1  Organic Search           No          0          5.0   \n",
       "2  Direct Traffic           No          1          2.0   \n",
       "3  Direct Traffic           No          0          1.0   \n",
       "4          Google           No          1          2.0   \n",
       "\n",
       "   Total Time Spent on Website  Page Views Per Visit            Last Activity  \\\n",
       "0                            0                   0.0  Page Visited on Website   \n",
       "1                          674                   2.5             Email Opened   \n",
       "2                         1532                   2.0             Email Opened   \n",
       "3                          305                   1.0              Unreachable   \n",
       "4                         1428                   1.0        Converted to Lead   \n",
       "\n",
       "            Specialization What is your current occupation  \\\n",
       "0                   Select                      Unemployed   \n",
       "1                   Select                      Unemployed   \n",
       "2  Business Administration                         Student   \n",
       "3    Media and Advertising                      Unemployed   \n",
       "4                   Select                      Unemployed   \n",
       "\n",
       "  A free copy of Mastering The Interview Last Notable Activity  \n",
       "0                                     No              Modified  \n",
       "1                                     No          Email Opened  \n",
       "2                                    Yes          Email Opened  \n",
       "3                                     No              Modified  \n",
       "4                                     No              Modified  "
      ]
     },
     "execution_count": 97,
     "metadata": {},
     "output_type": "execute_result"
    }
   ],
   "source": [
    "leads.head()"
   ]
  },
  {
   "cell_type": "code",
   "execution_count": 99,
   "id": "5f5e6ff7-ec32-4a9d-ae5c-12faa8bab1a7",
   "metadata": {},
   "outputs": [
    {
     "data": {
      "text/plain": [
       "(6373, 14)"
      ]
     },
     "execution_count": 99,
     "metadata": {},
     "output_type": "execute_result"
    }
   ],
   "source": [
    "leads.shape"
   ]
  },
  {
   "cell_type": "code",
   "execution_count": 102,
   "id": "3b8a707e-c57f-4c21-b3ca-4ce675bb9e51",
   "metadata": {},
   "outputs": [
    {
     "name": "stdout",
     "output_type": "stream",
     "text": [
      "<class 'pandas.core.frame.DataFrame'>\n",
      "Int64Index: 6373 entries, 0 to 9239\n",
      "Data columns (total 14 columns):\n",
      " #   Column                                  Non-Null Count  Dtype  \n",
      "---  ------                                  --------------  -----  \n",
      " 0   Prospect ID                             6373 non-null   object \n",
      " 1   Lead Number                             6373 non-null   int64  \n",
      " 2   Lead Origin                             6373 non-null   object \n",
      " 3   Lead Source                             6373 non-null   object \n",
      " 4   Do Not Email                            6373 non-null   object \n",
      " 5   Converted                               6373 non-null   int64  \n",
      " 6   TotalVisits                             6373 non-null   float64\n",
      " 7   Total Time Spent on Website             6373 non-null   int64  \n",
      " 8   Page Views Per Visit                    6373 non-null   float64\n",
      " 9   Last Activity                           6373 non-null   object \n",
      " 10  Specialization                          6373 non-null   object \n",
      " 11  What is your current occupation         6373 non-null   object \n",
      " 12  A free copy of Mastering The Interview  6373 non-null   object \n",
      " 13  Last Notable Activity                   6373 non-null   object \n",
      "dtypes: float64(2), int64(3), object(9)\n",
      "memory usage: 746.8+ KB\n"
     ]
    }
   ],
   "source": [
    "leads.info()"
   ]
  },
  {
   "cell_type": "code",
   "execution_count": null,
   "id": "5e80115e-27ce-46ab-a27e-bc9ef4d10bb5",
   "metadata": {},
   "outputs": [],
   "source": [
    "#"
   ]
  },
  {
   "cell_type": "code",
   "execution_count": 103,
   "id": "b32f6b9f-87e5-440e-8ab4-3e87395bc0af",
   "metadata": {},
   "outputs": [
    {
     "data": {
      "text/plain": [
       "000104b9-23e4-4ddc-8caa-8629fe8ad7f4    1\n",
       "a8b4e742-2cce-4280-8549-a4a7d51a0fe2    1\n",
       "a88b8bcf-eccf-41bb-a5ed-1a785f73ec33    1\n",
       "a88b4c5f-c49b-4e53-adec-f159b1d04b3a    1\n",
       "a87ca646-972f-4a98-9b25-3b68cff8d093    1\n",
       "                                       ..\n",
       "53592a51-8812-4602-af4f-1d26ed5425a3    1\n",
       "5352d860-380c-40aa-a8ac-9d04d4d8c903    1\n",
       "534fae52-7316-4baf-b145-4512192f4911    1\n",
       "534f474c-5743-4378-b672-10eafb7003fc    1\n",
       "fffb0e5e-9f92-4017-9f42-781a69da4154    1\n",
       "Name: Prospect ID, Length: 6373, dtype: int64"
      ]
     },
     "execution_count": 103,
     "metadata": {},
     "output_type": "execute_result"
    }
   ],
   "source": [
    "leads['Prospect ID'].astype('category').value_counts()"
   ]
  },
  {
   "cell_type": "code",
   "execution_count": 104,
   "id": "daf6f001-544b-49ca-bed4-a1f0b4b7849b",
   "metadata": {},
   "outputs": [
    {
     "data": {
      "text/plain": [
       "579533    1\n",
       "629524    1\n",
       "629511    1\n",
       "629507    1\n",
       "629491    1\n",
       "         ..\n",
       "601039    1\n",
       "601038    1\n",
       "601026    1\n",
       "600997    1\n",
       "660737    1\n",
       "Name: Lead Number, Length: 6373, dtype: int64"
      ]
     },
     "execution_count": 104,
     "metadata": {},
     "output_type": "execute_result"
    }
   ],
   "source": [
    "leads['Lead Number'].astype('category').value_counts()"
   ]
  },
  {
   "cell_type": "code",
   "execution_count": 106,
   "id": "b96d8c65-b7ab-4acb-84dc-bfd05c62a81f",
   "metadata": {},
   "outputs": [],
   "source": [
    "# Dropping the above columns as ID and lead number should not have any effect in the analysis\n",
    "leads.drop(['Prospect ID', 'Lead Number'], 1, inplace = True)"
   ]
  },
  {
   "cell_type": "code",
   "execution_count": 107,
   "id": "e664a615-8fb3-4ef4-9bc7-f4f3fca51351",
   "metadata": {},
   "outputs": [
    {
     "name": "stdout",
     "output_type": "stream",
     "text": [
      "<class 'pandas.core.frame.DataFrame'>\n",
      "Int64Index: 6373 entries, 0 to 9239\n",
      "Data columns (total 12 columns):\n",
      " #   Column                                  Non-Null Count  Dtype  \n",
      "---  ------                                  --------------  -----  \n",
      " 0   Lead Origin                             6373 non-null   object \n",
      " 1   Lead Source                             6373 non-null   object \n",
      " 2   Do Not Email                            6373 non-null   object \n",
      " 3   Converted                               6373 non-null   int64  \n",
      " 4   TotalVisits                             6373 non-null   float64\n",
      " 5   Total Time Spent on Website             6373 non-null   int64  \n",
      " 6   Page Views Per Visit                    6373 non-null   float64\n",
      " 7   Last Activity                           6373 non-null   object \n",
      " 8   Specialization                          6373 non-null   object \n",
      " 9   What is your current occupation         6373 non-null   object \n",
      " 10  A free copy of Mastering The Interview  6373 non-null   object \n",
      " 11  Last Notable Activity                   6373 non-null   object \n",
      "dtypes: float64(2), int64(2), object(8)\n",
      "memory usage: 647.3+ KB\n"
     ]
    }
   ],
   "source": [
    "leads.info()"
   ]
  },
  {
   "cell_type": "markdown",
   "id": "62cbdc7d-8183-488d-a6d7-2b82be4a679d",
   "metadata": {},
   "source": [
    "## Dealing with Categorical Data"
   ]
  },
  {
   "cell_type": "code",
   "execution_count": 117,
   "id": "be05d55c-833a-4259-92f8-8f1902523885",
   "metadata": {},
   "outputs": [],
   "source": [
    "# Checking the columns which are of type 'object' i.e. categorical/non numerical data\n",
    "\n",
    "dummy = pd.get_dummies(leads[['Lead Origin', 'Lead Source', 'Do Not Email', 'Last Activity',\n",
    "                              'What is your current occupation','A free copy of Mastering The Interview', \n",
    "                              'Last Notable Activity']], drop_first=True)\n",
    "\n",
    "# Add the results to the master dataframe\n",
    "leads = pd.concat([leads, dummy], axis=1)"
   ]
  },
  {
   "cell_type": "code",
   "execution_count": 118,
   "id": "1b32caf9-58b5-4cde-9a6f-d79bd253f72f",
   "metadata": {},
   "outputs": [],
   "source": [
    "dummy_spl = pd.get_dummies(leads['Specialization'], prefix = 'Specialization')\n",
    "dummy_spl = dummy_spl.drop(['Specialization_Select'], 1)\n",
    "leads = pd.concat([leads, dummy_spl], axis = 1)"
   ]
  },
  {
   "cell_type": "code",
   "execution_count": 119,
   "id": "45f18abe-da9e-438c-b17f-9ae004ab8f5a",
   "metadata": {},
   "outputs": [],
   "source": [
    "leads = leads.drop(['Lead Origin', 'Lead Source', 'Do Not Email', 'Last Activity',\n",
    "                   'Specialization', 'What is your current occupation',\n",
    "                   'A free copy of Mastering The Interview', 'Last Notable Activity'], 1)"
   ]
  },
  {
   "cell_type": "code",
   "execution_count": 120,
   "id": "44d0e79f-b0f3-4d7a-b7bd-11b30b69ee4f",
   "metadata": {
    "scrolled": true,
    "tags": []
   },
   "outputs": [
    {
     "data": {
      "text/html": [
       "<div>\n",
       "<style scoped>\n",
       "    .dataframe tbody tr th:only-of-type {\n",
       "        vertical-align: middle;\n",
       "    }\n",
       "\n",
       "    .dataframe tbody tr th {\n",
       "        vertical-align: top;\n",
       "    }\n",
       "\n",
       "    .dataframe thead th {\n",
       "        text-align: right;\n",
       "    }\n",
       "</style>\n",
       "<table border=\"1\" class=\"dataframe\">\n",
       "  <thead>\n",
       "    <tr style=\"text-align: right;\">\n",
       "      <th></th>\n",
       "      <th>Converted</th>\n",
       "      <th>TotalVisits</th>\n",
       "      <th>Total Time Spent on Website</th>\n",
       "      <th>Page Views Per Visit</th>\n",
       "      <th>Lead Origin_Landing Page Submission</th>\n",
       "      <th>Lead Origin_Lead Add Form</th>\n",
       "      <th>Lead Origin_Lead Import</th>\n",
       "      <th>Lead Source_Direct Traffic</th>\n",
       "      <th>Lead Source_Facebook</th>\n",
       "      <th>Lead Source_Google</th>\n",
       "      <th>...</th>\n",
       "      <th>Specialization_IT Projects Management</th>\n",
       "      <th>Specialization_International Business</th>\n",
       "      <th>Specialization_Marketing Management</th>\n",
       "      <th>Specialization_Media and Advertising</th>\n",
       "      <th>Specialization_Operations Management</th>\n",
       "      <th>Specialization_Retail Management</th>\n",
       "      <th>Specialization_Rural and Agribusiness</th>\n",
       "      <th>Specialization_Services Excellence</th>\n",
       "      <th>Specialization_Supply Chain Management</th>\n",
       "      <th>Specialization_Travel and Tourism</th>\n",
       "    </tr>\n",
       "  </thead>\n",
       "  <tbody>\n",
       "    <tr>\n",
       "      <th>0</th>\n",
       "      <td>0</td>\n",
       "      <td>0.0</td>\n",
       "      <td>0</td>\n",
       "      <td>0.0</td>\n",
       "      <td>0</td>\n",
       "      <td>0</td>\n",
       "      <td>0</td>\n",
       "      <td>0</td>\n",
       "      <td>0</td>\n",
       "      <td>0</td>\n",
       "      <td>...</td>\n",
       "      <td>0</td>\n",
       "      <td>0</td>\n",
       "      <td>0</td>\n",
       "      <td>0</td>\n",
       "      <td>0</td>\n",
       "      <td>0</td>\n",
       "      <td>0</td>\n",
       "      <td>0</td>\n",
       "      <td>0</td>\n",
       "      <td>0</td>\n",
       "    </tr>\n",
       "    <tr>\n",
       "      <th>1</th>\n",
       "      <td>0</td>\n",
       "      <td>5.0</td>\n",
       "      <td>674</td>\n",
       "      <td>2.5</td>\n",
       "      <td>0</td>\n",
       "      <td>0</td>\n",
       "      <td>0</td>\n",
       "      <td>0</td>\n",
       "      <td>0</td>\n",
       "      <td>0</td>\n",
       "      <td>...</td>\n",
       "      <td>0</td>\n",
       "      <td>0</td>\n",
       "      <td>0</td>\n",
       "      <td>0</td>\n",
       "      <td>0</td>\n",
       "      <td>0</td>\n",
       "      <td>0</td>\n",
       "      <td>0</td>\n",
       "      <td>0</td>\n",
       "      <td>0</td>\n",
       "    </tr>\n",
       "    <tr>\n",
       "      <th>2</th>\n",
       "      <td>1</td>\n",
       "      <td>2.0</td>\n",
       "      <td>1532</td>\n",
       "      <td>2.0</td>\n",
       "      <td>1</td>\n",
       "      <td>0</td>\n",
       "      <td>0</td>\n",
       "      <td>1</td>\n",
       "      <td>0</td>\n",
       "      <td>0</td>\n",
       "      <td>...</td>\n",
       "      <td>0</td>\n",
       "      <td>0</td>\n",
       "      <td>0</td>\n",
       "      <td>0</td>\n",
       "      <td>0</td>\n",
       "      <td>0</td>\n",
       "      <td>0</td>\n",
       "      <td>0</td>\n",
       "      <td>0</td>\n",
       "      <td>0</td>\n",
       "    </tr>\n",
       "    <tr>\n",
       "      <th>3</th>\n",
       "      <td>0</td>\n",
       "      <td>1.0</td>\n",
       "      <td>305</td>\n",
       "      <td>1.0</td>\n",
       "      <td>1</td>\n",
       "      <td>0</td>\n",
       "      <td>0</td>\n",
       "      <td>1</td>\n",
       "      <td>0</td>\n",
       "      <td>0</td>\n",
       "      <td>...</td>\n",
       "      <td>0</td>\n",
       "      <td>0</td>\n",
       "      <td>0</td>\n",
       "      <td>1</td>\n",
       "      <td>0</td>\n",
       "      <td>0</td>\n",
       "      <td>0</td>\n",
       "      <td>0</td>\n",
       "      <td>0</td>\n",
       "      <td>0</td>\n",
       "    </tr>\n",
       "    <tr>\n",
       "      <th>4</th>\n",
       "      <td>1</td>\n",
       "      <td>2.0</td>\n",
       "      <td>1428</td>\n",
       "      <td>1.0</td>\n",
       "      <td>1</td>\n",
       "      <td>0</td>\n",
       "      <td>0</td>\n",
       "      <td>0</td>\n",
       "      <td>0</td>\n",
       "      <td>1</td>\n",
       "      <td>...</td>\n",
       "      <td>0</td>\n",
       "      <td>0</td>\n",
       "      <td>0</td>\n",
       "      <td>0</td>\n",
       "      <td>0</td>\n",
       "      <td>0</td>\n",
       "      <td>0</td>\n",
       "      <td>0</td>\n",
       "      <td>0</td>\n",
       "      <td>0</td>\n",
       "    </tr>\n",
       "  </tbody>\n",
       "</table>\n",
       "<p>5 rows × 75 columns</p>\n",
       "</div>"
      ],
      "text/plain": [
       "   Converted  TotalVisits  Total Time Spent on Website  Page Views Per Visit  \\\n",
       "0          0          0.0                            0                   0.0   \n",
       "1          0          5.0                          674                   2.5   \n",
       "2          1          2.0                         1532                   2.0   \n",
       "3          0          1.0                          305                   1.0   \n",
       "4          1          2.0                         1428                   1.0   \n",
       "\n",
       "   Lead Origin_Landing Page Submission  Lead Origin_Lead Add Form  \\\n",
       "0                                    0                          0   \n",
       "1                                    0                          0   \n",
       "2                                    1                          0   \n",
       "3                                    1                          0   \n",
       "4                                    1                          0   \n",
       "\n",
       "   Lead Origin_Lead Import  Lead Source_Direct Traffic  Lead Source_Facebook  \\\n",
       "0                        0                           0                     0   \n",
       "1                        0                           0                     0   \n",
       "2                        0                           1                     0   \n",
       "3                        0                           1                     0   \n",
       "4                        0                           0                     0   \n",
       "\n",
       "   Lead Source_Google  ...  Specialization_IT Projects Management  \\\n",
       "0                   0  ...                                      0   \n",
       "1                   0  ...                                      0   \n",
       "2                   0  ...                                      0   \n",
       "3                   0  ...                                      0   \n",
       "4                   1  ...                                      0   \n",
       "\n",
       "   Specialization_International Business  Specialization_Marketing Management  \\\n",
       "0                                      0                                    0   \n",
       "1                                      0                                    0   \n",
       "2                                      0                                    0   \n",
       "3                                      0                                    0   \n",
       "4                                      0                                    0   \n",
       "\n",
       "   Specialization_Media and Advertising  Specialization_Operations Management  \\\n",
       "0                                     0                                     0   \n",
       "1                                     0                                     0   \n",
       "2                                     0                                     0   \n",
       "3                                     1                                     0   \n",
       "4                                     0                                     0   \n",
       "\n",
       "   Specialization_Retail Management  Specialization_Rural and Agribusiness  \\\n",
       "0                                 0                                      0   \n",
       "1                                 0                                      0   \n",
       "2                                 0                                      0   \n",
       "3                                 0                                      0   \n",
       "4                                 0                                      0   \n",
       "\n",
       "   Specialization_Services Excellence  Specialization_Supply Chain Management  \\\n",
       "0                                   0                                       0   \n",
       "1                                   0                                       0   \n",
       "2                                   0                                       0   \n",
       "3                                   0                                       0   \n",
       "4                                   0                                       0   \n",
       "\n",
       "   Specialization_Travel and Tourism  \n",
       "0                                  0  \n",
       "1                                  0  \n",
       "2                                  0  \n",
       "3                                  0  \n",
       "4                                  0  \n",
       "\n",
       "[5 rows x 75 columns]"
      ]
     },
     "execution_count": 120,
     "metadata": {},
     "output_type": "execute_result"
    }
   ],
   "source": [
    "leads.head()"
   ]
  },
  {
   "cell_type": "markdown",
   "id": "771f22a7-a896-438e-9fe3-f3ef8bf5b6f9",
   "metadata": {},
   "source": [
    "Now we have created dummy columns against the true/false values of the categorical columns and have removed the original categorical columns as we do not need them anymore."
   ]
  },
  {
   "cell_type": "code",
   "execution_count": 124,
   "id": "e2b5f885-0d5f-4864-a013-b4d7ca14a34c",
   "metadata": {},
   "outputs": [],
   "source": [
    "# Backing up the prepped dataset \n",
    "bkp_leads=leads"
   ]
  },
  {
   "cell_type": "markdown",
   "id": "7373b158-b723-4d78-98f6-72071e1ad629",
   "metadata": {},
   "source": [
    "### Splitting Test-Train Sets"
   ]
  },
  {
   "cell_type": "code",
   "execution_count": 125,
   "id": "55fd8369-e8d8-4c09-88da-1571069371c9",
   "metadata": {},
   "outputs": [
    {
     "data": {
      "text/html": [
       "<div>\n",
       "<style scoped>\n",
       "    .dataframe tbody tr th:only-of-type {\n",
       "        vertical-align: middle;\n",
       "    }\n",
       "\n",
       "    .dataframe tbody tr th {\n",
       "        vertical-align: top;\n",
       "    }\n",
       "\n",
       "    .dataframe thead th {\n",
       "        text-align: right;\n",
       "    }\n",
       "</style>\n",
       "<table border=\"1\" class=\"dataframe\">\n",
       "  <thead>\n",
       "    <tr style=\"text-align: right;\">\n",
       "      <th></th>\n",
       "      <th>TotalVisits</th>\n",
       "      <th>Total Time Spent on Website</th>\n",
       "      <th>Page Views Per Visit</th>\n",
       "      <th>Lead Origin_Landing Page Submission</th>\n",
       "      <th>Lead Origin_Lead Add Form</th>\n",
       "      <th>Lead Origin_Lead Import</th>\n",
       "      <th>Lead Source_Direct Traffic</th>\n",
       "      <th>Lead Source_Facebook</th>\n",
       "      <th>Lead Source_Google</th>\n",
       "      <th>Lead Source_Live Chat</th>\n",
       "      <th>...</th>\n",
       "      <th>Specialization_IT Projects Management</th>\n",
       "      <th>Specialization_International Business</th>\n",
       "      <th>Specialization_Marketing Management</th>\n",
       "      <th>Specialization_Media and Advertising</th>\n",
       "      <th>Specialization_Operations Management</th>\n",
       "      <th>Specialization_Retail Management</th>\n",
       "      <th>Specialization_Rural and Agribusiness</th>\n",
       "      <th>Specialization_Services Excellence</th>\n",
       "      <th>Specialization_Supply Chain Management</th>\n",
       "      <th>Specialization_Travel and Tourism</th>\n",
       "    </tr>\n",
       "  </thead>\n",
       "  <tbody>\n",
       "    <tr>\n",
       "      <th>0</th>\n",
       "      <td>0.0</td>\n",
       "      <td>0</td>\n",
       "      <td>0.0</td>\n",
       "      <td>0</td>\n",
       "      <td>0</td>\n",
       "      <td>0</td>\n",
       "      <td>0</td>\n",
       "      <td>0</td>\n",
       "      <td>0</td>\n",
       "      <td>0</td>\n",
       "      <td>...</td>\n",
       "      <td>0</td>\n",
       "      <td>0</td>\n",
       "      <td>0</td>\n",
       "      <td>0</td>\n",
       "      <td>0</td>\n",
       "      <td>0</td>\n",
       "      <td>0</td>\n",
       "      <td>0</td>\n",
       "      <td>0</td>\n",
       "      <td>0</td>\n",
       "    </tr>\n",
       "    <tr>\n",
       "      <th>1</th>\n",
       "      <td>5.0</td>\n",
       "      <td>674</td>\n",
       "      <td>2.5</td>\n",
       "      <td>0</td>\n",
       "      <td>0</td>\n",
       "      <td>0</td>\n",
       "      <td>0</td>\n",
       "      <td>0</td>\n",
       "      <td>0</td>\n",
       "      <td>0</td>\n",
       "      <td>...</td>\n",
       "      <td>0</td>\n",
       "      <td>0</td>\n",
       "      <td>0</td>\n",
       "      <td>0</td>\n",
       "      <td>0</td>\n",
       "      <td>0</td>\n",
       "      <td>0</td>\n",
       "      <td>0</td>\n",
       "      <td>0</td>\n",
       "      <td>0</td>\n",
       "    </tr>\n",
       "    <tr>\n",
       "      <th>2</th>\n",
       "      <td>2.0</td>\n",
       "      <td>1532</td>\n",
       "      <td>2.0</td>\n",
       "      <td>1</td>\n",
       "      <td>0</td>\n",
       "      <td>0</td>\n",
       "      <td>1</td>\n",
       "      <td>0</td>\n",
       "      <td>0</td>\n",
       "      <td>0</td>\n",
       "      <td>...</td>\n",
       "      <td>0</td>\n",
       "      <td>0</td>\n",
       "      <td>0</td>\n",
       "      <td>0</td>\n",
       "      <td>0</td>\n",
       "      <td>0</td>\n",
       "      <td>0</td>\n",
       "      <td>0</td>\n",
       "      <td>0</td>\n",
       "      <td>0</td>\n",
       "    </tr>\n",
       "    <tr>\n",
       "      <th>3</th>\n",
       "      <td>1.0</td>\n",
       "      <td>305</td>\n",
       "      <td>1.0</td>\n",
       "      <td>1</td>\n",
       "      <td>0</td>\n",
       "      <td>0</td>\n",
       "      <td>1</td>\n",
       "      <td>0</td>\n",
       "      <td>0</td>\n",
       "      <td>0</td>\n",
       "      <td>...</td>\n",
       "      <td>0</td>\n",
       "      <td>0</td>\n",
       "      <td>0</td>\n",
       "      <td>1</td>\n",
       "      <td>0</td>\n",
       "      <td>0</td>\n",
       "      <td>0</td>\n",
       "      <td>0</td>\n",
       "      <td>0</td>\n",
       "      <td>0</td>\n",
       "    </tr>\n",
       "    <tr>\n",
       "      <th>4</th>\n",
       "      <td>2.0</td>\n",
       "      <td>1428</td>\n",
       "      <td>1.0</td>\n",
       "      <td>1</td>\n",
       "      <td>0</td>\n",
       "      <td>0</td>\n",
       "      <td>0</td>\n",
       "      <td>0</td>\n",
       "      <td>1</td>\n",
       "      <td>0</td>\n",
       "      <td>...</td>\n",
       "      <td>0</td>\n",
       "      <td>0</td>\n",
       "      <td>0</td>\n",
       "      <td>0</td>\n",
       "      <td>0</td>\n",
       "      <td>0</td>\n",
       "      <td>0</td>\n",
       "      <td>0</td>\n",
       "      <td>0</td>\n",
       "      <td>0</td>\n",
       "    </tr>\n",
       "  </tbody>\n",
       "</table>\n",
       "<p>5 rows × 74 columns</p>\n",
       "</div>"
      ],
      "text/plain": [
       "   TotalVisits  Total Time Spent on Website  Page Views Per Visit  \\\n",
       "0          0.0                            0                   0.0   \n",
       "1          5.0                          674                   2.5   \n",
       "2          2.0                         1532                   2.0   \n",
       "3          1.0                          305                   1.0   \n",
       "4          2.0                         1428                   1.0   \n",
       "\n",
       "   Lead Origin_Landing Page Submission  Lead Origin_Lead Add Form  \\\n",
       "0                                    0                          0   \n",
       "1                                    0                          0   \n",
       "2                                    1                          0   \n",
       "3                                    1                          0   \n",
       "4                                    1                          0   \n",
       "\n",
       "   Lead Origin_Lead Import  Lead Source_Direct Traffic  Lead Source_Facebook  \\\n",
       "0                        0                           0                     0   \n",
       "1                        0                           0                     0   \n",
       "2                        0                           1                     0   \n",
       "3                        0                           1                     0   \n",
       "4                        0                           0                     0   \n",
       "\n",
       "   Lead Source_Google  Lead Source_Live Chat  ...  \\\n",
       "0                   0                      0  ...   \n",
       "1                   0                      0  ...   \n",
       "2                   0                      0  ...   \n",
       "3                   0                      0  ...   \n",
       "4                   1                      0  ...   \n",
       "\n",
       "   Specialization_IT Projects Management  \\\n",
       "0                                      0   \n",
       "1                                      0   \n",
       "2                                      0   \n",
       "3                                      0   \n",
       "4                                      0   \n",
       "\n",
       "   Specialization_International Business  Specialization_Marketing Management  \\\n",
       "0                                      0                                    0   \n",
       "1                                      0                                    0   \n",
       "2                                      0                                    0   \n",
       "3                                      0                                    0   \n",
       "4                                      0                                    0   \n",
       "\n",
       "   Specialization_Media and Advertising  Specialization_Operations Management  \\\n",
       "0                                     0                                     0   \n",
       "1                                     0                                     0   \n",
       "2                                     0                                     0   \n",
       "3                                     1                                     0   \n",
       "4                                     0                                     0   \n",
       "\n",
       "   Specialization_Retail Management  Specialization_Rural and Agribusiness  \\\n",
       "0                                 0                                      0   \n",
       "1                                 0                                      0   \n",
       "2                                 0                                      0   \n",
       "3                                 0                                      0   \n",
       "4                                 0                                      0   \n",
       "\n",
       "   Specialization_Services Excellence  Specialization_Supply Chain Management  \\\n",
       "0                                   0                                       0   \n",
       "1                                   0                                       0   \n",
       "2                                   0                                       0   \n",
       "3                                   0                                       0   \n",
       "4                                   0                                       0   \n",
       "\n",
       "   Specialization_Travel and Tourism  \n",
       "0                                  0  \n",
       "1                                  0  \n",
       "2                                  0  \n",
       "3                                  0  \n",
       "4                                  0  \n",
       "\n",
       "[5 rows x 74 columns]"
      ]
     },
     "execution_count": 125,
     "metadata": {},
     "output_type": "execute_result"
    }
   ],
   "source": [
    "X = leads.drop(['Converted'], 1)\n",
    "X.head()"
   ]
  },
  {
   "cell_type": "code",
   "execution_count": 126,
   "id": "ec478a23-1121-46d3-8b33-08b39805589b",
   "metadata": {},
   "outputs": [
    {
     "data": {
      "text/plain": [
       "0    0\n",
       "1    0\n",
       "2    1\n",
       "3    0\n",
       "4    1\n",
       "Name: Converted, dtype: int64"
      ]
     },
     "execution_count": 126,
     "metadata": {},
     "output_type": "execute_result"
    }
   ],
   "source": [
    "Y = leads['Converted']\n",
    "\n",
    "Y.head()"
   ]
  },
  {
   "cell_type": "code",
   "execution_count": 127,
   "id": "8390f2f8-779d-4244-ad5c-b48ead36c307",
   "metadata": {},
   "outputs": [],
   "source": [
    "X_train, X_test, y_train, y_test = train_test_split(X, Y, train_size=0.7, test_size=0.3, random_state=100)"
   ]
  },
  {
   "cell_type": "code",
   "execution_count": 128,
   "id": "6b8f9eb7-415e-4735-bf5d-2883582c3b16",
   "metadata": {},
   "outputs": [
    {
     "name": "stdout",
     "output_type": "stream",
     "text": [
      "X_train Size (4461, 74)\n",
      "y_train Size (4461,)\n"
     ]
    }
   ],
   "source": [
    "print(\"X_train Size\", X_train.shape)\n",
    "print(\"y_train Size\", y_train.shape)"
   ]
  },
  {
   "cell_type": "markdown",
   "id": "999fa2d9-47fd-45c9-8c9e-0e45ea83a191",
   "metadata": {},
   "source": [
    "### Scaling"
   ]
  },
  {
   "cell_type": "code",
   "execution_count": 129,
   "id": "8f7ee741-de16-43ba-9fd8-e4289c2028bd",
   "metadata": {},
   "outputs": [],
   "source": [
    "scaler = MinMaxScaler()"
   ]
  },
  {
   "cell_type": "code",
   "execution_count": 130,
   "id": "8bd5d408-8233-4133-8d6a-de8629804b3a",
   "metadata": {},
   "outputs": [
    {
     "data": {
      "text/html": [
       "<div>\n",
       "<style scoped>\n",
       "    .dataframe tbody tr th:only-of-type {\n",
       "        vertical-align: middle;\n",
       "    }\n",
       "\n",
       "    .dataframe tbody tr th {\n",
       "        vertical-align: top;\n",
       "    }\n",
       "\n",
       "    .dataframe thead th {\n",
       "        text-align: right;\n",
       "    }\n",
       "</style>\n",
       "<table border=\"1\" class=\"dataframe\">\n",
       "  <thead>\n",
       "    <tr style=\"text-align: right;\">\n",
       "      <th></th>\n",
       "      <th>TotalVisits</th>\n",
       "      <th>Total Time Spent on Website</th>\n",
       "      <th>Page Views Per Visit</th>\n",
       "      <th>Lead Origin_Landing Page Submission</th>\n",
       "      <th>Lead Origin_Lead Add Form</th>\n",
       "      <th>Lead Origin_Lead Import</th>\n",
       "      <th>Lead Source_Direct Traffic</th>\n",
       "      <th>Lead Source_Facebook</th>\n",
       "      <th>Lead Source_Google</th>\n",
       "      <th>Lead Source_Live Chat</th>\n",
       "      <th>...</th>\n",
       "      <th>Specialization_IT Projects Management</th>\n",
       "      <th>Specialization_International Business</th>\n",
       "      <th>Specialization_Marketing Management</th>\n",
       "      <th>Specialization_Media and Advertising</th>\n",
       "      <th>Specialization_Operations Management</th>\n",
       "      <th>Specialization_Retail Management</th>\n",
       "      <th>Specialization_Rural and Agribusiness</th>\n",
       "      <th>Specialization_Services Excellence</th>\n",
       "      <th>Specialization_Supply Chain Management</th>\n",
       "      <th>Specialization_Travel and Tourism</th>\n",
       "    </tr>\n",
       "  </thead>\n",
       "  <tbody>\n",
       "    <tr>\n",
       "      <th>8003</th>\n",
       "      <td>0.015936</td>\n",
       "      <td>0.029489</td>\n",
       "      <td>0.125</td>\n",
       "      <td>1</td>\n",
       "      <td>0</td>\n",
       "      <td>0</td>\n",
       "      <td>1</td>\n",
       "      <td>0</td>\n",
       "      <td>0</td>\n",
       "      <td>0</td>\n",
       "      <td>...</td>\n",
       "      <td>1</td>\n",
       "      <td>0</td>\n",
       "      <td>0</td>\n",
       "      <td>0</td>\n",
       "      <td>0</td>\n",
       "      <td>0</td>\n",
       "      <td>0</td>\n",
       "      <td>0</td>\n",
       "      <td>0</td>\n",
       "      <td>0</td>\n",
       "    </tr>\n",
       "    <tr>\n",
       "      <th>218</th>\n",
       "      <td>0.015936</td>\n",
       "      <td>0.082306</td>\n",
       "      <td>0.250</td>\n",
       "      <td>1</td>\n",
       "      <td>0</td>\n",
       "      <td>0</td>\n",
       "      <td>1</td>\n",
       "      <td>0</td>\n",
       "      <td>0</td>\n",
       "      <td>0</td>\n",
       "      <td>...</td>\n",
       "      <td>0</td>\n",
       "      <td>0</td>\n",
       "      <td>0</td>\n",
       "      <td>0</td>\n",
       "      <td>0</td>\n",
       "      <td>0</td>\n",
       "      <td>0</td>\n",
       "      <td>0</td>\n",
       "      <td>0</td>\n",
       "      <td>0</td>\n",
       "    </tr>\n",
       "    <tr>\n",
       "      <th>4171</th>\n",
       "      <td>0.023904</td>\n",
       "      <td>0.034331</td>\n",
       "      <td>0.375</td>\n",
       "      <td>1</td>\n",
       "      <td>0</td>\n",
       "      <td>0</td>\n",
       "      <td>1</td>\n",
       "      <td>0</td>\n",
       "      <td>0</td>\n",
       "      <td>0</td>\n",
       "      <td>...</td>\n",
       "      <td>0</td>\n",
       "      <td>0</td>\n",
       "      <td>0</td>\n",
       "      <td>0</td>\n",
       "      <td>0</td>\n",
       "      <td>0</td>\n",
       "      <td>0</td>\n",
       "      <td>0</td>\n",
       "      <td>0</td>\n",
       "      <td>1</td>\n",
       "    </tr>\n",
       "    <tr>\n",
       "      <th>4037</th>\n",
       "      <td>0.000000</td>\n",
       "      <td>0.000000</td>\n",
       "      <td>0.000</td>\n",
       "      <td>0</td>\n",
       "      <td>0</td>\n",
       "      <td>0</td>\n",
       "      <td>0</td>\n",
       "      <td>0</td>\n",
       "      <td>0</td>\n",
       "      <td>0</td>\n",
       "      <td>...</td>\n",
       "      <td>0</td>\n",
       "      <td>0</td>\n",
       "      <td>0</td>\n",
       "      <td>0</td>\n",
       "      <td>0</td>\n",
       "      <td>0</td>\n",
       "      <td>0</td>\n",
       "      <td>0</td>\n",
       "      <td>0</td>\n",
       "      <td>0</td>\n",
       "    </tr>\n",
       "    <tr>\n",
       "      <th>3660</th>\n",
       "      <td>0.000000</td>\n",
       "      <td>0.000000</td>\n",
       "      <td>0.000</td>\n",
       "      <td>0</td>\n",
       "      <td>1</td>\n",
       "      <td>0</td>\n",
       "      <td>0</td>\n",
       "      <td>0</td>\n",
       "      <td>0</td>\n",
       "      <td>0</td>\n",
       "      <td>...</td>\n",
       "      <td>0</td>\n",
       "      <td>0</td>\n",
       "      <td>0</td>\n",
       "      <td>0</td>\n",
       "      <td>0</td>\n",
       "      <td>0</td>\n",
       "      <td>0</td>\n",
       "      <td>0</td>\n",
       "      <td>0</td>\n",
       "      <td>0</td>\n",
       "    </tr>\n",
       "  </tbody>\n",
       "</table>\n",
       "<p>5 rows × 74 columns</p>\n",
       "</div>"
      ],
      "text/plain": [
       "      TotalVisits  Total Time Spent on Website  Page Views Per Visit  \\\n",
       "8003     0.015936                     0.029489                 0.125   \n",
       "218      0.015936                     0.082306                 0.250   \n",
       "4171     0.023904                     0.034331                 0.375   \n",
       "4037     0.000000                     0.000000                 0.000   \n",
       "3660     0.000000                     0.000000                 0.000   \n",
       "\n",
       "      Lead Origin_Landing Page Submission  Lead Origin_Lead Add Form  \\\n",
       "8003                                    1                          0   \n",
       "218                                     1                          0   \n",
       "4171                                    1                          0   \n",
       "4037                                    0                          0   \n",
       "3660                                    0                          1   \n",
       "\n",
       "      Lead Origin_Lead Import  Lead Source_Direct Traffic  \\\n",
       "8003                        0                           1   \n",
       "218                         0                           1   \n",
       "4171                        0                           1   \n",
       "4037                        0                           0   \n",
       "3660                        0                           0   \n",
       "\n",
       "      Lead Source_Facebook  Lead Source_Google  Lead Source_Live Chat  ...  \\\n",
       "8003                     0                   0                      0  ...   \n",
       "218                      0                   0                      0  ...   \n",
       "4171                     0                   0                      0  ...   \n",
       "4037                     0                   0                      0  ...   \n",
       "3660                     0                   0                      0  ...   \n",
       "\n",
       "      Specialization_IT Projects Management  \\\n",
       "8003                                      1   \n",
       "218                                       0   \n",
       "4171                                      0   \n",
       "4037                                      0   \n",
       "3660                                      0   \n",
       "\n",
       "      Specialization_International Business  \\\n",
       "8003                                      0   \n",
       "218                                       0   \n",
       "4171                                      0   \n",
       "4037                                      0   \n",
       "3660                                      0   \n",
       "\n",
       "      Specialization_Marketing Management  \\\n",
       "8003                                    0   \n",
       "218                                     0   \n",
       "4171                                    0   \n",
       "4037                                    0   \n",
       "3660                                    0   \n",
       "\n",
       "      Specialization_Media and Advertising  \\\n",
       "8003                                     0   \n",
       "218                                      0   \n",
       "4171                                     0   \n",
       "4037                                     0   \n",
       "3660                                     0   \n",
       "\n",
       "      Specialization_Operations Management  Specialization_Retail Management  \\\n",
       "8003                                     0                                 0   \n",
       "218                                      0                                 0   \n",
       "4171                                     0                                 0   \n",
       "4037                                     0                                 0   \n",
       "3660                                     0                                 0   \n",
       "\n",
       "      Specialization_Rural and Agribusiness  \\\n",
       "8003                                      0   \n",
       "218                                       0   \n",
       "4171                                      0   \n",
       "4037                                      0   \n",
       "3660                                      0   \n",
       "\n",
       "      Specialization_Services Excellence  \\\n",
       "8003                                   0   \n",
       "218                                    0   \n",
       "4171                                   0   \n",
       "4037                                   0   \n",
       "3660                                   0   \n",
       "\n",
       "      Specialization_Supply Chain Management  \\\n",
       "8003                                       0   \n",
       "218                                        0   \n",
       "4171                                       0   \n",
       "4037                                       0   \n",
       "3660                                       0   \n",
       "\n",
       "      Specialization_Travel and Tourism  \n",
       "8003                                  0  \n",
       "218                                   0  \n",
       "4171                                  1  \n",
       "4037                                  0  \n",
       "3660                                  0  \n",
       "\n",
       "[5 rows x 74 columns]"
      ]
     },
     "execution_count": 130,
     "metadata": {},
     "output_type": "execute_result"
    }
   ],
   "source": [
    "X_train[['TotalVisits', 'Page Views Per Visit', 'Total Time Spent on Website']] = scaler.fit_transform(X_train[['TotalVisits', 'Page Views Per Visit', 'Total Time Spent on Website']])\n",
    "\n",
    "X_train.head()"
   ]
  },
  {
   "cell_type": "markdown",
   "id": "038eaa7c-28ba-457f-b82f-7e5d1dad2893",
   "metadata": {},
   "source": [
    "## Model Building"
   ]
  },
  {
   "cell_type": "code",
   "execution_count": 134,
   "id": "b6e2473c-001d-4288-ade8-5c8a59cb0923",
   "metadata": {},
   "outputs": [],
   "source": [
    "# Importing the 'LogisticRegression' and creating a LogisticRegression object\n",
    "logreg = LogisticRegression()"
   ]
  },
  {
   "cell_type": "code",
   "execution_count": 139,
   "id": "8f533097-8adf-4eb8-90c5-5a8528d93b00",
   "metadata": {},
   "outputs": [],
   "source": [
    "# Importing the 'RFE' and select 15 variables\n",
    "\n",
    "rfe = RFE(estimator=logreg, n_features_to_select=15)           # running RFE with 15 variables as output\n",
    "rfe = rfe.fit(X_train, y_train)"
   ]
  },
  {
   "cell_type": "code",
   "execution_count": 140,
   "id": "b8a9b7a6-1388-4e64-a44e-e008878fcafc",
   "metadata": {},
   "outputs": [
    {
     "data": {
      "text/plain": [
       "[('TotalVisits', True, 1),\n",
       " ('Total Time Spent on Website', True, 1),\n",
       " ('Page Views Per Visit', False, 23),\n",
       " ('Lead Origin_Landing Page Submission', False, 8),\n",
       " ('Lead Origin_Lead Add Form', True, 1),\n",
       " ('Lead Origin_Lead Import', False, 52),\n",
       " ('Lead Source_Direct Traffic', False, 24),\n",
       " ('Lead Source_Facebook', False, 51),\n",
       " ('Lead Source_Google', False, 36),\n",
       " ('Lead Source_Live Chat', False, 44),\n",
       " ('Lead Source_Olark Chat', True, 1),\n",
       " ('Lead Source_Organic Search', False, 35),\n",
       " ('Lead Source_Pay per Click Ads', False, 43),\n",
       " ('Lead Source_Press_Release', False, 53),\n",
       " ('Lead Source_Reference', True, 1),\n",
       " ('Lead Source_Referral Sites', False, 37),\n",
       " ('Lead Source_Social Media', False, 58),\n",
       " ('Lead Source_WeLearn', False, 42),\n",
       " ('Lead Source_Welingak Website', True, 1),\n",
       " ('Lead Source_bing', False, 33),\n",
       " ('Lead Source_testone', False, 38),\n",
       " ('Do Not Email_Yes', True, 1),\n",
       " ('Last Activity_Converted to Lead', False, 25),\n",
       " ('Last Activity_Email Bounced', False, 4),\n",
       " ('Last Activity_Email Link Clicked', False, 49),\n",
       " ('Last Activity_Email Marked Spam', False, 57),\n",
       " ('Last Activity_Email Opened', False, 41),\n",
       " ('Last Activity_Email Received', False, 54),\n",
       " ('Last Activity_Form Submitted on Website', False, 28),\n",
       " ('Last Activity_Had a Phone Conversation', True, 1),\n",
       " ('Last Activity_Olark Chat Conversation', False, 5),\n",
       " ('Last Activity_Page Visited on Website', False, 26),\n",
       " ('Last Activity_SMS Sent', True, 1),\n",
       " ('Last Activity_Unreachable', False, 47),\n",
       " ('Last Activity_Unsubscribed', False, 40),\n",
       " ('Last Activity_View in browser link Clicked', False, 34),\n",
       " ('Last Activity_Visited Booth in Tradeshow', False, 48),\n",
       " ('What is your current occupation_Housewife', True, 1),\n",
       " ('What is your current occupation_Other', False, 46),\n",
       " ('What is your current occupation_Student', True, 1),\n",
       " ('What is your current occupation_Unemployed', True, 1),\n",
       " ('What is your current occupation_Working Professional', True, 1),\n",
       " ('A free copy of Mastering The Interview_Yes', False, 50),\n",
       " ('Last Notable Activity_Email Bounced', False, 3),\n",
       " ('Last Notable Activity_Email Link Clicked', False, 20),\n",
       " ('Last Notable Activity_Email Marked Spam', False, 59),\n",
       " ('Last Notable Activity_Email Opened', False, 27),\n",
       " ('Last Notable Activity_Email Received', False, 60),\n",
       " ('Last Notable Activity_Had a Phone Conversation', True, 1),\n",
       " ('Last Notable Activity_Modified', False, 2),\n",
       " ('Last Notable Activity_Olark Chat Conversation', False, 32),\n",
       " ('Last Notable Activity_Page Visited on Website', False, 31),\n",
       " ('Last Notable Activity_SMS Sent', False, 45),\n",
       " ('Last Notable Activity_Unreachable', True, 1),\n",
       " ('Last Notable Activity_Unsubscribed', False, 39),\n",
       " ('Last Notable Activity_View in browser link Clicked', False, 29),\n",
       " ('Specialization_Banking, Investment And Insurance', False, 6),\n",
       " ('Specialization_Business Administration', False, 15),\n",
       " ('Specialization_E-Business', False, 11),\n",
       " ('Specialization_E-COMMERCE', False, 9),\n",
       " ('Specialization_Finance Management', False, 14),\n",
       " ('Specialization_Healthcare Management', False, 10),\n",
       " ('Specialization_Hospitality Management', False, 55),\n",
       " ('Specialization_Human Resource Management', False, 16),\n",
       " ('Specialization_IT Projects Management', False, 18),\n",
       " ('Specialization_International Business', False, 22),\n",
       " ('Specialization_Marketing Management', False, 12),\n",
       " ('Specialization_Media and Advertising', False, 21),\n",
       " ('Specialization_Operations Management', False, 19),\n",
       " ('Specialization_Retail Management', False, 30),\n",
       " ('Specialization_Rural and Agribusiness', False, 7),\n",
       " ('Specialization_Services Excellence', False, 56),\n",
       " ('Specialization_Supply Chain Management', False, 13),\n",
       " ('Specialization_Travel and Tourism', False, 17)]"
      ]
     },
     "execution_count": 140,
     "metadata": {},
     "output_type": "execute_result"
    }
   ],
   "source": [
    "# Let's take a look at which features have been selected by RFE\n",
    "\n",
    "list(zip(X_train.columns, rfe.support_, rfe.ranking_))"
   ]
  },
  {
   "cell_type": "code",
   "execution_count": 141,
   "id": "add6ad1a-d9ee-46dc-9a8f-9d880a46b3e0",
   "metadata": {},
   "outputs": [],
   "source": [
    "# Putting all the columns selected by RFE in the variable 'col'\n",
    "\n",
    "col = X_train.columns[rfe.support_]"
   ]
  },
  {
   "cell_type": "code",
   "execution_count": null,
   "id": "74cc3181-3ece-436f-821e-5da52f088bc9",
   "metadata": {},
   "outputs": [],
   "source": []
  },
  {
   "cell_type": "code",
   "execution_count": 142,
   "id": "661dfc76-8c73-402b-9a81-bb245527b0b3",
   "metadata": {},
   "outputs": [],
   "source": [
    "# Select only the columns selected by RFE\n",
    "\n",
    "X_train = X_train[col]"
   ]
  },
  {
   "cell_type": "markdown",
   "id": "4fd14f05-d358-48f4-b7b2-8a300ea9e081",
   "metadata": {},
   "source": [
    "### Model Testing"
   ]
  },
  {
   "cell_type": "code",
   "execution_count": null,
   "id": "ec652dcf-3d16-495b-a73d-c24ae4adc0f0",
   "metadata": {},
   "outputs": [],
   "source": [
    "# Importing 'statsmodels'"
   ]
  },
  {
   "cell_type": "markdown",
   "id": "6adf91b5-1f2b-4180-b554-30804683f7a6",
   "metadata": {},
   "source": [
    "## Model 1"
   ]
  },
  {
   "cell_type": "code",
   "execution_count": 143,
   "id": "457b1a53-0b85-4bcd-bef9-ce72c69ac9af",
   "metadata": {},
   "outputs": [
    {
     "data": {
      "text/html": [
       "<table class=\"simpletable\">\n",
       "<caption>Generalized Linear Model Regression Results</caption>\n",
       "<tr>\n",
       "  <th>Dep. Variable:</th>       <td>Converted</td>    <th>  No. Observations:  </th>  <td>  4461</td> \n",
       "</tr>\n",
       "<tr>\n",
       "  <th>Model:</th>                  <td>GLM</td>       <th>  Df Residuals:      </th>  <td>  4445</td> \n",
       "</tr>\n",
       "<tr>\n",
       "  <th>Model Family:</th>        <td>Binomial</td>     <th>  Df Model:          </th>  <td>    15</td> \n",
       "</tr>\n",
       "<tr>\n",
       "  <th>Link Function:</th>         <td>Logit</td>      <th>  Scale:             </th> <td>  1.0000</td>\n",
       "</tr>\n",
       "<tr>\n",
       "  <th>Method:</th>                <td>IRLS</td>       <th>  Log-Likelihood:    </th> <td> -2072.8</td>\n",
       "</tr>\n",
       "<tr>\n",
       "  <th>Date:</th>            <td>Sun, 29 Oct 2023</td> <th>  Deviance:          </th> <td>  4145.5</td>\n",
       "</tr>\n",
       "<tr>\n",
       "  <th>Time:</th>                <td>18:23:17</td>     <th>  Pearson chi2:      </th> <td>4.84e+03</td>\n",
       "</tr>\n",
       "<tr>\n",
       "  <th>No. Iterations:</th>         <td>22</td>        <th>  Pseudo R-squ. (CS):</th>  <td>0.3660</td> \n",
       "</tr>\n",
       "<tr>\n",
       "  <th>Covariance Type:</th>     <td>nonrobust</td>    <th>                     </th>     <td> </td>   \n",
       "</tr>\n",
       "</table>\n",
       "<table class=\"simpletable\">\n",
       "<tr>\n",
       "                            <td></td>                              <th>coef</th>     <th>std err</th>      <th>z</th>      <th>P>|z|</th>  <th>[0.025</th>    <th>0.975]</th>  \n",
       "</tr>\n",
       "<tr>\n",
       "  <th>const</th>                                                <td>   -1.0061</td> <td>    0.600</td> <td>   -1.677</td> <td> 0.094</td> <td>   -2.182</td> <td>    0.170</td>\n",
       "</tr>\n",
       "<tr>\n",
       "  <th>TotalVisits</th>                                          <td>   11.3439</td> <td>    2.682</td> <td>    4.230</td> <td> 0.000</td> <td>    6.088</td> <td>   16.600</td>\n",
       "</tr>\n",
       "<tr>\n",
       "  <th>Total Time Spent on Website</th>                          <td>    4.4312</td> <td>    0.185</td> <td>   23.924</td> <td> 0.000</td> <td>    4.068</td> <td>    4.794</td>\n",
       "</tr>\n",
       "<tr>\n",
       "  <th>Lead Origin_Lead Add Form</th>                            <td>    2.9483</td> <td>    1.191</td> <td>    2.475</td> <td> 0.013</td> <td>    0.614</td> <td>    5.283</td>\n",
       "</tr>\n",
       "<tr>\n",
       "  <th>Lead Source_Olark Chat</th>                               <td>    1.4584</td> <td>    0.122</td> <td>   11.962</td> <td> 0.000</td> <td>    1.219</td> <td>    1.697</td>\n",
       "</tr>\n",
       "<tr>\n",
       "  <th>Lead Source_Reference</th>                                <td>    1.2994</td> <td>    1.214</td> <td>    1.070</td> <td> 0.285</td> <td>   -1.080</td> <td>    3.679</td>\n",
       "</tr>\n",
       "<tr>\n",
       "  <th>Lead Source_Welingak Website</th>                         <td>    3.4159</td> <td>    1.558</td> <td>    2.192</td> <td> 0.028</td> <td>    0.362</td> <td>    6.470</td>\n",
       "</tr>\n",
       "<tr>\n",
       "  <th>Do Not Email_Yes</th>                                     <td>   -1.5053</td> <td>    0.193</td> <td>   -7.781</td> <td> 0.000</td> <td>   -1.884</td> <td>   -1.126</td>\n",
       "</tr>\n",
       "<tr>\n",
       "  <th>Last Activity_Had a Phone Conversation</th>               <td>    1.0397</td> <td>    0.983</td> <td>    1.058</td> <td> 0.290</td> <td>   -0.887</td> <td>    2.966</td>\n",
       "</tr>\n",
       "<tr>\n",
       "  <th>Last Activity_SMS Sent</th>                               <td>    1.1827</td> <td>    0.082</td> <td>   14.362</td> <td> 0.000</td> <td>    1.021</td> <td>    1.344</td>\n",
       "</tr>\n",
       "<tr>\n",
       "  <th>What is your current occupation_Housewife</th>            <td>   22.6492</td> <td> 2.45e+04</td> <td>    0.001</td> <td> 0.999</td> <td> -4.8e+04</td> <td>  4.8e+04</td>\n",
       "</tr>\n",
       "<tr>\n",
       "  <th>What is your current occupation_Student</th>              <td>   -1.1544</td> <td>    0.630</td> <td>   -1.831</td> <td> 0.067</td> <td>   -2.390</td> <td>    0.081</td>\n",
       "</tr>\n",
       "<tr>\n",
       "  <th>What is your current occupation_Unemployed</th>           <td>   -1.3395</td> <td>    0.594</td> <td>   -2.254</td> <td> 0.024</td> <td>   -2.505</td> <td>   -0.175</td>\n",
       "</tr>\n",
       "<tr>\n",
       "  <th>What is your current occupation_Working Professional</th> <td>    1.2743</td> <td>    0.623</td> <td>    2.045</td> <td> 0.041</td> <td>    0.053</td> <td>    2.496</td>\n",
       "</tr>\n",
       "<tr>\n",
       "  <th>Last Notable Activity_Had a Phone Conversation</th>       <td>   23.1932</td> <td> 2.08e+04</td> <td>    0.001</td> <td> 0.999</td> <td>-4.08e+04</td> <td> 4.08e+04</td>\n",
       "</tr>\n",
       "<tr>\n",
       "  <th>Last Notable Activity_Unreachable</th>                    <td>    2.7868</td> <td>    0.807</td> <td>    3.453</td> <td> 0.001</td> <td>    1.205</td> <td>    4.369</td>\n",
       "</tr>\n",
       "</table>"
      ],
      "text/plain": [
       "<class 'statsmodels.iolib.summary.Summary'>\n",
       "\"\"\"\n",
       "                 Generalized Linear Model Regression Results                  \n",
       "==============================================================================\n",
       "Dep. Variable:              Converted   No. Observations:                 4461\n",
       "Model:                            GLM   Df Residuals:                     4445\n",
       "Model Family:                Binomial   Df Model:                           15\n",
       "Link Function:                  Logit   Scale:                          1.0000\n",
       "Method:                          IRLS   Log-Likelihood:                -2072.8\n",
       "Date:                Sun, 29 Oct 2023   Deviance:                       4145.5\n",
       "Time:                        18:23:17   Pearson chi2:                 4.84e+03\n",
       "No. Iterations:                    22   Pseudo R-squ. (CS):             0.3660\n",
       "Covariance Type:            nonrobust                                         \n",
       "========================================================================================================================\n",
       "                                                           coef    std err          z      P>|z|      [0.025      0.975]\n",
       "------------------------------------------------------------------------------------------------------------------------\n",
       "const                                                   -1.0061      0.600     -1.677      0.094      -2.182       0.170\n",
       "TotalVisits                                             11.3439      2.682      4.230      0.000       6.088      16.600\n",
       "Total Time Spent on Website                              4.4312      0.185     23.924      0.000       4.068       4.794\n",
       "Lead Origin_Lead Add Form                                2.9483      1.191      2.475      0.013       0.614       5.283\n",
       "Lead Source_Olark Chat                                   1.4584      0.122     11.962      0.000       1.219       1.697\n",
       "Lead Source_Reference                                    1.2994      1.214      1.070      0.285      -1.080       3.679\n",
       "Lead Source_Welingak Website                             3.4159      1.558      2.192      0.028       0.362       6.470\n",
       "Do Not Email_Yes                                        -1.5053      0.193     -7.781      0.000      -1.884      -1.126\n",
       "Last Activity_Had a Phone Conversation                   1.0397      0.983      1.058      0.290      -0.887       2.966\n",
       "Last Activity_SMS Sent                                   1.1827      0.082     14.362      0.000       1.021       1.344\n",
       "What is your current occupation_Housewife               22.6492   2.45e+04      0.001      0.999    -4.8e+04     4.8e+04\n",
       "What is your current occupation_Student                 -1.1544      0.630     -1.831      0.067      -2.390       0.081\n",
       "What is your current occupation_Unemployed              -1.3395      0.594     -2.254      0.024      -2.505      -0.175\n",
       "What is your current occupation_Working Professional     1.2743      0.623      2.045      0.041       0.053       2.496\n",
       "Last Notable Activity_Had a Phone Conversation          23.1932   2.08e+04      0.001      0.999   -4.08e+04    4.08e+04\n",
       "Last Notable Activity_Unreachable                        2.7868      0.807      3.453      0.001       1.205       4.369\n",
       "========================================================================================================================\n",
       "\"\"\""
      ]
     },
     "execution_count": 143,
     "metadata": {},
     "output_type": "execute_result"
    }
   ],
   "source": [
    "X_train_sm = sm.add_constant(X_train)\n",
    "logm2 = sm.GLM(y_train, X_train_sm, family = sm.families.Binomial())\n",
    "res = logm2.fit()\n",
    "res.summary()"
   ]
  },
  {
   "cell_type": "code",
   "execution_count": null,
   "id": "14a521bc-3125-4043-9082-6fd1f1b9cce6",
   "metadata": {},
   "outputs": [],
   "source": []
  },
  {
   "cell_type": "markdown",
   "id": "294b27b0-385c-44ac-aecb-374db325c27d",
   "metadata": {},
   "source": [
    "### Checking `VIF`"
   ]
  },
  {
   "cell_type": "code",
   "execution_count": 146,
   "id": "6e2e71ab-2664-476d-bb19-c536106e63ce",
   "metadata": {},
   "outputs": [],
   "source": [
    "# Importing the 'variance_inflation_factor' library\n",
    "from statsmodels.stats.outliers_influence import variance_inflation_factor"
   ]
  },
  {
   "cell_type": "code",
   "execution_count": 147,
   "id": "b0f40e5e-0341-40f1-88b3-e5ab0b7fe561",
   "metadata": {},
   "outputs": [
    {
     "data": {
      "text/html": [
       "<div>\n",
       "<style scoped>\n",
       "    .dataframe tbody tr th:only-of-type {\n",
       "        vertical-align: middle;\n",
       "    }\n",
       "\n",
       "    .dataframe tbody tr th {\n",
       "        vertical-align: top;\n",
       "    }\n",
       "\n",
       "    .dataframe thead th {\n",
       "        text-align: right;\n",
       "    }\n",
       "</style>\n",
       "<table border=\"1\" class=\"dataframe\">\n",
       "  <thead>\n",
       "    <tr style=\"text-align: right;\">\n",
       "      <th></th>\n",
       "      <th>Features</th>\n",
       "      <th>VIF</th>\n",
       "    </tr>\n",
       "  </thead>\n",
       "  <tbody>\n",
       "    <tr>\n",
       "      <th>2</th>\n",
       "      <td>Lead Origin_Lead Add Form</td>\n",
       "      <td>84.19</td>\n",
       "    </tr>\n",
       "    <tr>\n",
       "      <th>4</th>\n",
       "      <td>Lead Source_Reference</td>\n",
       "      <td>65.18</td>\n",
       "    </tr>\n",
       "    <tr>\n",
       "      <th>5</th>\n",
       "      <td>Lead Source_Welingak Website</td>\n",
       "      <td>20.03</td>\n",
       "    </tr>\n",
       "    <tr>\n",
       "      <th>11</th>\n",
       "      <td>What is your current occupation_Unemployed</td>\n",
       "      <td>3.65</td>\n",
       "    </tr>\n",
       "    <tr>\n",
       "      <th>7</th>\n",
       "      <td>Last Activity_Had a Phone Conversation</td>\n",
       "      <td>2.44</td>\n",
       "    </tr>\n",
       "    <tr>\n",
       "      <th>13</th>\n",
       "      <td>Last Notable Activity_Had a Phone Conversation</td>\n",
       "      <td>2.43</td>\n",
       "    </tr>\n",
       "    <tr>\n",
       "      <th>1</th>\n",
       "      <td>Total Time Spent on Website</td>\n",
       "      <td>2.38</td>\n",
       "    </tr>\n",
       "    <tr>\n",
       "      <th>0</th>\n",
       "      <td>TotalVisits</td>\n",
       "      <td>1.62</td>\n",
       "    </tr>\n",
       "    <tr>\n",
       "      <th>8</th>\n",
       "      <td>Last Activity_SMS Sent</td>\n",
       "      <td>1.59</td>\n",
       "    </tr>\n",
       "    <tr>\n",
       "      <th>12</th>\n",
       "      <td>What is your current occupation_Working Profes...</td>\n",
       "      <td>1.56</td>\n",
       "    </tr>\n",
       "    <tr>\n",
       "      <th>3</th>\n",
       "      <td>Lead Source_Olark Chat</td>\n",
       "      <td>1.44</td>\n",
       "    </tr>\n",
       "    <tr>\n",
       "      <th>6</th>\n",
       "      <td>Do Not Email_Yes</td>\n",
       "      <td>1.09</td>\n",
       "    </tr>\n",
       "    <tr>\n",
       "      <th>10</th>\n",
       "      <td>What is your current occupation_Student</td>\n",
       "      <td>1.09</td>\n",
       "    </tr>\n",
       "    <tr>\n",
       "      <th>9</th>\n",
       "      <td>What is your current occupation_Housewife</td>\n",
       "      <td>1.01</td>\n",
       "    </tr>\n",
       "    <tr>\n",
       "      <th>14</th>\n",
       "      <td>Last Notable Activity_Unreachable</td>\n",
       "      <td>1.01</td>\n",
       "    </tr>\n",
       "  </tbody>\n",
       "</table>\n",
       "</div>"
      ],
      "text/plain": [
       "                                             Features    VIF\n",
       "2                           Lead Origin_Lead Add Form  84.19\n",
       "4                               Lead Source_Reference  65.18\n",
       "5                        Lead Source_Welingak Website  20.03\n",
       "11         What is your current occupation_Unemployed   3.65\n",
       "7              Last Activity_Had a Phone Conversation   2.44\n",
       "13     Last Notable Activity_Had a Phone Conversation   2.43\n",
       "1                         Total Time Spent on Website   2.38\n",
       "0                                         TotalVisits   1.62\n",
       "8                              Last Activity_SMS Sent   1.59\n",
       "12  What is your current occupation_Working Profes...   1.56\n",
       "3                              Lead Source_Olark Chat   1.44\n",
       "6                                    Do Not Email_Yes   1.09\n",
       "10            What is your current occupation_Student   1.09\n",
       "9           What is your current occupation_Housewife   1.01\n",
       "14                  Last Notable Activity_Unreachable   1.01"
      ]
     },
     "execution_count": 147,
     "metadata": {},
     "output_type": "execute_result"
    }
   ],
   "source": [
    "# Make a VIF dataframe for all the variables present\n",
    "\n",
    "vif = pd.DataFrame()\n",
    "vif['Features'] = X_train.columns\n",
    "vif['VIF'] = [variance_inflation_factor(X_train.values, i) for i in range(X_train.shape[1])]\n",
    "vif['VIF'] = round(vif['VIF'], 2)\n",
    "vif = vif.sort_values(by = \"VIF\", ascending = False)\n",
    "vif"
   ]
  },
  {
   "cell_type": "markdown",
   "id": "d51e0cdd-4b2f-4670-8d11-547c03b66cb7",
   "metadata": {},
   "source": [
    "VIFs seem to be in a decent range except for three variables.\n",
    "\n",
    "Let's first drop the variable `Lead Source_Reference` since it has a high p-value as well as a high VIF."
   ]
  },
  {
   "cell_type": "code",
   "execution_count": 148,
   "id": "ea1deeb2-f3a3-4e4b-ae4a-7ad74c97c201",
   "metadata": {},
   "outputs": [],
   "source": [
    "X_train.drop('Lead Source_Reference', axis = 1, inplace = True)"
   ]
  },
  {
   "cell_type": "markdown",
   "id": "ef43160f-bb82-4d9d-afb0-8bd417662bc6",
   "metadata": {},
   "source": [
    "### Model 2"
   ]
  },
  {
   "cell_type": "code",
   "execution_count": 149,
   "id": "83aa09dd-bb93-4604-9a0e-b79baaae0283",
   "metadata": {},
   "outputs": [
    {
     "data": {
      "text/html": [
       "<table class=\"simpletable\">\n",
       "<caption>Generalized Linear Model Regression Results</caption>\n",
       "<tr>\n",
       "  <th>Dep. Variable:</th>       <td>Converted</td>    <th>  No. Observations:  </th>  <td>  4461</td> \n",
       "</tr>\n",
       "<tr>\n",
       "  <th>Model:</th>                  <td>GLM</td>       <th>  Df Residuals:      </th>  <td>  4446</td> \n",
       "</tr>\n",
       "<tr>\n",
       "  <th>Model Family:</th>        <td>Binomial</td>     <th>  Df Model:          </th>  <td>    14</td> \n",
       "</tr>\n",
       "<tr>\n",
       "  <th>Link Function:</th>         <td>Logit</td>      <th>  Scale:             </th> <td>  1.0000</td>\n",
       "</tr>\n",
       "<tr>\n",
       "  <th>Method:</th>                <td>IRLS</td>       <th>  Log-Likelihood:    </th> <td> -2073.2</td>\n",
       "</tr>\n",
       "<tr>\n",
       "  <th>Date:</th>            <td>Sun, 29 Oct 2023</td> <th>  Deviance:          </th> <td>  4146.5</td>\n",
       "</tr>\n",
       "<tr>\n",
       "  <th>Time:</th>                <td>18:25:24</td>     <th>  Pearson chi2:      </th> <td>4.82e+03</td>\n",
       "</tr>\n",
       "<tr>\n",
       "  <th>No. Iterations:</th>         <td>22</td>        <th>  Pseudo R-squ. (CS):</th>  <td>0.3658</td> \n",
       "</tr>\n",
       "<tr>\n",
       "  <th>Covariance Type:</th>     <td>nonrobust</td>    <th>                     </th>     <td> </td>   \n",
       "</tr>\n",
       "</table>\n",
       "<table class=\"simpletable\">\n",
       "<tr>\n",
       "                            <td></td>                              <th>coef</th>     <th>std err</th>      <th>z</th>      <th>P>|z|</th>  <th>[0.025</th>    <th>0.975]</th>  \n",
       "</tr>\n",
       "<tr>\n",
       "  <th>const</th>                                                <td>   -1.0057</td> <td>    0.600</td> <td>   -1.677</td> <td> 0.094</td> <td>   -2.181</td> <td>    0.170</td>\n",
       "</tr>\n",
       "<tr>\n",
       "  <th>TotalVisits</th>                                          <td>   11.3428</td> <td>    2.682</td> <td>    4.229</td> <td> 0.000</td> <td>    6.086</td> <td>   16.599</td>\n",
       "</tr>\n",
       "<tr>\n",
       "  <th>Total Time Spent on Website</th>                          <td>    4.4312</td> <td>    0.185</td> <td>   23.924</td> <td> 0.000</td> <td>    4.068</td> <td>    4.794</td>\n",
       "</tr>\n",
       "<tr>\n",
       "  <th>Lead Origin_Lead Add Form</th>                            <td>    4.2084</td> <td>    0.259</td> <td>   16.277</td> <td> 0.000</td> <td>    3.702</td> <td>    4.715</td>\n",
       "</tr>\n",
       "<tr>\n",
       "  <th>Lead Source_Olark Chat</th>                               <td>    1.4583</td> <td>    0.122</td> <td>   11.960</td> <td> 0.000</td> <td>    1.219</td> <td>    1.697</td>\n",
       "</tr>\n",
       "<tr>\n",
       "  <th>Lead Source_Welingak Website</th>                         <td>    2.1557</td> <td>    1.037</td> <td>    2.079</td> <td> 0.038</td> <td>    0.124</td> <td>    4.188</td>\n",
       "</tr>\n",
       "<tr>\n",
       "  <th>Do Not Email_Yes</th>                                     <td>   -1.5036</td> <td>    0.193</td> <td>   -7.779</td> <td> 0.000</td> <td>   -1.882</td> <td>   -1.125</td>\n",
       "</tr>\n",
       "<tr>\n",
       "  <th>Last Activity_Had a Phone Conversation</th>               <td>    1.0398</td> <td>    0.983</td> <td>    1.058</td> <td> 0.290</td> <td>   -0.887</td> <td>    2.966</td>\n",
       "</tr>\n",
       "<tr>\n",
       "  <th>Last Activity_SMS Sent</th>                               <td>    1.1827</td> <td>    0.082</td> <td>   14.362</td> <td> 0.000</td> <td>    1.021</td> <td>    1.344</td>\n",
       "</tr>\n",
       "<tr>\n",
       "  <th>What is your current occupation_Housewife</th>            <td>   22.6511</td> <td> 2.45e+04</td> <td>    0.001</td> <td> 0.999</td> <td> -4.8e+04</td> <td>  4.8e+04</td>\n",
       "</tr>\n",
       "<tr>\n",
       "  <th>What is your current occupation_Student</th>              <td>   -1.1537</td> <td>    0.630</td> <td>   -1.830</td> <td> 0.067</td> <td>   -2.389</td> <td>    0.082</td>\n",
       "</tr>\n",
       "<tr>\n",
       "  <th>What is your current occupation_Unemployed</th>           <td>   -1.3401</td> <td>    0.594</td> <td>   -2.255</td> <td> 0.024</td> <td>   -2.505</td> <td>   -0.175</td>\n",
       "</tr>\n",
       "<tr>\n",
       "  <th>What is your current occupation_Working Professional</th> <td>    1.2748</td> <td>    0.623</td> <td>    2.046</td> <td> 0.041</td> <td>    0.053</td> <td>    2.496</td>\n",
       "</tr>\n",
       "<tr>\n",
       "  <th>Last Notable Activity_Had a Phone Conversation</th>       <td>   23.1934</td> <td> 2.08e+04</td> <td>    0.001</td> <td> 0.999</td> <td>-4.08e+04</td> <td> 4.08e+04</td>\n",
       "</tr>\n",
       "<tr>\n",
       "  <th>Last Notable Activity_Unreachable</th>                    <td>    2.7872</td> <td>    0.807</td> <td>    3.454</td> <td> 0.001</td> <td>    1.205</td> <td>    4.369</td>\n",
       "</tr>\n",
       "</table>"
      ],
      "text/plain": [
       "<class 'statsmodels.iolib.summary.Summary'>\n",
       "\"\"\"\n",
       "                 Generalized Linear Model Regression Results                  \n",
       "==============================================================================\n",
       "Dep. Variable:              Converted   No. Observations:                 4461\n",
       "Model:                            GLM   Df Residuals:                     4446\n",
       "Model Family:                Binomial   Df Model:                           14\n",
       "Link Function:                  Logit   Scale:                          1.0000\n",
       "Method:                          IRLS   Log-Likelihood:                -2073.2\n",
       "Date:                Sun, 29 Oct 2023   Deviance:                       4146.5\n",
       "Time:                        18:25:24   Pearson chi2:                 4.82e+03\n",
       "No. Iterations:                    22   Pseudo R-squ. (CS):             0.3658\n",
       "Covariance Type:            nonrobust                                         \n",
       "========================================================================================================================\n",
       "                                                           coef    std err          z      P>|z|      [0.025      0.975]\n",
       "------------------------------------------------------------------------------------------------------------------------\n",
       "const                                                   -1.0057      0.600     -1.677      0.094      -2.181       0.170\n",
       "TotalVisits                                             11.3428      2.682      4.229      0.000       6.086      16.599\n",
       "Total Time Spent on Website                              4.4312      0.185     23.924      0.000       4.068       4.794\n",
       "Lead Origin_Lead Add Form                                4.2084      0.259     16.277      0.000       3.702       4.715\n",
       "Lead Source_Olark Chat                                   1.4583      0.122     11.960      0.000       1.219       1.697\n",
       "Lead Source_Welingak Website                             2.1557      1.037      2.079      0.038       0.124       4.188\n",
       "Do Not Email_Yes                                        -1.5036      0.193     -7.779      0.000      -1.882      -1.125\n",
       "Last Activity_Had a Phone Conversation                   1.0398      0.983      1.058      0.290      -0.887       2.966\n",
       "Last Activity_SMS Sent                                   1.1827      0.082     14.362      0.000       1.021       1.344\n",
       "What is your current occupation_Housewife               22.6511   2.45e+04      0.001      0.999    -4.8e+04     4.8e+04\n",
       "What is your current occupation_Student                 -1.1537      0.630     -1.830      0.067      -2.389       0.082\n",
       "What is your current occupation_Unemployed              -1.3401      0.594     -2.255      0.024      -2.505      -0.175\n",
       "What is your current occupation_Working Professional     1.2748      0.623      2.046      0.041       0.053       2.496\n",
       "Last Notable Activity_Had a Phone Conversation          23.1934   2.08e+04      0.001      0.999   -4.08e+04    4.08e+04\n",
       "Last Notable Activity_Unreachable                        2.7872      0.807      3.454      0.001       1.205       4.369\n",
       "========================================================================================================================\n",
       "\"\"\""
      ]
     },
     "execution_count": 149,
     "metadata": {},
     "output_type": "execute_result"
    }
   ],
   "source": [
    "# Refit the model with the new set of features\n",
    "\n",
    "logm1 = sm.GLM(y_train,(sm.add_constant(X_train)), family = sm.families.Binomial())\n",
    "logm1.fit().summary()"
   ]
  },
  {
   "cell_type": "markdown",
   "id": "38f0b913-aecf-4fea-a38e-db3dfbfebc54",
   "metadata": {},
   "source": [
    "## Checking VIF for Model 2"
   ]
  },
  {
   "cell_type": "code",
   "execution_count": 150,
   "id": "424c7bc6-b354-42aa-9f8c-5c03e1a241a2",
   "metadata": {},
   "outputs": [
    {
     "data": {
      "text/html": [
       "<div>\n",
       "<style scoped>\n",
       "    .dataframe tbody tr th:only-of-type {\n",
       "        vertical-align: middle;\n",
       "    }\n",
       "\n",
       "    .dataframe tbody tr th {\n",
       "        vertical-align: top;\n",
       "    }\n",
       "\n",
       "    .dataframe thead th {\n",
       "        text-align: right;\n",
       "    }\n",
       "</style>\n",
       "<table border=\"1\" class=\"dataframe\">\n",
       "  <thead>\n",
       "    <tr style=\"text-align: right;\">\n",
       "      <th></th>\n",
       "      <th>Features</th>\n",
       "      <th>VIF</th>\n",
       "    </tr>\n",
       "  </thead>\n",
       "  <tbody>\n",
       "    <tr>\n",
       "      <th>10</th>\n",
       "      <td>What is your current occupation_Unemployed</td>\n",
       "      <td>3.65</td>\n",
       "    </tr>\n",
       "    <tr>\n",
       "      <th>6</th>\n",
       "      <td>Last Activity_Had a Phone Conversation</td>\n",
       "      <td>2.44</td>\n",
       "    </tr>\n",
       "    <tr>\n",
       "      <th>12</th>\n",
       "      <td>Last Notable Activity_Had a Phone Conversation</td>\n",
       "      <td>2.43</td>\n",
       "    </tr>\n",
       "    <tr>\n",
       "      <th>1</th>\n",
       "      <td>Total Time Spent on Website</td>\n",
       "      <td>2.38</td>\n",
       "    </tr>\n",
       "    <tr>\n",
       "      <th>2</th>\n",
       "      <td>Lead Origin_Lead Add Form</td>\n",
       "      <td>1.71</td>\n",
       "    </tr>\n",
       "    <tr>\n",
       "      <th>0</th>\n",
       "      <td>TotalVisits</td>\n",
       "      <td>1.62</td>\n",
       "    </tr>\n",
       "    <tr>\n",
       "      <th>7</th>\n",
       "      <td>Last Activity_SMS Sent</td>\n",
       "      <td>1.59</td>\n",
       "    </tr>\n",
       "    <tr>\n",
       "      <th>11</th>\n",
       "      <td>What is your current occupation_Working Profes...</td>\n",
       "      <td>1.56</td>\n",
       "    </tr>\n",
       "    <tr>\n",
       "      <th>3</th>\n",
       "      <td>Lead Source_Olark Chat</td>\n",
       "      <td>1.44</td>\n",
       "    </tr>\n",
       "    <tr>\n",
       "      <th>4</th>\n",
       "      <td>Lead Source_Welingak Website</td>\n",
       "      <td>1.33</td>\n",
       "    </tr>\n",
       "    <tr>\n",
       "      <th>5</th>\n",
       "      <td>Do Not Email_Yes</td>\n",
       "      <td>1.09</td>\n",
       "    </tr>\n",
       "    <tr>\n",
       "      <th>9</th>\n",
       "      <td>What is your current occupation_Student</td>\n",
       "      <td>1.09</td>\n",
       "    </tr>\n",
       "    <tr>\n",
       "      <th>8</th>\n",
       "      <td>What is your current occupation_Housewife</td>\n",
       "      <td>1.01</td>\n",
       "    </tr>\n",
       "    <tr>\n",
       "      <th>13</th>\n",
       "      <td>Last Notable Activity_Unreachable</td>\n",
       "      <td>1.01</td>\n",
       "    </tr>\n",
       "  </tbody>\n",
       "</table>\n",
       "</div>"
      ],
      "text/plain": [
       "                                             Features   VIF\n",
       "10         What is your current occupation_Unemployed  3.65\n",
       "6              Last Activity_Had a Phone Conversation  2.44\n",
       "12     Last Notable Activity_Had a Phone Conversation  2.43\n",
       "1                         Total Time Spent on Website  2.38\n",
       "2                           Lead Origin_Lead Add Form  1.71\n",
       "0                                         TotalVisits  1.62\n",
       "7                              Last Activity_SMS Sent  1.59\n",
       "11  What is your current occupation_Working Profes...  1.56\n",
       "3                              Lead Source_Olark Chat  1.44\n",
       "4                        Lead Source_Welingak Website  1.33\n",
       "5                                    Do Not Email_Yes  1.09\n",
       "9             What is your current occupation_Student  1.09\n",
       "8           What is your current occupation_Housewife  1.01\n",
       "13                  Last Notable Activity_Unreachable  1.01"
      ]
     },
     "execution_count": 150,
     "metadata": {},
     "output_type": "execute_result"
    }
   ],
   "source": [
    "vif = pd.DataFrame()\n",
    "vif['Features'] = X_train.columns\n",
    "vif['VIF'] = [variance_inflation_factor(X_train.values, i) for i in range(X_train.shape[1])]\n",
    "vif['VIF'] = round(vif['VIF'], 2)\n",
    "vif = vif.sort_values(by = \"VIF\", ascending = False)\n",
    "vif"
   ]
  },
  {
   "cell_type": "markdown",
   "id": "6790db29-cf43-4852-a213-55b236751dfd",
   "metadata": {},
   "source": [
    "The VIFs are now all less than 5. So let's drop the ones with the high p-values beginning with `Last Notable Activity_Had a Phone Conversation`."
   ]
  },
  {
   "cell_type": "code",
   "execution_count": 151,
   "id": "38c400fa-5232-4047-8fd6-372d3d3ce658",
   "metadata": {},
   "outputs": [],
   "source": [
    "X_train.drop('Last Notable Activity_Had a Phone Conversation', axis = 1, inplace = True)"
   ]
  },
  {
   "cell_type": "markdown",
   "id": "ca6f1973-6175-4cf4-8593-6318d42504b4",
   "metadata": {},
   "source": [
    "## Model 3"
   ]
  },
  {
   "cell_type": "code",
   "execution_count": 152,
   "id": "530c41e3-3537-4ede-a948-fff375649597",
   "metadata": {},
   "outputs": [
    {
     "data": {
      "text/html": [
       "<table class=\"simpletable\">\n",
       "<caption>Generalized Linear Model Regression Results</caption>\n",
       "<tr>\n",
       "  <th>Dep. Variable:</th>       <td>Converted</td>    <th>  No. Observations:  </th>  <td>  4461</td> \n",
       "</tr>\n",
       "<tr>\n",
       "  <th>Model:</th>                  <td>GLM</td>       <th>  Df Residuals:      </th>  <td>  4447</td> \n",
       "</tr>\n",
       "<tr>\n",
       "  <th>Model Family:</th>        <td>Binomial</td>     <th>  Df Model:          </th>  <td>    13</td> \n",
       "</tr>\n",
       "<tr>\n",
       "  <th>Link Function:</th>         <td>Logit</td>      <th>  Scale:             </th> <td>  1.0000</td>\n",
       "</tr>\n",
       "<tr>\n",
       "  <th>Method:</th>                <td>IRLS</td>       <th>  Log-Likelihood:    </th> <td> -2076.1</td>\n",
       "</tr>\n",
       "<tr>\n",
       "  <th>Date:</th>            <td>Sun, 29 Oct 2023</td> <th>  Deviance:          </th> <td>  4152.2</td>\n",
       "</tr>\n",
       "<tr>\n",
       "  <th>Time:</th>                <td>18:26:35</td>     <th>  Pearson chi2:      </th> <td>4.82e+03</td>\n",
       "</tr>\n",
       "<tr>\n",
       "  <th>No. Iterations:</th>         <td>21</td>        <th>  Pseudo R-squ. (CS):</th>  <td>0.3650</td> \n",
       "</tr>\n",
       "<tr>\n",
       "  <th>Covariance Type:</th>     <td>nonrobust</td>    <th>                     </th>     <td> </td>   \n",
       "</tr>\n",
       "</table>\n",
       "<table class=\"simpletable\">\n",
       "<tr>\n",
       "                            <td></td>                              <th>coef</th>     <th>std err</th>      <th>z</th>      <th>P>|z|</th>  <th>[0.025</th>    <th>0.975]</th>  \n",
       "</tr>\n",
       "<tr>\n",
       "  <th>const</th>                                                <td>   -1.0069</td> <td>    0.600</td> <td>   -1.679</td> <td> 0.093</td> <td>   -2.182</td> <td>    0.168</td>\n",
       "</tr>\n",
       "<tr>\n",
       "  <th>TotalVisits</th>                                          <td>   11.4551</td> <td>    2.686</td> <td>    4.265</td> <td> 0.000</td> <td>    6.191</td> <td>   16.720</td>\n",
       "</tr>\n",
       "<tr>\n",
       "  <th>Total Time Spent on Website</th>                          <td>    4.4237</td> <td>    0.185</td> <td>   23.900</td> <td> 0.000</td> <td>    4.061</td> <td>    4.787</td>\n",
       "</tr>\n",
       "<tr>\n",
       "  <th>Lead Origin_Lead Add Form</th>                            <td>    4.2082</td> <td>    0.259</td> <td>   16.276</td> <td> 0.000</td> <td>    3.701</td> <td>    4.715</td>\n",
       "</tr>\n",
       "<tr>\n",
       "  <th>Lead Source_Olark Chat</th>                               <td>    1.4581</td> <td>    0.122</td> <td>   11.958</td> <td> 0.000</td> <td>    1.219</td> <td>    1.697</td>\n",
       "</tr>\n",
       "<tr>\n",
       "  <th>Lead Source_Welingak Website</th>                         <td>    2.1557</td> <td>    1.037</td> <td>    2.079</td> <td> 0.038</td> <td>    0.124</td> <td>    4.188</td>\n",
       "</tr>\n",
       "<tr>\n",
       "  <th>Do Not Email_Yes</th>                                     <td>   -1.5037</td> <td>    0.193</td> <td>   -7.780</td> <td> 0.000</td> <td>   -1.882</td> <td>   -1.125</td>\n",
       "</tr>\n",
       "<tr>\n",
       "  <th>Last Activity_Had a Phone Conversation</th>               <td>    2.7502</td> <td>    0.802</td> <td>    3.430</td> <td> 0.001</td> <td>    1.179</td> <td>    4.322</td>\n",
       "</tr>\n",
       "<tr>\n",
       "  <th>Last Activity_SMS Sent</th>                               <td>    1.1826</td> <td>    0.082</td> <td>   14.364</td> <td> 0.000</td> <td>    1.021</td> <td>    1.344</td>\n",
       "</tr>\n",
       "<tr>\n",
       "  <th>What is your current occupation_Housewife</th>            <td>   21.6525</td> <td> 1.49e+04</td> <td>    0.001</td> <td> 0.999</td> <td>-2.91e+04</td> <td> 2.91e+04</td>\n",
       "</tr>\n",
       "<tr>\n",
       "  <th>What is your current occupation_Student</th>              <td>   -1.1520</td> <td>    0.630</td> <td>   -1.828</td> <td> 0.068</td> <td>   -2.387</td> <td>    0.083</td>\n",
       "</tr>\n",
       "<tr>\n",
       "  <th>What is your current occupation_Unemployed</th>           <td>   -1.3385</td> <td>    0.594</td> <td>   -2.253</td> <td> 0.024</td> <td>   -2.503</td> <td>   -0.174</td>\n",
       "</tr>\n",
       "<tr>\n",
       "  <th>What is your current occupation_Working Professional</th> <td>    1.2743</td> <td>    0.623</td> <td>    2.045</td> <td> 0.041</td> <td>    0.053</td> <td>    2.495</td>\n",
       "</tr>\n",
       "<tr>\n",
       "  <th>Last Notable Activity_Unreachable</th>                    <td>    2.7862</td> <td>    0.807</td> <td>    3.453</td> <td> 0.001</td> <td>    1.205</td> <td>    4.368</td>\n",
       "</tr>\n",
       "</table>"
      ],
      "text/plain": [
       "<class 'statsmodels.iolib.summary.Summary'>\n",
       "\"\"\"\n",
       "                 Generalized Linear Model Regression Results                  \n",
       "==============================================================================\n",
       "Dep. Variable:              Converted   No. Observations:                 4461\n",
       "Model:                            GLM   Df Residuals:                     4447\n",
       "Model Family:                Binomial   Df Model:                           13\n",
       "Link Function:                  Logit   Scale:                          1.0000\n",
       "Method:                          IRLS   Log-Likelihood:                -2076.1\n",
       "Date:                Sun, 29 Oct 2023   Deviance:                       4152.2\n",
       "Time:                        18:26:35   Pearson chi2:                 4.82e+03\n",
       "No. Iterations:                    21   Pseudo R-squ. (CS):             0.3650\n",
       "Covariance Type:            nonrobust                                         \n",
       "========================================================================================================================\n",
       "                                                           coef    std err          z      P>|z|      [0.025      0.975]\n",
       "------------------------------------------------------------------------------------------------------------------------\n",
       "const                                                   -1.0069      0.600     -1.679      0.093      -2.182       0.168\n",
       "TotalVisits                                             11.4551      2.686      4.265      0.000       6.191      16.720\n",
       "Total Time Spent on Website                              4.4237      0.185     23.900      0.000       4.061       4.787\n",
       "Lead Origin_Lead Add Form                                4.2082      0.259     16.276      0.000       3.701       4.715\n",
       "Lead Source_Olark Chat                                   1.4581      0.122     11.958      0.000       1.219       1.697\n",
       "Lead Source_Welingak Website                             2.1557      1.037      2.079      0.038       0.124       4.188\n",
       "Do Not Email_Yes                                        -1.5037      0.193     -7.780      0.000      -1.882      -1.125\n",
       "Last Activity_Had a Phone Conversation                   2.7502      0.802      3.430      0.001       1.179       4.322\n",
       "Last Activity_SMS Sent                                   1.1826      0.082     14.364      0.000       1.021       1.344\n",
       "What is your current occupation_Housewife               21.6525   1.49e+04      0.001      0.999   -2.91e+04    2.91e+04\n",
       "What is your current occupation_Student                 -1.1520      0.630     -1.828      0.068      -2.387       0.083\n",
       "What is your current occupation_Unemployed              -1.3385      0.594     -2.253      0.024      -2.503      -0.174\n",
       "What is your current occupation_Working Professional     1.2743      0.623      2.045      0.041       0.053       2.495\n",
       "Last Notable Activity_Unreachable                        2.7862      0.807      3.453      0.001       1.205       4.368\n",
       "========================================================================================================================\n",
       "\"\"\""
      ]
     },
     "execution_count": 152,
     "metadata": {},
     "output_type": "execute_result"
    }
   ],
   "source": [
    "\n",
    "logm1 = sm.GLM(y_train,(sm.add_constant(X_train)), family = sm.families.Binomial())\n",
    "logm1.fit().summary()"
   ]
  },
  {
   "cell_type": "markdown",
   "id": "06625509-3d3f-4dc1-b0ad-21ddc41d7291",
   "metadata": {},
   "source": [
    "Dropping the `What is your current occupation_Housewife` as having high P value"
   ]
  },
  {
   "cell_type": "code",
   "execution_count": 153,
   "id": "962c928f-02a9-46e3-b183-ca350332ba19",
   "metadata": {},
   "outputs": [],
   "source": [
    "X_train.drop('What is your current occupation_Housewife', axis = 1, inplace = True)"
   ]
  },
  {
   "cell_type": "markdown",
   "id": "635275b4-77f4-45a3-9c62-ed2ac9f56ed3",
   "metadata": {},
   "source": [
    "## Model 4"
   ]
  },
  {
   "cell_type": "code",
   "execution_count": 154,
   "id": "7308f9ae-47f3-4c7f-adb3-2592111bf560",
   "metadata": {},
   "outputs": [
    {
     "data": {
      "text/html": [
       "<table class=\"simpletable\">\n",
       "<caption>Generalized Linear Model Regression Results</caption>\n",
       "<tr>\n",
       "  <th>Dep. Variable:</th>       <td>Converted</td>    <th>  No. Observations:  </th>  <td>  4461</td> \n",
       "</tr>\n",
       "<tr>\n",
       "  <th>Model:</th>                  <td>GLM</td>       <th>  Df Residuals:      </th>  <td>  4448</td> \n",
       "</tr>\n",
       "<tr>\n",
       "  <th>Model Family:</th>        <td>Binomial</td>     <th>  Df Model:          </th>  <td>    12</td> \n",
       "</tr>\n",
       "<tr>\n",
       "  <th>Link Function:</th>         <td>Logit</td>      <th>  Scale:             </th> <td>  1.0000</td>\n",
       "</tr>\n",
       "<tr>\n",
       "  <th>Method:</th>                <td>IRLS</td>       <th>  Log-Likelihood:    </th> <td> -2078.3</td>\n",
       "</tr>\n",
       "<tr>\n",
       "  <th>Date:</th>            <td>Sun, 29 Oct 2023</td> <th>  Deviance:          </th> <td>  4156.7</td>\n",
       "</tr>\n",
       "<tr>\n",
       "  <th>Time:</th>                <td>18:27:18</td>     <th>  Pearson chi2:      </th> <td>4.83e+03</td>\n",
       "</tr>\n",
       "<tr>\n",
       "  <th>No. Iterations:</th>          <td>7</td>        <th>  Pseudo R-squ. (CS):</th>  <td>0.3644</td> \n",
       "</tr>\n",
       "<tr>\n",
       "  <th>Covariance Type:</th>     <td>nonrobust</td>    <th>                     </th>     <td> </td>   \n",
       "</tr>\n",
       "</table>\n",
       "<table class=\"simpletable\">\n",
       "<tr>\n",
       "                            <td></td>                              <th>coef</th>     <th>std err</th>      <th>z</th>      <th>P>|z|</th>  <th>[0.025</th>    <th>0.975]</th>  \n",
       "</tr>\n",
       "<tr>\n",
       "  <th>const</th>                                                <td>   -0.4528</td> <td>    0.554</td> <td>   -0.818</td> <td> 0.413</td> <td>   -1.538</td> <td>    0.632</td>\n",
       "</tr>\n",
       "<tr>\n",
       "  <th>TotalVisits</th>                                          <td>   11.2586</td> <td>    2.672</td> <td>    4.214</td> <td> 0.000</td> <td>    6.023</td> <td>   16.495</td>\n",
       "</tr>\n",
       "<tr>\n",
       "  <th>Total Time Spent on Website</th>                          <td>    4.4217</td> <td>    0.185</td> <td>   23.898</td> <td> 0.000</td> <td>    4.059</td> <td>    4.784</td>\n",
       "</tr>\n",
       "<tr>\n",
       "  <th>Lead Origin_Lead Add Form</th>                            <td>    4.2057</td> <td>    0.258</td> <td>   16.274</td> <td> 0.000</td> <td>    3.699</td> <td>    4.712</td>\n",
       "</tr>\n",
       "<tr>\n",
       "  <th>Lead Source_Olark Chat</th>                               <td>    1.4530</td> <td>    0.122</td> <td>   11.930</td> <td> 0.000</td> <td>    1.214</td> <td>    1.692</td>\n",
       "</tr>\n",
       "<tr>\n",
       "  <th>Lead Source_Welingak Website</th>                         <td>    2.1541</td> <td>    1.037</td> <td>    2.078</td> <td> 0.038</td> <td>    0.122</td> <td>    4.186</td>\n",
       "</tr>\n",
       "<tr>\n",
       "  <th>Do Not Email_Yes</th>                                     <td>   -1.5063</td> <td>    0.193</td> <td>   -7.785</td> <td> 0.000</td> <td>   -1.886</td> <td>   -1.127</td>\n",
       "</tr>\n",
       "<tr>\n",
       "  <th>Last Activity_Had a Phone Conversation</th>               <td>    2.7515</td> <td>    0.802</td> <td>    3.432</td> <td> 0.001</td> <td>    1.180</td> <td>    4.323</td>\n",
       "</tr>\n",
       "<tr>\n",
       "  <th>Last Activity_SMS Sent</th>                               <td>    1.1823</td> <td>    0.082</td> <td>   14.362</td> <td> 0.000</td> <td>    1.021</td> <td>    1.344</td>\n",
       "</tr>\n",
       "<tr>\n",
       "  <th>What is your current occupation_Student</th>              <td>   -1.7017</td> <td>    0.588</td> <td>   -2.893</td> <td> 0.004</td> <td>   -2.855</td> <td>   -0.549</td>\n",
       "</tr>\n",
       "<tr>\n",
       "  <th>What is your current occupation_Unemployed</th>           <td>   -1.8879</td> <td>    0.550</td> <td>   -3.435</td> <td> 0.001</td> <td>   -2.965</td> <td>   -0.811</td>\n",
       "</tr>\n",
       "<tr>\n",
       "  <th>What is your current occupation_Working Professional</th> <td>    0.7246</td> <td>    0.581</td> <td>    1.248</td> <td> 0.212</td> <td>   -0.413</td> <td>    1.862</td>\n",
       "</tr>\n",
       "<tr>\n",
       "  <th>Last Notable Activity_Unreachable</th>                    <td>    2.7834</td> <td>    0.807</td> <td>    3.448</td> <td> 0.001</td> <td>    1.201</td> <td>    4.365</td>\n",
       "</tr>\n",
       "</table>"
      ],
      "text/plain": [
       "<class 'statsmodels.iolib.summary.Summary'>\n",
       "\"\"\"\n",
       "                 Generalized Linear Model Regression Results                  \n",
       "==============================================================================\n",
       "Dep. Variable:              Converted   No. Observations:                 4461\n",
       "Model:                            GLM   Df Residuals:                     4448\n",
       "Model Family:                Binomial   Df Model:                           12\n",
       "Link Function:                  Logit   Scale:                          1.0000\n",
       "Method:                          IRLS   Log-Likelihood:                -2078.3\n",
       "Date:                Sun, 29 Oct 2023   Deviance:                       4156.7\n",
       "Time:                        18:27:18   Pearson chi2:                 4.83e+03\n",
       "No. Iterations:                     7   Pseudo R-squ. (CS):             0.3644\n",
       "Covariance Type:            nonrobust                                         \n",
       "========================================================================================================================\n",
       "                                                           coef    std err          z      P>|z|      [0.025      0.975]\n",
       "------------------------------------------------------------------------------------------------------------------------\n",
       "const                                                   -0.4528      0.554     -0.818      0.413      -1.538       0.632\n",
       "TotalVisits                                             11.2586      2.672      4.214      0.000       6.023      16.495\n",
       "Total Time Spent on Website                              4.4217      0.185     23.898      0.000       4.059       4.784\n",
       "Lead Origin_Lead Add Form                                4.2057      0.258     16.274      0.000       3.699       4.712\n",
       "Lead Source_Olark Chat                                   1.4530      0.122     11.930      0.000       1.214       1.692\n",
       "Lead Source_Welingak Website                             2.1541      1.037      2.078      0.038       0.122       4.186\n",
       "Do Not Email_Yes                                        -1.5063      0.193     -7.785      0.000      -1.886      -1.127\n",
       "Last Activity_Had a Phone Conversation                   2.7515      0.802      3.432      0.001       1.180       4.323\n",
       "Last Activity_SMS Sent                                   1.1823      0.082     14.362      0.000       1.021       1.344\n",
       "What is your current occupation_Student                 -1.7017      0.588     -2.893      0.004      -2.855      -0.549\n",
       "What is your current occupation_Unemployed              -1.8879      0.550     -3.435      0.001      -2.965      -0.811\n",
       "What is your current occupation_Working Professional     0.7246      0.581      1.248      0.212      -0.413       1.862\n",
       "Last Notable Activity_Unreachable                        2.7834      0.807      3.448      0.001       1.201       4.365\n",
       "========================================================================================================================\n",
       "\"\"\""
      ]
     },
     "execution_count": 154,
     "metadata": {},
     "output_type": "execute_result"
    }
   ],
   "source": [
    "\n",
    "logm1 = sm.GLM(y_train,(sm.add_constant(X_train)), family = sm.families.Binomial())\n",
    "logm1.fit().summary()"
   ]
  },
  {
   "cell_type": "markdown",
   "id": "b608f2eb-a87b-4bf9-bce3-8764795ce61d",
   "metadata": {},
   "source": [
    "Droppint hre What is your current occupation_Working Professional as having high P value"
   ]
  },
  {
   "cell_type": "code",
   "execution_count": 155,
   "id": "97044e1f-7be3-447e-82f8-8bbc9ae0adc4",
   "metadata": {},
   "outputs": [],
   "source": [
    "X_train.drop('What is your current occupation_Working Professional', axis = 1, inplace = True)"
   ]
  },
  {
   "cell_type": "markdown",
   "id": "a802bb25-608c-4d3b-9589-53207a97b104",
   "metadata": {},
   "source": [
    "## Model 5"
   ]
  },
  {
   "cell_type": "code",
   "execution_count": 156,
   "id": "e825ed3f-c5b1-4d5c-a5dd-6d98e66552a2",
   "metadata": {},
   "outputs": [
    {
     "data": {
      "text/html": [
       "<table class=\"simpletable\">\n",
       "<caption>Generalized Linear Model Regression Results</caption>\n",
       "<tr>\n",
       "  <th>Dep. Variable:</th>       <td>Converted</td>    <th>  No. Observations:  </th>  <td>  4461</td> \n",
       "</tr>\n",
       "<tr>\n",
       "  <th>Model:</th>                  <td>GLM</td>       <th>  Df Residuals:      </th>  <td>  4449</td> \n",
       "</tr>\n",
       "<tr>\n",
       "  <th>Model Family:</th>        <td>Binomial</td>     <th>  Df Model:          </th>  <td>    11</td> \n",
       "</tr>\n",
       "<tr>\n",
       "  <th>Link Function:</th>         <td>Logit</td>      <th>  Scale:             </th> <td>  1.0000</td>\n",
       "</tr>\n",
       "<tr>\n",
       "  <th>Method:</th>                <td>IRLS</td>       <th>  Log-Likelihood:    </th> <td> -2079.1</td>\n",
       "</tr>\n",
       "<tr>\n",
       "  <th>Date:</th>            <td>Sun, 29 Oct 2023</td> <th>  Deviance:          </th> <td>  4158.1</td>\n",
       "</tr>\n",
       "<tr>\n",
       "  <th>Time:</th>                <td>18:29:09</td>     <th>  Pearson chi2:      </th> <td>4.80e+03</td>\n",
       "</tr>\n",
       "<tr>\n",
       "  <th>No. Iterations:</th>          <td>7</td>        <th>  Pseudo R-squ. (CS):</th>  <td>0.3642</td> \n",
       "</tr>\n",
       "<tr>\n",
       "  <th>Covariance Type:</th>     <td>nonrobust</td>    <th>                     </th>     <td> </td>   \n",
       "</tr>\n",
       "</table>\n",
       "<table class=\"simpletable\">\n",
       "<tr>\n",
       "                       <td></td>                         <th>coef</th>     <th>std err</th>      <th>z</th>      <th>P>|z|</th>  <th>[0.025</th>    <th>0.975]</th>  \n",
       "</tr>\n",
       "<tr>\n",
       "  <th>const</th>                                      <td>    0.2040</td> <td>    0.196</td> <td>    1.043</td> <td> 0.297</td> <td>   -0.179</td> <td>    0.587</td>\n",
       "</tr>\n",
       "<tr>\n",
       "  <th>TotalVisits</th>                                <td>   11.1489</td> <td>    2.665</td> <td>    4.184</td> <td> 0.000</td> <td>    5.926</td> <td>   16.371</td>\n",
       "</tr>\n",
       "<tr>\n",
       "  <th>Total Time Spent on Website</th>                <td>    4.4223</td> <td>    0.185</td> <td>   23.899</td> <td> 0.000</td> <td>    4.060</td> <td>    4.785</td>\n",
       "</tr>\n",
       "<tr>\n",
       "  <th>Lead Origin_Lead Add Form</th>                  <td>    4.2051</td> <td>    0.258</td> <td>   16.275</td> <td> 0.000</td> <td>    3.699</td> <td>    4.712</td>\n",
       "</tr>\n",
       "<tr>\n",
       "  <th>Lead Source_Olark Chat</th>                     <td>    1.4526</td> <td>    0.122</td> <td>   11.934</td> <td> 0.000</td> <td>    1.214</td> <td>    1.691</td>\n",
       "</tr>\n",
       "<tr>\n",
       "  <th>Lead Source_Welingak Website</th>               <td>    2.1526</td> <td>    1.037</td> <td>    2.076</td> <td> 0.038</td> <td>    0.121</td> <td>    4.185</td>\n",
       "</tr>\n",
       "<tr>\n",
       "  <th>Do Not Email_Yes</th>                           <td>   -1.5037</td> <td>    0.193</td> <td>   -7.774</td> <td> 0.000</td> <td>   -1.883</td> <td>   -1.125</td>\n",
       "</tr>\n",
       "<tr>\n",
       "  <th>Last Activity_Had a Phone Conversation</th>     <td>    2.7552</td> <td>    0.802</td> <td>    3.438</td> <td> 0.001</td> <td>    1.184</td> <td>    4.326</td>\n",
       "</tr>\n",
       "<tr>\n",
       "  <th>Last Activity_SMS Sent</th>                     <td>    1.1856</td> <td>    0.082</td> <td>   14.421</td> <td> 0.000</td> <td>    1.024</td> <td>    1.347</td>\n",
       "</tr>\n",
       "<tr>\n",
       "  <th>What is your current occupation_Student</th>    <td>   -2.3578</td> <td>    0.281</td> <td>   -8.392</td> <td> 0.000</td> <td>   -2.908</td> <td>   -1.807</td>\n",
       "</tr>\n",
       "<tr>\n",
       "  <th>What is your current occupation_Unemployed</th> <td>   -2.5445</td> <td>    0.186</td> <td>  -13.699</td> <td> 0.000</td> <td>   -2.908</td> <td>   -2.180</td>\n",
       "</tr>\n",
       "<tr>\n",
       "  <th>Last Notable Activity_Unreachable</th>          <td>    2.7846</td> <td>    0.807</td> <td>    3.449</td> <td> 0.001</td> <td>    1.202</td> <td>    4.367</td>\n",
       "</tr>\n",
       "</table>"
      ],
      "text/plain": [
       "<class 'statsmodels.iolib.summary.Summary'>\n",
       "\"\"\"\n",
       "                 Generalized Linear Model Regression Results                  \n",
       "==============================================================================\n",
       "Dep. Variable:              Converted   No. Observations:                 4461\n",
       "Model:                            GLM   Df Residuals:                     4449\n",
       "Model Family:                Binomial   Df Model:                           11\n",
       "Link Function:                  Logit   Scale:                          1.0000\n",
       "Method:                          IRLS   Log-Likelihood:                -2079.1\n",
       "Date:                Sun, 29 Oct 2023   Deviance:                       4158.1\n",
       "Time:                        18:29:09   Pearson chi2:                 4.80e+03\n",
       "No. Iterations:                     7   Pseudo R-squ. (CS):             0.3642\n",
       "Covariance Type:            nonrobust                                         \n",
       "==============================================================================================================\n",
       "                                                 coef    std err          z      P>|z|      [0.025      0.975]\n",
       "--------------------------------------------------------------------------------------------------------------\n",
       "const                                          0.2040      0.196      1.043      0.297      -0.179       0.587\n",
       "TotalVisits                                   11.1489      2.665      4.184      0.000       5.926      16.371\n",
       "Total Time Spent on Website                    4.4223      0.185     23.899      0.000       4.060       4.785\n",
       "Lead Origin_Lead Add Form                      4.2051      0.258     16.275      0.000       3.699       4.712\n",
       "Lead Source_Olark Chat                         1.4526      0.122     11.934      0.000       1.214       1.691\n",
       "Lead Source_Welingak Website                   2.1526      1.037      2.076      0.038       0.121       4.185\n",
       "Do Not Email_Yes                              -1.5037      0.193     -7.774      0.000      -1.883      -1.125\n",
       "Last Activity_Had a Phone Conversation         2.7552      0.802      3.438      0.001       1.184       4.326\n",
       "Last Activity_SMS Sent                         1.1856      0.082     14.421      0.000       1.024       1.347\n",
       "What is your current occupation_Student       -2.3578      0.281     -8.392      0.000      -2.908      -1.807\n",
       "What is your current occupation_Unemployed    -2.5445      0.186    -13.699      0.000      -2.908      -2.180\n",
       "Last Notable Activity_Unreachable              2.7846      0.807      3.449      0.001       1.202       4.367\n",
       "==============================================================================================================\n",
       "\"\"\""
      ]
     },
     "execution_count": 156,
     "metadata": {},
     "output_type": "execute_result"
    }
   ],
   "source": [
    "logm1 = sm.GLM(y_train,(sm.add_constant(X_train)), family = sm.families.Binomial())\n",
    "res = logm1.fit()\n",
    "res.summary()\n"
   ]
  },
  {
   "cell_type": "markdown",
   "id": "f72864c2-50de-49d6-9fb2-60c4913f5e77",
   "metadata": {
    "tags": []
   },
   "source": [
    "Checking Final VIF"
   ]
  },
  {
   "cell_type": "code",
   "execution_count": 157,
   "id": "cd051b9c-b943-4030-ad70-94816de21ef6",
   "metadata": {},
   "outputs": [
    {
     "data": {
      "text/html": [
       "<div>\n",
       "<style scoped>\n",
       "    .dataframe tbody tr th:only-of-type {\n",
       "        vertical-align: middle;\n",
       "    }\n",
       "\n",
       "    .dataframe tbody tr th {\n",
       "        vertical-align: top;\n",
       "    }\n",
       "\n",
       "    .dataframe thead th {\n",
       "        text-align: right;\n",
       "    }\n",
       "</style>\n",
       "<table border=\"1\" class=\"dataframe\">\n",
       "  <thead>\n",
       "    <tr style=\"text-align: right;\">\n",
       "      <th></th>\n",
       "      <th>Features</th>\n",
       "      <th>VIF</th>\n",
       "    </tr>\n",
       "  </thead>\n",
       "  <tbody>\n",
       "    <tr>\n",
       "      <th>9</th>\n",
       "      <td>What is your current occupation_Unemployed</td>\n",
       "      <td>2.82</td>\n",
       "    </tr>\n",
       "    <tr>\n",
       "      <th>1</th>\n",
       "      <td>Total Time Spent on Website</td>\n",
       "      <td>2.00</td>\n",
       "    </tr>\n",
       "    <tr>\n",
       "      <th>0</th>\n",
       "      <td>TotalVisits</td>\n",
       "      <td>1.54</td>\n",
       "    </tr>\n",
       "    <tr>\n",
       "      <th>7</th>\n",
       "      <td>Last Activity_SMS Sent</td>\n",
       "      <td>1.51</td>\n",
       "    </tr>\n",
       "    <tr>\n",
       "      <th>2</th>\n",
       "      <td>Lead Origin_Lead Add Form</td>\n",
       "      <td>1.45</td>\n",
       "    </tr>\n",
       "    <tr>\n",
       "      <th>3</th>\n",
       "      <td>Lead Source_Olark Chat</td>\n",
       "      <td>1.33</td>\n",
       "    </tr>\n",
       "    <tr>\n",
       "      <th>4</th>\n",
       "      <td>Lead Source_Welingak Website</td>\n",
       "      <td>1.30</td>\n",
       "    </tr>\n",
       "    <tr>\n",
       "      <th>5</th>\n",
       "      <td>Do Not Email_Yes</td>\n",
       "      <td>1.08</td>\n",
       "    </tr>\n",
       "    <tr>\n",
       "      <th>8</th>\n",
       "      <td>What is your current occupation_Student</td>\n",
       "      <td>1.06</td>\n",
       "    </tr>\n",
       "    <tr>\n",
       "      <th>6</th>\n",
       "      <td>Last Activity_Had a Phone Conversation</td>\n",
       "      <td>1.01</td>\n",
       "    </tr>\n",
       "    <tr>\n",
       "      <th>10</th>\n",
       "      <td>Last Notable Activity_Unreachable</td>\n",
       "      <td>1.01</td>\n",
       "    </tr>\n",
       "  </tbody>\n",
       "</table>\n",
       "</div>"
      ],
      "text/plain": [
       "                                      Features   VIF\n",
       "9   What is your current occupation_Unemployed  2.82\n",
       "1                  Total Time Spent on Website  2.00\n",
       "0                                  TotalVisits  1.54\n",
       "7                       Last Activity_SMS Sent  1.51\n",
       "2                    Lead Origin_Lead Add Form  1.45\n",
       "3                       Lead Source_Olark Chat  1.33\n",
       "4                 Lead Source_Welingak Website  1.30\n",
       "5                             Do Not Email_Yes  1.08\n",
       "8      What is your current occupation_Student  1.06\n",
       "6       Last Activity_Had a Phone Conversation  1.01\n",
       "10           Last Notable Activity_Unreachable  1.01"
      ]
     },
     "execution_count": 157,
     "metadata": {},
     "output_type": "execute_result"
    }
   ],
   "source": [
    "# Making a VIF dataframe for all the variables present\n",
    "\n",
    "vif = pd.DataFrame()\n",
    "vif['Features'] = X_train.columns\n",
    "vif['VIF'] = [variance_inflation_factor(X_train.values, i) for i in range(X_train.shape[1])]\n",
    "vif['VIF'] = round(vif['VIF'], 2)\n",
    "vif = vif.sort_values(by = \"VIF\", ascending = False)\n",
    "vif"
   ]
  },
  {
   "cell_type": "markdown",
   "id": "8058910c-a7c7-418e-a288-45833c9762ec",
   "metadata": {},
   "source": [
    "## Step 3: Model Evaluation\n",
    "\n",
    "Now, both the p-values and VIFs seem decent enough for all the variables. So let's go ahead and make predictions using this final set of features."
   ]
  },
  {
   "cell_type": "code",
   "execution_count": 158,
   "id": "e8a14b9d-9f39-490f-8e08-78318dbcc1fa",
   "metadata": {},
   "outputs": [
    {
     "data": {
      "text/plain": [
       "8003    0.300117\n",
       "218     0.142002\n",
       "4171    0.127629\n",
       "4037    0.291558\n",
       "3660    0.954795\n",
       "207     0.194426\n",
       "2044    0.178073\n",
       "6411    0.949460\n",
       "6498    0.075995\n",
       "2085    0.982316\n",
       "dtype: float64"
      ]
     },
     "execution_count": 158,
     "metadata": {},
     "output_type": "execute_result"
    }
   ],
   "source": [
    "# Use 'predict' to predict the probabilities on the train set\n",
    "\n",
    "y_train_pred = res.predict(sm.add_constant(X_train))\n",
    "y_train_pred[:10]"
   ]
  },
  {
   "cell_type": "code",
   "execution_count": 159,
   "id": "879948bb-336f-42eb-b8d0-9873675af8ad",
   "metadata": {},
   "outputs": [
    {
     "data": {
      "text/plain": [
       "array([0.30011695, 0.14200165, 0.12762885, 0.29155814, 0.95479546,\n",
       "       0.19442563, 0.17807328, 0.94946006, 0.07599465, 0.98231619])"
      ]
     },
     "execution_count": 159,
     "metadata": {},
     "output_type": "execute_result"
    }
   ],
   "source": [
    "# Reshaping it into an array\n",
    "\n",
    "y_train_pred = y_train_pred.values.reshape(-1)\n",
    "y_train_pred[:10]"
   ]
  },
  {
   "cell_type": "markdown",
   "id": "4697e886-efcb-49de-96d2-1356f0eb9ca8",
   "metadata": {},
   "source": [
    "### Creating a dataframe with the actual conversion flag and the predicted probabilities"
   ]
  },
  {
   "cell_type": "code",
   "execution_count": 160,
   "id": "0e332b16-96ef-4fcf-9876-2172d1a86b27",
   "metadata": {},
   "outputs": [
    {
     "data": {
      "text/html": [
       "<div>\n",
       "<style scoped>\n",
       "    .dataframe tbody tr th:only-of-type {\n",
       "        vertical-align: middle;\n",
       "    }\n",
       "\n",
       "    .dataframe tbody tr th {\n",
       "        vertical-align: top;\n",
       "    }\n",
       "\n",
       "    .dataframe thead th {\n",
       "        text-align: right;\n",
       "    }\n",
       "</style>\n",
       "<table border=\"1\" class=\"dataframe\">\n",
       "  <thead>\n",
       "    <tr style=\"text-align: right;\">\n",
       "      <th></th>\n",
       "      <th>Converted</th>\n",
       "      <th>Conversion_Prob</th>\n",
       "    </tr>\n",
       "  </thead>\n",
       "  <tbody>\n",
       "    <tr>\n",
       "      <th>0</th>\n",
       "      <td>0</td>\n",
       "      <td>0.300117</td>\n",
       "    </tr>\n",
       "    <tr>\n",
       "      <th>1</th>\n",
       "      <td>0</td>\n",
       "      <td>0.142002</td>\n",
       "    </tr>\n",
       "    <tr>\n",
       "      <th>2</th>\n",
       "      <td>1</td>\n",
       "      <td>0.127629</td>\n",
       "    </tr>\n",
       "    <tr>\n",
       "      <th>3</th>\n",
       "      <td>1</td>\n",
       "      <td>0.291558</td>\n",
       "    </tr>\n",
       "    <tr>\n",
       "      <th>4</th>\n",
       "      <td>1</td>\n",
       "      <td>0.954795</td>\n",
       "    </tr>\n",
       "  </tbody>\n",
       "</table>\n",
       "</div>"
      ],
      "text/plain": [
       "   Converted  Conversion_Prob\n",
       "0          0         0.300117\n",
       "1          0         0.142002\n",
       "2          1         0.127629\n",
       "3          1         0.291558\n",
       "4          1         0.954795"
      ]
     },
     "execution_count": 160,
     "metadata": {},
     "output_type": "execute_result"
    }
   ],
   "source": [
    "\n",
    "y_train_pred_final = pd.DataFrame({'Converted':y_train.values, 'Conversion_Prob':y_train_pred})\n",
    "y_train_pred_final.head()"
   ]
  },
  {
   "cell_type": "markdown",
   "id": "2f2c90b8-5078-4def-b93a-2f4d340c2f91",
   "metadata": {},
   "source": [
    "### Creating new column 'Predicted' with 1 if Paid_Prob > 0.5 else 0"
   ]
  },
  {
   "cell_type": "code",
   "execution_count": 161,
   "id": "a5941d81-ee93-4d1b-ab53-82d7c3fb64b1",
   "metadata": {},
   "outputs": [
    {
     "data": {
      "text/html": [
       "<div>\n",
       "<style scoped>\n",
       "    .dataframe tbody tr th:only-of-type {\n",
       "        vertical-align: middle;\n",
       "    }\n",
       "\n",
       "    .dataframe tbody tr th {\n",
       "        vertical-align: top;\n",
       "    }\n",
       "\n",
       "    .dataframe thead th {\n",
       "        text-align: right;\n",
       "    }\n",
       "</style>\n",
       "<table border=\"1\" class=\"dataframe\">\n",
       "  <thead>\n",
       "    <tr style=\"text-align: right;\">\n",
       "      <th></th>\n",
       "      <th>Converted</th>\n",
       "      <th>Conversion_Prob</th>\n",
       "      <th>Predicted</th>\n",
       "    </tr>\n",
       "  </thead>\n",
       "  <tbody>\n",
       "    <tr>\n",
       "      <th>0</th>\n",
       "      <td>0</td>\n",
       "      <td>0.300117</td>\n",
       "      <td>0</td>\n",
       "    </tr>\n",
       "    <tr>\n",
       "      <th>1</th>\n",
       "      <td>0</td>\n",
       "      <td>0.142002</td>\n",
       "      <td>0</td>\n",
       "    </tr>\n",
       "    <tr>\n",
       "      <th>2</th>\n",
       "      <td>1</td>\n",
       "      <td>0.127629</td>\n",
       "      <td>0</td>\n",
       "    </tr>\n",
       "    <tr>\n",
       "      <th>3</th>\n",
       "      <td>1</td>\n",
       "      <td>0.291558</td>\n",
       "      <td>0</td>\n",
       "    </tr>\n",
       "    <tr>\n",
       "      <th>4</th>\n",
       "      <td>1</td>\n",
       "      <td>0.954795</td>\n",
       "      <td>1</td>\n",
       "    </tr>\n",
       "  </tbody>\n",
       "</table>\n",
       "</div>"
      ],
      "text/plain": [
       "   Converted  Conversion_Prob  Predicted\n",
       "0          0         0.300117          0\n",
       "1          0         0.142002          0\n",
       "2          1         0.127629          0\n",
       "3          1         0.291558          0\n",
       "4          1         0.954795          1"
      ]
     },
     "execution_count": 161,
     "metadata": {},
     "output_type": "execute_result"
    }
   ],
   "source": [
    "y_train_pred_final['Predicted'] = y_train_pred_final.Conversion_Prob.map(lambda x: 1 if x > 0.5 else 0)\n",
    "\n",
    "# Let's see the head\n",
    "y_train_pred_final.head()"
   ]
  },
  {
   "cell_type": "markdown",
   "id": "0a3e20ef-140a-4cab-8392-b2f82748a169",
   "metadata": {},
   "source": [
    "Now that you have the probabilities and have also made conversion predictions using them, it's time to evaluate the model."
   ]
  },
  {
   "cell_type": "code",
   "execution_count": null,
   "id": "19496a28-b183-418a-ad0e-e821e2de8678",
   "metadata": {},
   "outputs": [],
   "source": []
  },
  {
   "cell_type": "code",
   "execution_count": null,
   "id": "554032fc-f174-4d1d-b41a-017a8480263d",
   "metadata": {},
   "outputs": [],
   "source": []
  },
  {
   "cell_type": "markdown",
   "id": "ee9c10ad-e3d4-4a60-8c09-7bb7a7d398d0",
   "metadata": {},
   "source": [
    "### Creating the `Confusion matrix`\n"
   ]
  },
  {
   "cell_type": "code",
   "execution_count": 164,
   "id": "3d86f521-d626-41bf-a194-dd8925c8e5ac",
   "metadata": {},
   "outputs": [
    {
     "name": "stdout",
     "output_type": "stream",
     "text": [
      "[[1929  383]\n",
      " [ 560 1589]]\n"
     ]
    }
   ],
   "source": [
    "confusion = metrics.confusion_matrix(y_train_pred_final.Converted, y_train_pred_final.Predicted )\n",
    "print(confusion)"
   ]
  },
  {
   "cell_type": "code",
   "execution_count": 165,
   "id": "edbbc052-2ba5-40cf-8612-b9b0d0b0e6d7",
   "metadata": {},
   "outputs": [
    {
     "name": "stdout",
     "output_type": "stream",
     "text": [
      "0.7886124187401928\n"
     ]
    }
   ],
   "source": [
    "# Let's check the overall accuracy\n",
    "\n",
    "print(metrics.accuracy_score(y_train_pred_final.Converted, y_train_pred_final.Predicted))"
   ]
  },
  {
   "cell_type": "code",
   "execution_count": 166,
   "id": "f2a6ac3e-90e4-4678-a028-dbdabb3dc3fd",
   "metadata": {},
   "outputs": [],
   "source": [
    "# Let's evaluate the other metrics as well\n",
    "\n",
    "TP = confusion[1,1] # true positive \n",
    "TN = confusion[0,0] # true negatives\n",
    "FP = confusion[0,1] # false positives\n",
    "FN = confusion[1,0] # false negatives"
   ]
  },
  {
   "cell_type": "code",
   "execution_count": 167,
   "id": "3e3bec44-00dc-48c8-bb4c-73195ea077c7",
   "metadata": {},
   "outputs": [
    {
     "data": {
      "text/plain": [
       "0.739413680781759"
      ]
     },
     "execution_count": 167,
     "metadata": {},
     "output_type": "execute_result"
    }
   ],
   "source": [
    "# Calculating the 'sensitivity'\n",
    "\n",
    "TP/(TP+FN)"
   ]
  },
  {
   "cell_type": "code",
   "execution_count": 168,
   "id": "d76f9b8c-8988-4f35-aef9-3db386fd2f6b",
   "metadata": {},
   "outputs": [
    {
     "data": {
      "text/plain": [
       "0.8343425605536332"
      ]
     },
     "execution_count": 168,
     "metadata": {},
     "output_type": "execute_result"
    }
   ],
   "source": [
    "# Calculating the 'specificity'\n",
    "\n",
    "TN/(TN+FP)"
   ]
  },
  {
   "cell_type": "markdown",
   "id": "0986f78d-23fd-48d0-b761-a0413954011b",
   "metadata": {},
   "source": [
    "### Finding the Optimal Cutoff\n",
    "Now 0.5 was just arbitrary to loosely check the model performace. But in order to get good results, you need to optimise the threshold. So first let's plot an ROC curve to see what AUC we get."
   ]
  },
  {
   "cell_type": "code",
   "execution_count": 169,
   "id": "e16704b1-c3de-4984-aaff-3f2e10f52d36",
   "metadata": {},
   "outputs": [],
   "source": [
    "# ROC function\n",
    "\n",
    "def draw_roc( actual, probs ):\n",
    "    fpr, tpr, thresholds = metrics.roc_curve( actual, probs,\n",
    "                                              drop_intermediate = False )\n",
    "    auc_score = metrics.roc_auc_score( actual, probs )\n",
    "    plt.figure(figsize=(5, 5))\n",
    "    plt.plot( fpr, tpr, label='ROC curve (area = %0.2f)' % auc_score )\n",
    "    plt.plot([0, 1], [0, 1], 'k--')\n",
    "    plt.xlim([0.0, 1.0])\n",
    "    plt.ylim([0.0, 1.05])\n",
    "    plt.xlabel('False Positive Rate or [1 - True Negative Rate]')\n",
    "    plt.ylabel('True Positive Rate')\n",
    "    plt.title('Receiver operating characteristic example')\n",
    "    plt.legend(loc=\"lower right\")\n",
    "    plt.show()\n",
    "\n",
    "    return None"
   ]
  },
  {
   "cell_type": "code",
   "execution_count": 170,
   "id": "cbfa8d1c-183c-462e-8016-8d38269193f8",
   "metadata": {},
   "outputs": [],
   "source": [
    "fpr, tpr, thresholds = metrics.roc_curve(y_train_pred_final.Converted,\n",
    "                    y_train_pred_final.Conversion_Prob, \n",
    "                                         drop_intermediate=False)"
   ]
  },
  {
   "cell_type": "code",
   "execution_count": 171,
   "id": "52595b5e-faa4-4485-a351-948d47643307",
   "metadata": {},
   "outputs": [],
   "source": [
    "# Importing the 'matplotlib'  to plot the ROC curve`"
   ]
  },
  {
   "cell_type": "code",
   "execution_count": 172,
   "id": "812d4b4d-935a-407a-a36e-42fe5e7a8730",
   "metadata": {},
   "outputs": [
    {
     "data": {
      "image/png": "[encoded data removed]",
      "text/plain": [
       "<Figure size 500x500 with 1 Axes>"
      ]
     },
     "metadata": {},
     "output_type": "display_data"
    }
   ],
   "source": [
    "# Calling the ROC function\n",
    "\n",
    "draw_roc(y_train_pred_final.Converted, y_train_pred_final.Conversion_Prob)"
   ]
  },
  {
   "cell_type": "markdown",
   "id": "d9e82f5c-0fdc-4c2d-8292-be3e9d4d2f35",
   "metadata": {},
   "source": [
    "The area under the curve of the ROC is 0.86 which is quite good. So we seem to have a good model. Let's also check the sensitivity and specificity tradeoff to find the optimal cutoff point."
   ]
  },
  {
   "cell_type": "code",
   "execution_count": 173,
   "id": "edc7298e-7a5d-4290-93be-3193ef715181",
   "metadata": {},
   "outputs": [
    {
     "data": {
      "text/html": [
       "<div>\n",
       "<style scoped>\n",
       "    .dataframe tbody tr th:only-of-type {\n",
       "        vertical-align: middle;\n",
       "    }\n",
       "\n",
       "    .dataframe tbody tr th {\n",
       "        vertical-align: top;\n",
       "    }\n",
       "\n",
       "    .dataframe thead th {\n",
       "        text-align: right;\n",
       "    }\n",
       "</style>\n",
       "<table border=\"1\" class=\"dataframe\">\n",
       "  <thead>\n",
       "    <tr style=\"text-align: right;\">\n",
       "      <th></th>\n",
       "      <th>Converted</th>\n",
       "      <th>Conversion_Prob</th>\n",
       "      <th>Predicted</th>\n",
       "      <th>0.0</th>\n",
       "      <th>0.1</th>\n",
       "      <th>0.2</th>\n",
       "      <th>0.3</th>\n",
       "      <th>0.4</th>\n",
       "      <th>0.5</th>\n",
       "      <th>0.6</th>\n",
       "      <th>0.7</th>\n",
       "      <th>0.8</th>\n",
       "      <th>0.9</th>\n",
       "    </tr>\n",
       "  </thead>\n",
       "  <tbody>\n",
       "    <tr>\n",
       "      <th>0</th>\n",
       "      <td>0</td>\n",
       "      <td>0.300117</td>\n",
       "      <td>0</td>\n",
       "      <td>1</td>\n",
       "      <td>1</td>\n",
       "      <td>1</td>\n",
       "      <td>1</td>\n",
       "      <td>0</td>\n",
       "      <td>0</td>\n",
       "      <td>0</td>\n",
       "      <td>0</td>\n",
       "      <td>0</td>\n",
       "      <td>0</td>\n",
       "    </tr>\n",
       "    <tr>\n",
       "      <th>1</th>\n",
       "      <td>0</td>\n",
       "      <td>0.142002</td>\n",
       "      <td>0</td>\n",
       "      <td>1</td>\n",
       "      <td>1</td>\n",
       "      <td>0</td>\n",
       "      <td>0</td>\n",
       "      <td>0</td>\n",
       "      <td>0</td>\n",
       "      <td>0</td>\n",
       "      <td>0</td>\n",
       "      <td>0</td>\n",
       "      <td>0</td>\n",
       "    </tr>\n",
       "    <tr>\n",
       "      <th>2</th>\n",
       "      <td>1</td>\n",
       "      <td>0.127629</td>\n",
       "      <td>0</td>\n",
       "      <td>1</td>\n",
       "      <td>1</td>\n",
       "      <td>0</td>\n",
       "      <td>0</td>\n",
       "      <td>0</td>\n",
       "      <td>0</td>\n",
       "      <td>0</td>\n",
       "      <td>0</td>\n",
       "      <td>0</td>\n",
       "      <td>0</td>\n",
       "    </tr>\n",
       "    <tr>\n",
       "      <th>3</th>\n",
       "      <td>1</td>\n",
       "      <td>0.291558</td>\n",
       "      <td>0</td>\n",
       "      <td>1</td>\n",
       "      <td>1</td>\n",
       "      <td>1</td>\n",
       "      <td>0</td>\n",
       "      <td>0</td>\n",
       "      <td>0</td>\n",
       "      <td>0</td>\n",
       "      <td>0</td>\n",
       "      <td>0</td>\n",
       "      <td>0</td>\n",
       "    </tr>\n",
       "    <tr>\n",
       "      <th>4</th>\n",
       "      <td>1</td>\n",
       "      <td>0.954795</td>\n",
       "      <td>1</td>\n",
       "      <td>1</td>\n",
       "      <td>1</td>\n",
       "      <td>1</td>\n",
       "      <td>1</td>\n",
       "      <td>1</td>\n",
       "      <td>1</td>\n",
       "      <td>1</td>\n",
       "      <td>1</td>\n",
       "      <td>1</td>\n",
       "      <td>1</td>\n",
       "    </tr>\n",
       "  </tbody>\n",
       "</table>\n",
       "</div>"
      ],
      "text/plain": [
       "   Converted  Conversion_Prob  Predicted  0.0  0.1  0.2  0.3  0.4  0.5  0.6  \\\n",
       "0          0         0.300117          0    1    1    1    1    0    0    0   \n",
       "1          0         0.142002          0    1    1    0    0    0    0    0   \n",
       "2          1         0.127629          0    1    1    0    0    0    0    0   \n",
       "3          1         0.291558          0    1    1    1    0    0    0    0   \n",
       "4          1         0.954795          1    1    1    1    1    1    1    1   \n",
       "\n",
       "   0.7  0.8  0.9  \n",
       "0    0    0    0  \n",
       "1    0    0    0  \n",
       "2    0    0    0  \n",
       "3    0    0    0  \n",
       "4    1    1    1  "
      ]
     },
     "execution_count": 173,
     "metadata": {},
     "output_type": "execute_result"
    }
   ],
   "source": [
    "# Let's create columns with different probability cutoffs \n",
    "\n",
    "numbers = [float(x)/10 for x in range(10)]\n",
    "for i in numbers:\n",
    "    y_train_pred_final[i]= y_train_pred_final.Conversion_Prob.map(lambda x: 1 if x > i else 0)\n",
    "y_train_pred_final.head()"
   ]
  },
  {
   "cell_type": "code",
   "execution_count": 174,
   "id": "81f77604-6a11-4c05-b7e9-2b4d7b17ac81",
   "metadata": {},
   "outputs": [
    {
     "name": "stdout",
     "output_type": "stream",
     "text": [
      "     prob  accuracy     sensi     speci\n",
      "0.0   0.0  0.481731  1.000000  0.000000\n",
      "0.1   0.1  0.527012  0.994416  0.092561\n",
      "0.2   0.2  0.698274  0.944160  0.469723\n",
      "0.3   0.3  0.767541  0.865984  0.676038\n",
      "0.4   0.4  0.791975  0.810610  0.774654\n",
      "0.5   0.5  0.788612  0.739414  0.834343\n",
      "0.6   0.6  0.757229  0.624011  0.881055\n",
      "0.7   0.7  0.735037  0.543509  0.913062\n",
      "0.8   0.8  0.711500  0.453234  0.951557\n",
      "0.9   0.9  0.644026  0.279665  0.982699\n"
     ]
    }
   ],
   "source": [
    "# Let's create a dataframe to see the values of accuracy, sensitivity, and specificity at \n",
    "# different values of probabiity cutoffs\n",
    "\n",
    "cutoff_df = pd.DataFrame( columns = ['prob','accuracy','sensi','speci'])\n",
    "from sklearn.metrics import confusion_matrix\n",
    "\n",
    "# TP = confusion[1,1] # true positive \n",
    "# TN = confusion[0,0] # true negatives\n",
    "# FP = confusion[0,1] # false positives\n",
    "# FN = confusion[1,0] # false negatives\n",
    "\n",
    "num = [0.0,0.1,0.2,0.3,0.4,0.5,0.6,0.7,0.8,0.9]\n",
    "for i in num:\n",
    "    cm1 = metrics.confusion_matrix(y_train_pred_final.Converted, y_train_pred_final[i] )\n",
    "    total1=sum(sum(cm1))\n",
    "    accuracy = (cm1[0,0]+cm1[1,1])/total1\n",
    "    \n",
    "    speci = cm1[0,0]/(cm1[0,0]+cm1[0,1])\n",
    "    sensi = cm1[1,1]/(cm1[1,0]+cm1[1,1])\n",
    "    cutoff_df.loc[i] =[ i ,accuracy,sensi,speci]\n",
    "print(cutoff_df)"
   ]
  },
  {
   "cell_type": "code",
   "execution_count": 175,
   "id": "2bb37b1c-2545-4954-8b18-ae18e88ee3de",
   "metadata": {},
   "outputs": [
    {
     "data": {
      "image/png": "[encoded data removed]",
      "text/plain": [
       "<Figure size 640x480 with 1 Axes>"
      ]
     },
     "metadata": {},
     "output_type": "display_data"
    }
   ],
   "source": [
    "# Let's plot it as well\n",
    "\n",
    "cutoff_df.plot.line(x='prob', y=['accuracy','sensi','speci'])\n",
    "plt.show()"
   ]
  },
  {
   "cell_type": "markdown",
   "id": "a89c285a-366b-4fa3-b4dd-12f419434cb9",
   "metadata": {},
   "source": [
    "As you can see that around `0.42`, you get the optimal values of the three metrics. So let's choose 0.42 as our cutoff now."
   ]
  },
  {
   "cell_type": "code",
   "execution_count": 176,
   "id": "bbd6da46-9c97-47fa-8278-cdab3355a270",
   "metadata": {},
   "outputs": [
    {
     "data": {
      "text/html": [
       "<div>\n",
       "<style scoped>\n",
       "    .dataframe tbody tr th:only-of-type {\n",
       "        vertical-align: middle;\n",
       "    }\n",
       "\n",
       "    .dataframe tbody tr th {\n",
       "        vertical-align: top;\n",
       "    }\n",
       "\n",
       "    .dataframe thead th {\n",
       "        text-align: right;\n",
       "    }\n",
       "</style>\n",
       "<table border=\"1\" class=\"dataframe\">\n",
       "  <thead>\n",
       "    <tr style=\"text-align: right;\">\n",
       "      <th></th>\n",
       "      <th>Converted</th>\n",
       "      <th>Conversion_Prob</th>\n",
       "      <th>Predicted</th>\n",
       "      <th>0.0</th>\n",
       "      <th>0.1</th>\n",
       "      <th>0.2</th>\n",
       "      <th>0.3</th>\n",
       "      <th>0.4</th>\n",
       "      <th>0.5</th>\n",
       "      <th>0.6</th>\n",
       "      <th>0.7</th>\n",
       "      <th>0.8</th>\n",
       "      <th>0.9</th>\n",
       "      <th>final_predicted</th>\n",
       "    </tr>\n",
       "  </thead>\n",
       "  <tbody>\n",
       "    <tr>\n",
       "      <th>0</th>\n",
       "      <td>0</td>\n",
       "      <td>0.300117</td>\n",
       "      <td>0</td>\n",
       "      <td>1</td>\n",
       "      <td>1</td>\n",
       "      <td>1</td>\n",
       "      <td>1</td>\n",
       "      <td>0</td>\n",
       "      <td>0</td>\n",
       "      <td>0</td>\n",
       "      <td>0</td>\n",
       "      <td>0</td>\n",
       "      <td>0</td>\n",
       "      <td>0</td>\n",
       "    </tr>\n",
       "    <tr>\n",
       "      <th>1</th>\n",
       "      <td>0</td>\n",
       "      <td>0.142002</td>\n",
       "      <td>0</td>\n",
       "      <td>1</td>\n",
       "      <td>1</td>\n",
       "      <td>0</td>\n",
       "      <td>0</td>\n",
       "      <td>0</td>\n",
       "      <td>0</td>\n",
       "      <td>0</td>\n",
       "      <td>0</td>\n",
       "      <td>0</td>\n",
       "      <td>0</td>\n",
       "      <td>0</td>\n",
       "    </tr>\n",
       "    <tr>\n",
       "      <th>2</th>\n",
       "      <td>1</td>\n",
       "      <td>0.127629</td>\n",
       "      <td>0</td>\n",
       "      <td>1</td>\n",
       "      <td>1</td>\n",
       "      <td>0</td>\n",
       "      <td>0</td>\n",
       "      <td>0</td>\n",
       "      <td>0</td>\n",
       "      <td>0</td>\n",
       "      <td>0</td>\n",
       "      <td>0</td>\n",
       "      <td>0</td>\n",
       "      <td>0</td>\n",
       "    </tr>\n",
       "    <tr>\n",
       "      <th>3</th>\n",
       "      <td>1</td>\n",
       "      <td>0.291558</td>\n",
       "      <td>0</td>\n",
       "      <td>1</td>\n",
       "      <td>1</td>\n",
       "      <td>1</td>\n",
       "      <td>0</td>\n",
       "      <td>0</td>\n",
       "      <td>0</td>\n",
       "      <td>0</td>\n",
       "      <td>0</td>\n",
       "      <td>0</td>\n",
       "      <td>0</td>\n",
       "      <td>0</td>\n",
       "    </tr>\n",
       "    <tr>\n",
       "      <th>4</th>\n",
       "      <td>1</td>\n",
       "      <td>0.954795</td>\n",
       "      <td>1</td>\n",
       "      <td>1</td>\n",
       "      <td>1</td>\n",
       "      <td>1</td>\n",
       "      <td>1</td>\n",
       "      <td>1</td>\n",
       "      <td>1</td>\n",
       "      <td>1</td>\n",
       "      <td>1</td>\n",
       "      <td>1</td>\n",
       "      <td>1</td>\n",
       "      <td>1</td>\n",
       "    </tr>\n",
       "  </tbody>\n",
       "</table>\n",
       "</div>"
      ],
      "text/plain": [
       "   Converted  Conversion_Prob  Predicted  0.0  0.1  0.2  0.3  0.4  0.5  0.6  \\\n",
       "0          0         0.300117          0    1    1    1    1    0    0    0   \n",
       "1          0         0.142002          0    1    1    0    0    0    0    0   \n",
       "2          1         0.127629          0    1    1    0    0    0    0    0   \n",
       "3          1         0.291558          0    1    1    1    0    0    0    0   \n",
       "4          1         0.954795          1    1    1    1    1    1    1    1   \n",
       "\n",
       "   0.7  0.8  0.9  final_predicted  \n",
       "0    0    0    0                0  \n",
       "1    0    0    0                0  \n",
       "2    0    0    0                0  \n",
       "3    0    0    0                0  \n",
       "4    1    1    1                1  "
      ]
     },
     "execution_count": 176,
     "metadata": {},
     "output_type": "execute_result"
    }
   ],
   "source": [
    "y_train_pred_final['final_predicted'] = y_train_pred_final.Conversion_Prob.map( lambda x: 1 if x > 0.42 else 0)\n",
    "\n",
    "y_train_pred_final.head()"
   ]
  },
  {
   "cell_type": "code",
   "execution_count": 177,
   "id": "32d40e81-52ca-4e59-9a8e-b339881f470f",
   "metadata": {},
   "outputs": [
    {
     "data": {
      "text/plain": [
       "0.7908540685944856"
      ]
     },
     "execution_count": 177,
     "metadata": {},
     "output_type": "execute_result"
    }
   ],
   "source": [
    "# Let's checking the `accuracy` now\n",
    "\n",
    "metrics.accuracy_score(y_train_pred_final.Converted, y_train_pred_final.final_predicted)"
   ]
  },
  {
   "cell_type": "code",
   "execution_count": 178,
   "id": "73dee68c-261d-4994-ad70-1e9fe09e39ec",
   "metadata": {},
   "outputs": [
    {
     "data": {
      "text/plain": [
       "array([[1823,  489],\n",
       "       [ 444, 1705]], dtype=int64)"
      ]
     },
     "execution_count": 178,
     "metadata": {},
     "output_type": "execute_result"
    }
   ],
   "source": [
    "# Let's create the confusion matrix once again\n",
    "\n",
    "confusion2 = metrics.confusion_matrix(y_train_pred_final.Converted, y_train_pred_final.final_predicted )\n",
    "confusion2"
   ]
  },
  {
   "cell_type": "code",
   "execution_count": 179,
   "id": "630bdd84-fd51-427c-a6e2-f276430b4fb8",
   "metadata": {},
   "outputs": [],
   "source": [
    "# Let's evaluate the other metrics as well\n",
    "\n",
    "TP = confusion2[1,1] # true positive \n",
    "TN = confusion2[0,0] # true negatives\n",
    "FP = confusion2[0,1] # false positives\n",
    "FN = confusion2[1,0] # false negatives"
   ]
  },
  {
   "cell_type": "code",
   "execution_count": 180,
   "id": "176c0609-5c16-4e98-b094-a4a29ebdacbc",
   "metadata": {},
   "outputs": [
    {
     "data": {
      "text/plain": [
       "0.793392275476966"
      ]
     },
     "execution_count": 180,
     "metadata": {},
     "output_type": "execute_result"
    }
   ],
   "source": [
    "# Calculating the 'Sensitivity'\n",
    "\n",
    "TP/(TP+FN)"
   ]
  },
  {
   "cell_type": "code",
   "execution_count": 181,
   "id": "f2383f87-b62d-4bb1-881d-c51c6b42f629",
   "metadata": {},
   "outputs": [
    {
     "data": {
      "text/plain": [
       "0.7884948096885813"
      ]
     },
     "execution_count": 181,
     "metadata": {},
     "output_type": "execute_result"
    }
   ],
   "source": [
    "# Calculating the 'Specificity'\n",
    "\n",
    "TN/(TN+FP)"
   ]
  },
  {
   "cell_type": "markdown",
   "id": "12720e6f-0920-47b5-a1df-1bdbb12e097f",
   "metadata": {},
   "source": [
    "This cutoff point seems good to go!"
   ]
  },
  {
   "cell_type": "markdown",
   "id": "f3ccd94e-ab78-43fc-a6da-236605dd9ba9",
   "metadata": {},
   "source": [
    "## Step 4: Making Predictions on the Test Set\n",
    "Let's now make predicitons on the test set"
   ]
  },
  {
   "cell_type": "code",
   "execution_count": 182,
   "id": "17223c74-c831-4aed-9a08-00aab2f4e7e6",
   "metadata": {},
   "outputs": [],
   "source": [
    "# Scaling the test set as well using just 'transform'\n",
    "\n",
    "X_test[['TotalVisits', 'Page Views Per Visit', 'Total Time Spent on Website']] =  scaler.transform(X_test[['TotalVisits', 'Page Views Per Visit', 'Total Time Spent on Website']])"
   ]
  },
  {
   "cell_type": "code",
   "execution_count": 183,
   "id": "1df26198-4aa1-4ab8-ba35-d47f5cfa6615",
   "metadata": {},
   "outputs": [
    {
     "data": {
      "text/html": [
       "<div>\n",
       "<style scoped>\n",
       "    .dataframe tbody tr th:only-of-type {\n",
       "        vertical-align: middle;\n",
       "    }\n",
       "\n",
       "    .dataframe tbody tr th {\n",
       "        vertical-align: top;\n",
       "    }\n",
       "\n",
       "    .dataframe thead th {\n",
       "        text-align: right;\n",
       "    }\n",
       "</style>\n",
       "<table border=\"1\" class=\"dataframe\">\n",
       "  <thead>\n",
       "    <tr style=\"text-align: right;\">\n",
       "      <th></th>\n",
       "      <th>TotalVisits</th>\n",
       "      <th>Total Time Spent on Website</th>\n",
       "      <th>Lead Origin_Lead Add Form</th>\n",
       "      <th>Lead Source_Olark Chat</th>\n",
       "      <th>Lead Source_Reference</th>\n",
       "      <th>Lead Source_Welingak Website</th>\n",
       "      <th>Do Not Email_Yes</th>\n",
       "      <th>Last Activity_Had a Phone Conversation</th>\n",
       "      <th>Last Activity_SMS Sent</th>\n",
       "      <th>What is your current occupation_Housewife</th>\n",
       "      <th>What is your current occupation_Student</th>\n",
       "      <th>What is your current occupation_Unemployed</th>\n",
       "      <th>What is your current occupation_Working Professional</th>\n",
       "      <th>Last Notable Activity_Had a Phone Conversation</th>\n",
       "      <th>Last Notable Activity_Unreachable</th>\n",
       "    </tr>\n",
       "  </thead>\n",
       "  <tbody>\n",
       "    <tr>\n",
       "      <th>4771</th>\n",
       "      <td>0.000000</td>\n",
       "      <td>0.000000</td>\n",
       "      <td>1</td>\n",
       "      <td>0</td>\n",
       "      <td>1</td>\n",
       "      <td>0</td>\n",
       "      <td>0</td>\n",
       "      <td>0</td>\n",
       "      <td>1</td>\n",
       "      <td>0</td>\n",
       "      <td>0</td>\n",
       "      <td>0</td>\n",
       "      <td>1</td>\n",
       "      <td>0</td>\n",
       "      <td>0</td>\n",
       "    </tr>\n",
       "    <tr>\n",
       "      <th>6122</th>\n",
       "      <td>0.027888</td>\n",
       "      <td>0.029049</td>\n",
       "      <td>0</td>\n",
       "      <td>0</td>\n",
       "      <td>0</td>\n",
       "      <td>0</td>\n",
       "      <td>0</td>\n",
       "      <td>0</td>\n",
       "      <td>0</td>\n",
       "      <td>0</td>\n",
       "      <td>0</td>\n",
       "      <td>1</td>\n",
       "      <td>0</td>\n",
       "      <td>0</td>\n",
       "      <td>0</td>\n",
       "    </tr>\n",
       "    <tr>\n",
       "      <th>9202</th>\n",
       "      <td>0.015936</td>\n",
       "      <td>0.416813</td>\n",
       "      <td>0</td>\n",
       "      <td>0</td>\n",
       "      <td>0</td>\n",
       "      <td>0</td>\n",
       "      <td>0</td>\n",
       "      <td>0</td>\n",
       "      <td>1</td>\n",
       "      <td>0</td>\n",
       "      <td>0</td>\n",
       "      <td>1</td>\n",
       "      <td>0</td>\n",
       "      <td>0</td>\n",
       "      <td>0</td>\n",
       "    </tr>\n",
       "    <tr>\n",
       "      <th>6570</th>\n",
       "      <td>0.011952</td>\n",
       "      <td>0.378961</td>\n",
       "      <td>0</td>\n",
       "      <td>0</td>\n",
       "      <td>0</td>\n",
       "      <td>0</td>\n",
       "      <td>1</td>\n",
       "      <td>0</td>\n",
       "      <td>1</td>\n",
       "      <td>0</td>\n",
       "      <td>0</td>\n",
       "      <td>1</td>\n",
       "      <td>0</td>\n",
       "      <td>0</td>\n",
       "      <td>0</td>\n",
       "    </tr>\n",
       "    <tr>\n",
       "      <th>2668</th>\n",
       "      <td>0.031873</td>\n",
       "      <td>0.395246</td>\n",
       "      <td>0</td>\n",
       "      <td>0</td>\n",
       "      <td>0</td>\n",
       "      <td>0</td>\n",
       "      <td>0</td>\n",
       "      <td>0</td>\n",
       "      <td>1</td>\n",
       "      <td>0</td>\n",
       "      <td>0</td>\n",
       "      <td>1</td>\n",
       "      <td>0</td>\n",
       "      <td>0</td>\n",
       "      <td>0</td>\n",
       "    </tr>\n",
       "  </tbody>\n",
       "</table>\n",
       "</div>"
      ],
      "text/plain": [
       "      TotalVisits  Total Time Spent on Website  Lead Origin_Lead Add Form  \\\n",
       "4771     0.000000                     0.000000                          1   \n",
       "6122     0.027888                     0.029049                          0   \n",
       "9202     0.015936                     0.416813                          0   \n",
       "6570     0.011952                     0.378961                          0   \n",
       "2668     0.031873                     0.395246                          0   \n",
       "\n",
       "      Lead Source_Olark Chat  Lead Source_Reference  \\\n",
       "4771                       0                      1   \n",
       "6122                       0                      0   \n",
       "9202                       0                      0   \n",
       "6570                       0                      0   \n",
       "2668                       0                      0   \n",
       "\n",
       "      Lead Source_Welingak Website  Do Not Email_Yes  \\\n",
       "4771                             0                 0   \n",
       "6122                             0                 0   \n",
       "9202                             0                 0   \n",
       "6570                             0                 1   \n",
       "2668                             0                 0   \n",
       "\n",
       "      Last Activity_Had a Phone Conversation  Last Activity_SMS Sent  \\\n",
       "4771                                       0                       1   \n",
       "6122                                       0                       0   \n",
       "9202                                       0                       1   \n",
       "6570                                       0                       1   \n",
       "2668                                       0                       1   \n",
       "\n",
       "      What is your current occupation_Housewife  \\\n",
       "4771                                          0   \n",
       "6122                                          0   \n",
       "9202                                          0   \n",
       "6570                                          0   \n",
       "2668                                          0   \n",
       "\n",
       "      What is your current occupation_Student  \\\n",
       "4771                                        0   \n",
       "6122                                        0   \n",
       "9202                                        0   \n",
       "6570                                        0   \n",
       "2668                                        0   \n",
       "\n",
       "      What is your current occupation_Unemployed  \\\n",
       "4771                                           0   \n",
       "6122                                           1   \n",
       "9202                                           1   \n",
       "6570                                           1   \n",
       "2668                                           1   \n",
       "\n",
       "      What is your current occupation_Working Professional  \\\n",
       "4771                                                     1   \n",
       "6122                                                     0   \n",
       "9202                                                     0   \n",
       "6570                                                     0   \n",
       "2668                                                     0   \n",
       "\n",
       "      Last Notable Activity_Had a Phone Conversation  \\\n",
       "4771                                               0   \n",
       "6122                                               0   \n",
       "9202                                               0   \n",
       "6570                                               0   \n",
       "2668                                               0   \n",
       "\n",
       "      Last Notable Activity_Unreachable  \n",
       "4771                                  0  \n",
       "6122                                  0  \n",
       "9202                                  0  \n",
       "6570                                  0  \n",
       "2668                                  0  "
      ]
     },
     "execution_count": 183,
     "metadata": {},
     "output_type": "execute_result"
    }
   ],
   "source": [
    "# Selecting the columns in X_train for X_test as well\n",
    "\n",
    "X_test = X_test[col]\n",
    "X_test.head()"
   ]
  },
  {
   "cell_type": "code",
   "execution_count": 184,
   "id": "87b61f79-2c1e-4514-81b6-d4dab534e056",
   "metadata": {},
   "outputs": [],
   "source": [
    "# Adding a constant to X_test\n",
    "\n",
    "X_test_sm = sm.add_constant(X_test[col])"
   ]
  },
  {
   "cell_type": "code",
   "execution_count": 185,
   "id": "b4d1512e-0b36-4a66-899a-b2a956cce8f2",
   "metadata": {},
   "outputs": [
    {
     "data": {
      "text/html": [
       "<div>\n",
       "<style scoped>\n",
       "    .dataframe tbody tr th:only-of-type {\n",
       "        vertical-align: middle;\n",
       "    }\n",
       "\n",
       "    .dataframe tbody tr th {\n",
       "        vertical-align: top;\n",
       "    }\n",
       "\n",
       "    .dataframe thead th {\n",
       "        text-align: right;\n",
       "    }\n",
       "</style>\n",
       "<table border=\"1\" class=\"dataframe\">\n",
       "  <thead>\n",
       "    <tr style=\"text-align: right;\">\n",
       "      <th></th>\n",
       "      <th>const</th>\n",
       "      <th>TotalVisits</th>\n",
       "      <th>Total Time Spent on Website</th>\n",
       "      <th>Lead Origin_Lead Add Form</th>\n",
       "      <th>Lead Source_Olark Chat</th>\n",
       "      <th>Lead Source_Reference</th>\n",
       "      <th>Lead Source_Welingak Website</th>\n",
       "      <th>Do Not Email_Yes</th>\n",
       "      <th>Last Activity_Had a Phone Conversation</th>\n",
       "      <th>Last Activity_SMS Sent</th>\n",
       "      <th>What is your current occupation_Housewife</th>\n",
       "      <th>What is your current occupation_Student</th>\n",
       "      <th>What is your current occupation_Unemployed</th>\n",
       "      <th>What is your current occupation_Working Professional</th>\n",
       "      <th>Last Notable Activity_Had a Phone Conversation</th>\n",
       "      <th>Last Notable Activity_Unreachable</th>\n",
       "    </tr>\n",
       "  </thead>\n",
       "  <tbody>\n",
       "    <tr>\n",
       "      <th>4771</th>\n",
       "      <td>1.0</td>\n",
       "      <td>0.000000</td>\n",
       "      <td>0.000000</td>\n",
       "      <td>1</td>\n",
       "      <td>0</td>\n",
       "      <td>1</td>\n",
       "      <td>0</td>\n",
       "      <td>0</td>\n",
       "      <td>0</td>\n",
       "      <td>1</td>\n",
       "      <td>0</td>\n",
       "      <td>0</td>\n",
       "      <td>0</td>\n",
       "      <td>1</td>\n",
       "      <td>0</td>\n",
       "      <td>0</td>\n",
       "    </tr>\n",
       "    <tr>\n",
       "      <th>6122</th>\n",
       "      <td>1.0</td>\n",
       "      <td>0.027888</td>\n",
       "      <td>0.029049</td>\n",
       "      <td>0</td>\n",
       "      <td>0</td>\n",
       "      <td>0</td>\n",
       "      <td>0</td>\n",
       "      <td>0</td>\n",
       "      <td>0</td>\n",
       "      <td>0</td>\n",
       "      <td>0</td>\n",
       "      <td>0</td>\n",
       "      <td>1</td>\n",
       "      <td>0</td>\n",
       "      <td>0</td>\n",
       "      <td>0</td>\n",
       "    </tr>\n",
       "    <tr>\n",
       "      <th>9202</th>\n",
       "      <td>1.0</td>\n",
       "      <td>0.015936</td>\n",
       "      <td>0.416813</td>\n",
       "      <td>0</td>\n",
       "      <td>0</td>\n",
       "      <td>0</td>\n",
       "      <td>0</td>\n",
       "      <td>0</td>\n",
       "      <td>0</td>\n",
       "      <td>1</td>\n",
       "      <td>0</td>\n",
       "      <td>0</td>\n",
       "      <td>1</td>\n",
       "      <td>0</td>\n",
       "      <td>0</td>\n",
       "      <td>0</td>\n",
       "    </tr>\n",
       "    <tr>\n",
       "      <th>6570</th>\n",
       "      <td>1.0</td>\n",
       "      <td>0.011952</td>\n",
       "      <td>0.378961</td>\n",
       "      <td>0</td>\n",
       "      <td>0</td>\n",
       "      <td>0</td>\n",
       "      <td>0</td>\n",
       "      <td>1</td>\n",
       "      <td>0</td>\n",
       "      <td>1</td>\n",
       "      <td>0</td>\n",
       "      <td>0</td>\n",
       "      <td>1</td>\n",
       "      <td>0</td>\n",
       "      <td>0</td>\n",
       "      <td>0</td>\n",
       "    </tr>\n",
       "    <tr>\n",
       "      <th>2668</th>\n",
       "      <td>1.0</td>\n",
       "      <td>0.031873</td>\n",
       "      <td>0.395246</td>\n",
       "      <td>0</td>\n",
       "      <td>0</td>\n",
       "      <td>0</td>\n",
       "      <td>0</td>\n",
       "      <td>0</td>\n",
       "      <td>0</td>\n",
       "      <td>1</td>\n",
       "      <td>0</td>\n",
       "      <td>0</td>\n",
       "      <td>1</td>\n",
       "      <td>0</td>\n",
       "      <td>0</td>\n",
       "      <td>0</td>\n",
       "    </tr>\n",
       "    <tr>\n",
       "      <th>...</th>\n",
       "      <td>...</td>\n",
       "      <td>...</td>\n",
       "      <td>...</td>\n",
       "      <td>...</td>\n",
       "      <td>...</td>\n",
       "      <td>...</td>\n",
       "      <td>...</td>\n",
       "      <td>...</td>\n",
       "      <td>...</td>\n",
       "      <td>...</td>\n",
       "      <td>...</td>\n",
       "      <td>...</td>\n",
       "      <td>...</td>\n",
       "      <td>...</td>\n",
       "      <td>...</td>\n",
       "      <td>...</td>\n",
       "    </tr>\n",
       "    <tr>\n",
       "      <th>5828</th>\n",
       "      <td>1.0</td>\n",
       "      <td>0.011952</td>\n",
       "      <td>0.027289</td>\n",
       "      <td>0</td>\n",
       "      <td>0</td>\n",
       "      <td>0</td>\n",
       "      <td>0</td>\n",
       "      <td>0</td>\n",
       "      <td>0</td>\n",
       "      <td>1</td>\n",
       "      <td>0</td>\n",
       "      <td>0</td>\n",
       "      <td>1</td>\n",
       "      <td>0</td>\n",
       "      <td>0</td>\n",
       "      <td>0</td>\n",
       "    </tr>\n",
       "    <tr>\n",
       "      <th>6583</th>\n",
       "      <td>1.0</td>\n",
       "      <td>0.011952</td>\n",
       "      <td>0.152289</td>\n",
       "      <td>0</td>\n",
       "      <td>0</td>\n",
       "      <td>0</td>\n",
       "      <td>0</td>\n",
       "      <td>0</td>\n",
       "      <td>0</td>\n",
       "      <td>1</td>\n",
       "      <td>0</td>\n",
       "      <td>0</td>\n",
       "      <td>1</td>\n",
       "      <td>0</td>\n",
       "      <td>0</td>\n",
       "      <td>0</td>\n",
       "    </tr>\n",
       "    <tr>\n",
       "      <th>5531</th>\n",
       "      <td>1.0</td>\n",
       "      <td>0.055777</td>\n",
       "      <td>0.702025</td>\n",
       "      <td>0</td>\n",
       "      <td>0</td>\n",
       "      <td>0</td>\n",
       "      <td>0</td>\n",
       "      <td>0</td>\n",
       "      <td>0</td>\n",
       "      <td>0</td>\n",
       "      <td>0</td>\n",
       "      <td>0</td>\n",
       "      <td>1</td>\n",
       "      <td>0</td>\n",
       "      <td>0</td>\n",
       "      <td>0</td>\n",
       "    </tr>\n",
       "    <tr>\n",
       "      <th>3056</th>\n",
       "      <td>1.0</td>\n",
       "      <td>0.011952</td>\n",
       "      <td>0.417694</td>\n",
       "      <td>0</td>\n",
       "      <td>0</td>\n",
       "      <td>0</td>\n",
       "      <td>0</td>\n",
       "      <td>1</td>\n",
       "      <td>0</td>\n",
       "      <td>1</td>\n",
       "      <td>0</td>\n",
       "      <td>0</td>\n",
       "      <td>1</td>\n",
       "      <td>0</td>\n",
       "      <td>0</td>\n",
       "      <td>0</td>\n",
       "    </tr>\n",
       "    <tr>\n",
       "      <th>4088</th>\n",
       "      <td>1.0</td>\n",
       "      <td>0.019920</td>\n",
       "      <td>0.530370</td>\n",
       "      <td>0</td>\n",
       "      <td>0</td>\n",
       "      <td>0</td>\n",
       "      <td>0</td>\n",
       "      <td>0</td>\n",
       "      <td>0</td>\n",
       "      <td>0</td>\n",
       "      <td>0</td>\n",
       "      <td>0</td>\n",
       "      <td>1</td>\n",
       "      <td>0</td>\n",
       "      <td>0</td>\n",
       "      <td>0</td>\n",
       "    </tr>\n",
       "  </tbody>\n",
       "</table>\n",
       "<p>1912 rows × 16 columns</p>\n",
       "</div>"
      ],
      "text/plain": [
       "      const  TotalVisits  Total Time Spent on Website  \\\n",
       "4771    1.0     0.000000                     0.000000   \n",
       "6122    1.0     0.027888                     0.029049   \n",
       "9202    1.0     0.015936                     0.416813   \n",
       "6570    1.0     0.011952                     0.378961   \n",
       "2668    1.0     0.031873                     0.395246   \n",
       "...     ...          ...                          ...   \n",
       "5828    1.0     0.011952                     0.027289   \n",
       "6583    1.0     0.011952                     0.152289   \n",
       "5531    1.0     0.055777                     0.702025   \n",
       "3056    1.0     0.011952                     0.417694   \n",
       "4088    1.0     0.019920                     0.530370   \n",
       "\n",
       "      Lead Origin_Lead Add Form  Lead Source_Olark Chat  \\\n",
       "4771                          1                       0   \n",
       "6122                          0                       0   \n",
       "9202                          0                       0   \n",
       "6570                          0                       0   \n",
       "2668                          0                       0   \n",
       "...                         ...                     ...   \n",
       "5828                          0                       0   \n",
       "6583                          0                       0   \n",
       "5531                          0                       0   \n",
       "3056                          0                       0   \n",
       "4088                          0                       0   \n",
       "\n",
       "      Lead Source_Reference  Lead Source_Welingak Website  Do Not Email_Yes  \\\n",
       "4771                      1                             0                 0   \n",
       "6122                      0                             0                 0   \n",
       "9202                      0                             0                 0   \n",
       "6570                      0                             0                 1   \n",
       "2668                      0                             0                 0   \n",
       "...                     ...                           ...               ...   \n",
       "5828                      0                             0                 0   \n",
       "6583                      0                             0                 0   \n",
       "5531                      0                             0                 0   \n",
       "3056                      0                             0                 1   \n",
       "4088                      0                             0                 0   \n",
       "\n",
       "      Last Activity_Had a Phone Conversation  Last Activity_SMS Sent  \\\n",
       "4771                                       0                       1   \n",
       "6122                                       0                       0   \n",
       "9202                                       0                       1   \n",
       "6570                                       0                       1   \n",
       "2668                                       0                       1   \n",
       "...                                      ...                     ...   \n",
       "5828                                       0                       1   \n",
       "6583                                       0                       1   \n",
       "5531                                       0                       0   \n",
       "3056                                       0                       1   \n",
       "4088                                       0                       0   \n",
       "\n",
       "      What is your current occupation_Housewife  \\\n",
       "4771                                          0   \n",
       "6122                                          0   \n",
       "9202                                          0   \n",
       "6570                                          0   \n",
       "2668                                          0   \n",
       "...                                         ...   \n",
       "5828                                          0   \n",
       "6583                                          0   \n",
       "5531                                          0   \n",
       "3056                                          0   \n",
       "4088                                          0   \n",
       "\n",
       "      What is your current occupation_Student  \\\n",
       "4771                                        0   \n",
       "6122                                        0   \n",
       "9202                                        0   \n",
       "6570                                        0   \n",
       "2668                                        0   \n",
       "...                                       ...   \n",
       "5828                                        0   \n",
       "6583                                        0   \n",
       "5531                                        0   \n",
       "3056                                        0   \n",
       "4088                                        0   \n",
       "\n",
       "      What is your current occupation_Unemployed  \\\n",
       "4771                                           0   \n",
       "6122                                           1   \n",
       "9202                                           1   \n",
       "6570                                           1   \n",
       "2668                                           1   \n",
       "...                                          ...   \n",
       "5828                                           1   \n",
       "6583                                           1   \n",
       "5531                                           1   \n",
       "3056                                           1   \n",
       "4088                                           1   \n",
       "\n",
       "      What is your current occupation_Working Professional  \\\n",
       "4771                                                     1   \n",
       "6122                                                     0   \n",
       "9202                                                     0   \n",
       "6570                                                     0   \n",
       "2668                                                     0   \n",
       "...                                                    ...   \n",
       "5828                                                     0   \n",
       "6583                                                     0   \n",
       "5531                                                     0   \n",
       "3056                                                     0   \n",
       "4088                                                     0   \n",
       "\n",
       "      Last Notable Activity_Had a Phone Conversation  \\\n",
       "4771                                               0   \n",
       "6122                                               0   \n",
       "9202                                               0   \n",
       "6570                                               0   \n",
       "2668                                               0   \n",
       "...                                              ...   \n",
       "5828                                               0   \n",
       "6583                                               0   \n",
       "5531                                               0   \n",
       "3056                                               0   \n",
       "4088                                               0   \n",
       "\n",
       "      Last Notable Activity_Unreachable  \n",
       "4771                                  0  \n",
       "6122                                  0  \n",
       "9202                                  0  \n",
       "6570                                  0  \n",
       "2668                                  0  \n",
       "...                                 ...  \n",
       "5828                                  0  \n",
       "6583                                  0  \n",
       "5531                                  0  \n",
       "3056                                  0  \n",
       "4088                                  0  \n",
       "\n",
       "[1912 rows x 16 columns]"
      ]
     },
     "execution_count": 185,
     "metadata": {},
     "output_type": "execute_result"
    }
   ],
   "source": [
    "# Checking X_test_sm\n",
    "\n",
    "X_test_sm"
   ]
  },
  {
   "cell_type": "code",
   "execution_count": 186,
   "id": "bc215316-0b42-49e8-8e2c-776309c090a1",
   "metadata": {},
   "outputs": [],
   "source": [
    "# Dropping the required columns from X_test as well\n",
    "\n",
    "X_test.drop(['Lead Source_Reference', 'What is your current occupation_Housewife', \n",
    "             'What is your current occupation_Working Professional', \n",
    "                     'Last Notable Activity_Had a Phone Conversation'], 1, \n",
    "                                inplace = True)"
   ]
  },
  {
   "cell_type": "code",
   "execution_count": 187,
   "id": "ab3308e0-e563-437b-ba49-c58d339a9710",
   "metadata": {},
   "outputs": [],
   "source": [
    "# Make predictions on the test set and store it in the variable 'y_test_pred'\n",
    "\n",
    "y_test_pred = res.predict(sm.add_constant(X_test))"
   ]
  },
  {
   "cell_type": "code",
   "execution_count": 188,
   "id": "e187dc67-a79d-4ccf-9b10-7f5d51f6f24c",
   "metadata": {},
   "outputs": [
    {
     "data": {
      "text/plain": [
       "4771    0.996296\n",
       "6122    0.129992\n",
       "9202    0.703937\n",
       "6570    0.299564\n",
       "2668    0.720796\n",
       "4233    0.792250\n",
       "3368    0.704038\n",
       "9091    0.464521\n",
       "5972    0.282978\n",
       "3631    0.786460\n",
       "dtype: float64"
      ]
     },
     "execution_count": 188,
     "metadata": {},
     "output_type": "execute_result"
    }
   ],
   "source": [
    "y_test_pred[:10]"
   ]
  },
  {
   "cell_type": "code",
   "execution_count": 189,
   "id": "6aaa90b3-86ac-47b6-a557-6f48c218fee5",
   "metadata": {},
   "outputs": [],
   "source": [
    "# Converting y_pred to a dataframe\n",
    "\n",
    "y_pred_1 = pd.DataFrame(y_test_pred)"
   ]
  },
  {
   "cell_type": "code",
   "execution_count": 190,
   "id": "115b6583-ec0e-43d0-b51d-ed3f55c9a138",
   "metadata": {},
   "outputs": [
    {
     "data": {
      "text/html": [
       "<div>\n",
       "<style scoped>\n",
       "    .dataframe tbody tr th:only-of-type {\n",
       "        vertical-align: middle;\n",
       "    }\n",
       "\n",
       "    .dataframe tbody tr th {\n",
       "        vertical-align: top;\n",
       "    }\n",
       "\n",
       "    .dataframe thead th {\n",
       "        text-align: right;\n",
       "    }\n",
       "</style>\n",
       "<table border=\"1\" class=\"dataframe\">\n",
       "  <thead>\n",
       "    <tr style=\"text-align: right;\">\n",
       "      <th></th>\n",
       "      <th>0</th>\n",
       "    </tr>\n",
       "  </thead>\n",
       "  <tbody>\n",
       "    <tr>\n",
       "      <th>4771</th>\n",
       "      <td>0.996296</td>\n",
       "    </tr>\n",
       "    <tr>\n",
       "      <th>6122</th>\n",
       "      <td>0.129992</td>\n",
       "    </tr>\n",
       "    <tr>\n",
       "      <th>9202</th>\n",
       "      <td>0.703937</td>\n",
       "    </tr>\n",
       "    <tr>\n",
       "      <th>6570</th>\n",
       "      <td>0.299564</td>\n",
       "    </tr>\n",
       "    <tr>\n",
       "      <th>2668</th>\n",
       "      <td>0.720796</td>\n",
       "    </tr>\n",
       "  </tbody>\n",
       "</table>\n",
       "</div>"
      ],
      "text/plain": [
       "             0\n",
       "4771  0.996296\n",
       "6122  0.129992\n",
       "9202  0.703937\n",
       "6570  0.299564\n",
       "2668  0.720796"
      ]
     },
     "execution_count": 190,
     "metadata": {},
     "output_type": "execute_result"
    }
   ],
   "source": [
    "# Let's see the head\n",
    "\n",
    "y_pred_1.head()"
   ]
  },
  {
   "cell_type": "code",
   "execution_count": 191,
   "id": "577f2d4d-9ef3-4b7c-8568-8d48c5d11742",
   "metadata": {},
   "outputs": [],
   "source": [
    "# Converting y_test to dataframe\n",
    "\n",
    "y_test_df = pd.DataFrame(y_test)"
   ]
  },
  {
   "cell_type": "code",
   "execution_count": 192,
   "id": "1a423b1e-369e-4bcb-a126-cdc4446cc0b2",
   "metadata": {},
   "outputs": [],
   "source": [
    "# Remove index for both dataframes to append them side by side \n",
    "\n",
    "y_pred_1.reset_index(drop=True, inplace=True)\n",
    "y_test_df.reset_index(drop=True, inplace=True)"
   ]
  },
  {
   "cell_type": "code",
   "execution_count": 193,
   "id": "a2f21fa7-96f8-4dd7-acbd-398b24b7f601",
   "metadata": {},
   "outputs": [],
   "source": [
    "# Append y_test_df and y_pred_1\n",
    "\n",
    "y_pred_final = pd.concat([y_test_df, y_pred_1],axis=1)"
   ]
  },
  {
   "cell_type": "code",
   "execution_count": 194,
   "id": "c9c8ff87-f7aa-423e-92cd-a8ed0cdd5793",
   "metadata": {},
   "outputs": [
    {
     "data": {
      "text/html": [
       "<div>\n",
       "<style scoped>\n",
       "    .dataframe tbody tr th:only-of-type {\n",
       "        vertical-align: middle;\n",
       "    }\n",
       "\n",
       "    .dataframe tbody tr th {\n",
       "        vertical-align: top;\n",
       "    }\n",
       "\n",
       "    .dataframe thead th {\n",
       "        text-align: right;\n",
       "    }\n",
       "</style>\n",
       "<table border=\"1\" class=\"dataframe\">\n",
       "  <thead>\n",
       "    <tr style=\"text-align: right;\">\n",
       "      <th></th>\n",
       "      <th>Converted</th>\n",
       "      <th>0</th>\n",
       "    </tr>\n",
       "  </thead>\n",
       "  <tbody>\n",
       "    <tr>\n",
       "      <th>0</th>\n",
       "      <td>1</td>\n",
       "      <td>0.996296</td>\n",
       "    </tr>\n",
       "    <tr>\n",
       "      <th>1</th>\n",
       "      <td>0</td>\n",
       "      <td>0.129992</td>\n",
       "    </tr>\n",
       "    <tr>\n",
       "      <th>2</th>\n",
       "      <td>0</td>\n",
       "      <td>0.703937</td>\n",
       "    </tr>\n",
       "    <tr>\n",
       "      <th>3</th>\n",
       "      <td>1</td>\n",
       "      <td>0.299564</td>\n",
       "    </tr>\n",
       "    <tr>\n",
       "      <th>4</th>\n",
       "      <td>1</td>\n",
       "      <td>0.720796</td>\n",
       "    </tr>\n",
       "  </tbody>\n",
       "</table>\n",
       "</div>"
      ],
      "text/plain": [
       "   Converted         0\n",
       "0          1  0.996296\n",
       "1          0  0.129992\n",
       "2          0  0.703937\n",
       "3          1  0.299564\n",
       "4          1  0.720796"
      ]
     },
     "execution_count": 194,
     "metadata": {},
     "output_type": "execute_result"
    }
   ],
   "source": [
    "# Check 'y_pred_final'\n",
    "\n",
    "y_pred_final.head()"
   ]
  },
  {
   "cell_type": "code",
   "execution_count": 195,
   "id": "aa8619ef-56ea-4d11-be8a-e66f69b5891b",
   "metadata": {},
   "outputs": [],
   "source": [
    "# Rename the column \n",
    "\n",
    "y_pred_final= y_pred_final.rename(columns = {0 : 'Conversion_Prob'})"
   ]
  },
  {
   "cell_type": "code",
   "execution_count": 196,
   "id": "82847d0e-2de6-4054-845d-73ea5bc9b912",
   "metadata": {},
   "outputs": [
    {
     "data": {
      "text/html": [
       "<div>\n",
       "<style scoped>\n",
       "    .dataframe tbody tr th:only-of-type {\n",
       "        vertical-align: middle;\n",
       "    }\n",
       "\n",
       "    .dataframe tbody tr th {\n",
       "        vertical-align: top;\n",
       "    }\n",
       "\n",
       "    .dataframe thead th {\n",
       "        text-align: right;\n",
       "    }\n",
       "</style>\n",
       "<table border=\"1\" class=\"dataframe\">\n",
       "  <thead>\n",
       "    <tr style=\"text-align: right;\">\n",
       "      <th></th>\n",
       "      <th>Converted</th>\n",
       "      <th>Conversion_Prob</th>\n",
       "    </tr>\n",
       "  </thead>\n",
       "  <tbody>\n",
       "    <tr>\n",
       "      <th>0</th>\n",
       "      <td>1</td>\n",
       "      <td>0.996296</td>\n",
       "    </tr>\n",
       "    <tr>\n",
       "      <th>1</th>\n",
       "      <td>0</td>\n",
       "      <td>0.129992</td>\n",
       "    </tr>\n",
       "    <tr>\n",
       "      <th>2</th>\n",
       "      <td>0</td>\n",
       "      <td>0.703937</td>\n",
       "    </tr>\n",
       "    <tr>\n",
       "      <th>3</th>\n",
       "      <td>1</td>\n",
       "      <td>0.299564</td>\n",
       "    </tr>\n",
       "    <tr>\n",
       "      <th>4</th>\n",
       "      <td>1</td>\n",
       "      <td>0.720796</td>\n",
       "    </tr>\n",
       "  </tbody>\n",
       "</table>\n",
       "</div>"
      ],
      "text/plain": [
       "   Converted  Conversion_Prob\n",
       "0          1         0.996296\n",
       "1          0         0.129992\n",
       "2          0         0.703937\n",
       "3          1         0.299564\n",
       "4          1         0.720796"
      ]
     },
     "execution_count": 196,
     "metadata": {},
     "output_type": "execute_result"
    }
   ],
   "source": [
    "# Let's see the head of y_pred_final\n",
    "\n",
    "y_pred_final.head()"
   ]
  },
  {
   "cell_type": "code",
   "execution_count": 197,
   "id": "79506706-074a-4c32-9bb6-f0f0cfd29b4a",
   "metadata": {},
   "outputs": [],
   "source": [
    "# Make predictions on the test set using 0.45 as the cutoff\n",
    "\n",
    "y_pred_final['final_predicted'] = y_pred_final.Conversion_Prob.map(lambda x: 1 if x > 0.42 else 0)"
   ]
  },
  {
   "cell_type": "code",
   "execution_count": 198,
   "id": "41486690-4a94-404f-b4ac-04bfc44aed52",
   "metadata": {},
   "outputs": [
    {
     "data": {
      "text/html": [
       "<div>\n",
       "<style scoped>\n",
       "    .dataframe tbody tr th:only-of-type {\n",
       "        vertical-align: middle;\n",
       "    }\n",
       "\n",
       "    .dataframe tbody tr th {\n",
       "        vertical-align: top;\n",
       "    }\n",
       "\n",
       "    .dataframe thead th {\n",
       "        text-align: right;\n",
       "    }\n",
       "</style>\n",
       "<table border=\"1\" class=\"dataframe\">\n",
       "  <thead>\n",
       "    <tr style=\"text-align: right;\">\n",
       "      <th></th>\n",
       "      <th>Converted</th>\n",
       "      <th>Conversion_Prob</th>\n",
       "      <th>final_predicted</th>\n",
       "    </tr>\n",
       "  </thead>\n",
       "  <tbody>\n",
       "    <tr>\n",
       "      <th>0</th>\n",
       "      <td>1</td>\n",
       "      <td>0.996296</td>\n",
       "      <td>1</td>\n",
       "    </tr>\n",
       "    <tr>\n",
       "      <th>1</th>\n",
       "      <td>0</td>\n",
       "      <td>0.129992</td>\n",
       "      <td>0</td>\n",
       "    </tr>\n",
       "    <tr>\n",
       "      <th>2</th>\n",
       "      <td>0</td>\n",
       "      <td>0.703937</td>\n",
       "      <td>1</td>\n",
       "    </tr>\n",
       "    <tr>\n",
       "      <th>3</th>\n",
       "      <td>1</td>\n",
       "      <td>0.299564</td>\n",
       "      <td>0</td>\n",
       "    </tr>\n",
       "    <tr>\n",
       "      <th>4</th>\n",
       "      <td>1</td>\n",
       "      <td>0.720796</td>\n",
       "      <td>1</td>\n",
       "    </tr>\n",
       "  </tbody>\n",
       "</table>\n",
       "</div>"
      ],
      "text/plain": [
       "   Converted  Conversion_Prob  final_predicted\n",
       "0          1         0.996296                1\n",
       "1          0         0.129992                0\n",
       "2          0         0.703937                1\n",
       "3          1         0.299564                0\n",
       "4          1         0.720796                1"
      ]
     },
     "execution_count": 198,
     "metadata": {},
     "output_type": "execute_result"
    }
   ],
   "source": [
    "# Check y_pred_final\n",
    "\n",
    "y_pred_final.head()"
   ]
  },
  {
   "cell_type": "code",
   "execution_count": 199,
   "id": "3e88069f-12c7-45f4-a7c3-d727a21c5fb2",
   "metadata": {},
   "outputs": [
    {
     "data": {
      "text/plain": [
       "0.7845188284518828"
      ]
     },
     "execution_count": 199,
     "metadata": {},
     "output_type": "execute_result"
    }
   ],
   "source": [
    "# Let's check the overall accuracy\n",
    "\n",
    "metrics.accuracy_score(y_pred_final['Converted'], y_pred_final.final_predicted)"
   ]
  },
  {
   "cell_type": "code",
   "execution_count": 200,
   "id": "d2f87542-d929-4bab-8dcf-b0f72649e797",
   "metadata": {},
   "outputs": [
    {
     "data": {
      "text/plain": [
       "array([[786, 210],\n",
       "       [202, 714]], dtype=int64)"
      ]
     },
     "execution_count": 200,
     "metadata": {},
     "output_type": "execute_result"
    }
   ],
   "source": [
    "confusion2 = metrics.confusion_matrix(y_pred_final['Converted'], y_pred_final.final_predicted )\n",
    "confusion2"
   ]
  },
  {
   "cell_type": "code",
   "execution_count": 201,
   "id": "995fdf21-c337-4aa0-b5ef-cb4a5e923ccf",
   "metadata": {},
   "outputs": [],
   "source": [
    "TP = confusion2[1,1] # true positive \n",
    "TN = confusion2[0,0] # true negatives\n",
    "FP = confusion2[0,1] # false positives\n",
    "FN = confusion2[1,0] # false negatives"
   ]
  },
  {
   "cell_type": "code",
   "execution_count": 202,
   "id": "364e2d6d-5d7c-4d61-87fa-7f2c2885a99a",
   "metadata": {},
   "outputs": [
    {
     "data": {
      "text/plain": [
       "0.7794759825327511"
      ]
     },
     "execution_count": 202,
     "metadata": {},
     "output_type": "execute_result"
    }
   ],
   "source": [
    "# Calculating the 'sensitivity'\n",
    "TP / float(TP+FN)"
   ]
  },
  {
   "cell_type": "code",
   "execution_count": 203,
   "id": "92538a41-2ee3-4518-8794-f436812eee82",
   "metadata": {},
   "outputs": [
    {
     "data": {
      "text/plain": [
       "0.7891566265060241"
      ]
     },
     "execution_count": 203,
     "metadata": {},
     "output_type": "execute_result"
    }
   ],
   "source": [
    "# Calculating the 'specificity'\n",
    "TN / float(TN+FP)"
   ]
  },
  {
   "cell_type": "markdown",
   "id": "7570bac9-ea1c-4101-add5-d6371234d82c",
   "metadata": {},
   "source": [
    "### Precision-Recall View\n",
    "Let's now also build the training model using the precision-recall view"
   ]
  },
  {
   "cell_type": "code",
   "execution_count": 204,
   "id": "ee6cb788-0a6f-4a24-9528-2fc5985b933c",
   "metadata": {},
   "outputs": [],
   "source": [
    "#Looking at the confusion matrix again"
   ]
  },
  {
   "cell_type": "code",
   "execution_count": 205,
   "id": "343107fb-1a33-4e03-a6ab-500e1b8da4f3",
   "metadata": {},
   "outputs": [
    {
     "data": {
      "text/plain": [
       "array([[1929,  383],\n",
       "       [ 560, 1589]], dtype=int64)"
      ]
     },
     "execution_count": 205,
     "metadata": {},
     "output_type": "execute_result"
    }
   ],
   "source": [
    "confusion = metrics.confusion_matrix(y_train_pred_final.Converted, y_train_pred_final.Predicted )\n",
    "confusion"
   ]
  },
  {
   "cell_type": "markdown",
   "id": "1eb41dab-d00f-45d3-a371-0afaab219e46",
   "metadata": {},
   "source": [
    "#### Precision = \n",
    "         TP / TP + FP"
   ]
  },
  {
   "cell_type": "code",
   "execution_count": 206,
   "id": "c6e45710-29e5-4c45-9dbf-d7228a38dcfe",
   "metadata": {},
   "outputs": [
    {
     "data": {
      "text/plain": [
       "0.8057809330628803"
      ]
     },
     "execution_count": 206,
     "metadata": {},
     "output_type": "execute_result"
    }
   ],
   "source": [
    "confusion[1,1]/(confusion[0,1]+confusion[1,1])"
   ]
  },
  {
   "cell_type": "markdown",
   "id": "94f48f6b-2f52-4062-aabf-a9507cfb259c",
   "metadata": {},
   "source": [
    "#### Recall = \n",
    "          TP / TP + FN"
   ]
  },
  {
   "cell_type": "code",
   "execution_count": 207,
   "id": "109504c2-f473-4565-9cd5-3da15b5cde35",
   "metadata": {},
   "outputs": [
    {
     "data": {
      "text/plain": [
       "0.739413680781759"
      ]
     },
     "execution_count": 207,
     "metadata": {},
     "output_type": "execute_result"
    }
   ],
   "source": [
    "confusion[1,1]/(confusion[1,0]+confusion[1,1])"
   ]
  },
  {
   "cell_type": "markdown",
   "id": "ed016305-9268-4a69-becd-bcaa47027e20",
   "metadata": {},
   "source": [
    "### Precision and recall tradeoff"
   ]
  },
  {
   "cell_type": "markdown",
   "id": "50360d03-8e43-411f-abbc-747016d41a24",
   "metadata": {},
   "source": [
    "Importing the `Precision recall curve` library"
   ]
  },
  {
   "cell_type": "code",
   "execution_count": 208,
   "id": "d64ea650-99c0-4c2f-b945-b3798a90f02c",
   "metadata": {},
   "outputs": [
    {
     "data": {
      "text/plain": [
       "(0       0\n",
       " 1       0\n",
       " 2       1\n",
       " 3       1\n",
       " 4       1\n",
       "        ..\n",
       " 4456    1\n",
       " 4457    0\n",
       " 4458    0\n",
       " 4459    0\n",
       " 4460    0\n",
       " Name: Converted, Length: 4461, dtype: int64,\n",
       " 0       0\n",
       " 1       0\n",
       " 2       0\n",
       " 3       0\n",
       " 4       1\n",
       "        ..\n",
       " 4456    1\n",
       " 4457    1\n",
       " 4458    1\n",
       " 4459    0\n",
       " 4460    0\n",
       " Name: Predicted, Length: 4461, dtype: int64)"
      ]
     },
     "execution_count": 208,
     "metadata": {},
     "output_type": "execute_result"
    }
   ],
   "source": [
    "y_train_pred_final.Converted, y_train_pred_final.Predicted"
   ]
  },
  {
   "cell_type": "code",
   "execution_count": 209,
   "id": "19d66db3-b9ba-4ffe-9cc2-4ffdfb2423c5",
   "metadata": {},
   "outputs": [],
   "source": [
    "p, r, thresholds = precision_recall_curve(y_train_pred_final.Converted, y_train_pred_final.Conversion_Prob)"
   ]
  },
  {
   "cell_type": "code",
   "execution_count": 210,
   "id": "3b962844-5112-462f-95ce-feb331b8d8c4",
   "metadata": {},
   "outputs": [
    {
     "data": {
      "image/png": "[encoded data removed]",
      "text/plain": [
       "<Figure size 640x480 with 1 Axes>"
      ]
     },
     "metadata": {},
     "output_type": "display_data"
    }
   ],
   "source": [
    "plt.plot(thresholds, p[:-1], \"g-\")\n",
    "plt.plot(thresholds, r[:-1], \"r-\")\n",
    "plt.show()"
   ]
  },
  {
   "cell_type": "code",
   "execution_count": 211,
   "id": "906ae4c1-126f-4e2c-bb73-26307998763e",
   "metadata": {},
   "outputs": [
    {
     "data": {
      "text/html": [
       "<div>\n",
       "<style scoped>\n",
       "    .dataframe tbody tr th:only-of-type {\n",
       "        vertical-align: middle;\n",
       "    }\n",
       "\n",
       "    .dataframe tbody tr th {\n",
       "        vertical-align: top;\n",
       "    }\n",
       "\n",
       "    .dataframe thead th {\n",
       "        text-align: right;\n",
       "    }\n",
       "</style>\n",
       "<table border=\"1\" class=\"dataframe\">\n",
       "  <thead>\n",
       "    <tr style=\"text-align: right;\">\n",
       "      <th></th>\n",
       "      <th>Converted</th>\n",
       "      <th>Conversion_Prob</th>\n",
       "      <th>Predicted</th>\n",
       "      <th>0.0</th>\n",
       "      <th>0.1</th>\n",
       "      <th>0.2</th>\n",
       "      <th>0.3</th>\n",
       "      <th>0.4</th>\n",
       "      <th>0.5</th>\n",
       "      <th>0.6</th>\n",
       "      <th>0.7</th>\n",
       "      <th>0.8</th>\n",
       "      <th>0.9</th>\n",
       "      <th>final_predicted</th>\n",
       "    </tr>\n",
       "  </thead>\n",
       "  <tbody>\n",
       "    <tr>\n",
       "      <th>0</th>\n",
       "      <td>0</td>\n",
       "      <td>0.300117</td>\n",
       "      <td>0</td>\n",
       "      <td>1</td>\n",
       "      <td>1</td>\n",
       "      <td>1</td>\n",
       "      <td>1</td>\n",
       "      <td>0</td>\n",
       "      <td>0</td>\n",
       "      <td>0</td>\n",
       "      <td>0</td>\n",
       "      <td>0</td>\n",
       "      <td>0</td>\n",
       "      <td>0</td>\n",
       "    </tr>\n",
       "    <tr>\n",
       "      <th>1</th>\n",
       "      <td>0</td>\n",
       "      <td>0.142002</td>\n",
       "      <td>0</td>\n",
       "      <td>1</td>\n",
       "      <td>1</td>\n",
       "      <td>0</td>\n",
       "      <td>0</td>\n",
       "      <td>0</td>\n",
       "      <td>0</td>\n",
       "      <td>0</td>\n",
       "      <td>0</td>\n",
       "      <td>0</td>\n",
       "      <td>0</td>\n",
       "      <td>0</td>\n",
       "    </tr>\n",
       "    <tr>\n",
       "      <th>2</th>\n",
       "      <td>1</td>\n",
       "      <td>0.127629</td>\n",
       "      <td>0</td>\n",
       "      <td>1</td>\n",
       "      <td>1</td>\n",
       "      <td>0</td>\n",
       "      <td>0</td>\n",
       "      <td>0</td>\n",
       "      <td>0</td>\n",
       "      <td>0</td>\n",
       "      <td>0</td>\n",
       "      <td>0</td>\n",
       "      <td>0</td>\n",
       "      <td>0</td>\n",
       "    </tr>\n",
       "    <tr>\n",
       "      <th>3</th>\n",
       "      <td>1</td>\n",
       "      <td>0.291558</td>\n",
       "      <td>0</td>\n",
       "      <td>1</td>\n",
       "      <td>1</td>\n",
       "      <td>1</td>\n",
       "      <td>0</td>\n",
       "      <td>0</td>\n",
       "      <td>0</td>\n",
       "      <td>0</td>\n",
       "      <td>0</td>\n",
       "      <td>0</td>\n",
       "      <td>0</td>\n",
       "      <td>0</td>\n",
       "    </tr>\n",
       "    <tr>\n",
       "      <th>4</th>\n",
       "      <td>1</td>\n",
       "      <td>0.954795</td>\n",
       "      <td>1</td>\n",
       "      <td>1</td>\n",
       "      <td>1</td>\n",
       "      <td>1</td>\n",
       "      <td>1</td>\n",
       "      <td>1</td>\n",
       "      <td>1</td>\n",
       "      <td>1</td>\n",
       "      <td>1</td>\n",
       "      <td>1</td>\n",
       "      <td>1</td>\n",
       "      <td>1</td>\n",
       "    </tr>\n",
       "  </tbody>\n",
       "</table>\n",
       "</div>"
      ],
      "text/plain": [
       "   Converted  Conversion_Prob  Predicted  0.0  0.1  0.2  0.3  0.4  0.5  0.6  \\\n",
       "0          0         0.300117          0    1    1    1    1    0    0    0   \n",
       "1          0         0.142002          0    1    1    0    0    0    0    0   \n",
       "2          1         0.127629          0    1    1    0    0    0    0    0   \n",
       "3          1         0.291558          0    1    1    1    0    0    0    0   \n",
       "4          1         0.954795          1    1    1    1    1    1    1    1   \n",
       "\n",
       "   0.7  0.8  0.9  final_predicted  \n",
       "0    0    0    0                0  \n",
       "1    0    0    0                0  \n",
       "2    0    0    0                0  \n",
       "3    0    0    0                0  \n",
       "4    1    1    1                1  "
      ]
     },
     "execution_count": 211,
     "metadata": {},
     "output_type": "execute_result"
    }
   ],
   "source": [
    "y_train_pred_final['final_predicted'] = y_train_pred_final.Conversion_Prob.map(lambda x: 1 if x > 0.44 else 0)\n",
    "\n",
    "y_train_pred_final.head()"
   ]
  },
  {
   "cell_type": "code",
   "execution_count": 212,
   "id": "a41e894a-29ce-409c-9d31-f24bd407419e",
   "metadata": {},
   "outputs": [
    {
     "data": {
      "text/plain": [
       "0.7895090786819099"
      ]
     },
     "execution_count": 212,
     "metadata": {},
     "output_type": "execute_result"
    }
   ],
   "source": [
    "# Let's checking the `accuracy` now\n",
    "\n",
    "metrics.accuracy_score(y_train_pred_final.Converted, y_train_pred_final.final_predicted)"
   ]
  },
  {
   "cell_type": "code",
   "execution_count": 213,
   "id": "e08cc4e0-23a4-4631-ad84-e39bfc14ddf1",
   "metadata": {},
   "outputs": [
    {
     "data": {
      "text/plain": [
       "array([[1852,  460],\n",
       "       [ 479, 1670]], dtype=int64)"
      ]
     },
     "execution_count": 213,
     "metadata": {},
     "output_type": "execute_result"
    }
   ],
   "source": [
    "# Let's creating the confusion matrix once again\n",
    "\n",
    "confusion2 = metrics.confusion_matrix(y_train_pred_final.Converted, y_train_pred_final.final_predicted )\n",
    "confusion2"
   ]
  },
  {
   "cell_type": "code",
   "execution_count": 214,
   "id": "bd17bf71-4c36-48a0-9f18-64e9d7fc8805",
   "metadata": {},
   "outputs": [],
   "source": [
    "# Let's evaluate the other metrics as well\n",
    "\n",
    "TP = confusion2[1,1] # true positive \n",
    "TN = confusion2[0,0] # true negatives\n",
    "FP = confusion2[0,1] # false positives\n",
    "FN = confusion2[1,0] # false negatives"
   ]
  },
  {
   "cell_type": "markdown",
   "id": "9e71ef80-cbd6-4e05-b0f5-8ea4e22dbaa1",
   "metadata": {},
   "source": [
    "### Precision"
   ]
  },
  {
   "cell_type": "code",
   "execution_count": 215,
   "id": "526aebeb-88d7-4f98-bdc2-e83719fc608a",
   "metadata": {},
   "outputs": [
    {
     "data": {
      "text/plain": [
       "0.784037558685446"
      ]
     },
     "execution_count": 215,
     "metadata": {},
     "output_type": "execute_result"
    }
   ],
   "source": [
    "TP/(TP+FP)"
   ]
  },
  {
   "cell_type": "markdown",
   "id": "bb1b1239-566a-4019-b12e-8d464cca66f8",
   "metadata": {},
   "source": [
    "### Recall"
   ]
  },
  {
   "cell_type": "code",
   "execution_count": 216,
   "id": "59e8712a-5f5c-467b-b036-0a7868b5ca8d",
   "metadata": {},
   "outputs": [
    {
     "data": {
      "text/plain": [
       "0.7771056305258259"
      ]
     },
     "execution_count": 216,
     "metadata": {},
     "output_type": "execute_result"
    }
   ],
   "source": [
    "TP/(TP+FN)"
   ]
  },
  {
   "cell_type": "markdown",
   "id": "13191b19-a249-43f1-bca5-a3262ac726d3",
   "metadata": {},
   "source": [
    "This cutoff point seems good to go!"
   ]
  },
  {
   "cell_type": "markdown",
   "id": "830c074e-43b0-4d5c-b1db-e91eb8734f74",
   "metadata": {},
   "source": [
    "## Step 5: Making Predictions on the Test Set\n",
    "Let's now make predicitons on the test set."
   ]
  },
  {
   "cell_type": "code",
   "execution_count": 217,
   "id": "fc48b6d9-7990-41a9-90b9-b04202c2d76d",
   "metadata": {},
   "outputs": [],
   "source": [
    "# Making predictions on the test set and store it in the variable 'y_test_pred'\n",
    "\n",
    "y_test_pred = res.predict(sm.add_constant(X_test))"
   ]
  },
  {
   "cell_type": "code",
   "execution_count": 218,
   "id": "8f7a4092-85ba-41e5-8181-262bb895d637",
   "metadata": {},
   "outputs": [
    {
     "data": {
      "text/plain": [
       "4771    0.996296\n",
       "6122    0.129992\n",
       "9202    0.703937\n",
       "6570    0.299564\n",
       "2668    0.720796\n",
       "4233    0.792250\n",
       "3368    0.704038\n",
       "9091    0.464521\n",
       "5972    0.282978\n",
       "3631    0.786460\n",
       "dtype: float64"
      ]
     },
     "execution_count": 218,
     "metadata": {},
     "output_type": "execute_result"
    }
   ],
   "source": [
    "y_test_pred[:10]"
   ]
  },
  {
   "cell_type": "code",
   "execution_count": 219,
   "id": "ff144056-a22e-4aa1-8918-fa06ce98bf4f",
   "metadata": {},
   "outputs": [],
   "source": [
    "# Converting y_pred to a dataframe\n",
    "\n",
    "y_pred_1 = pd.DataFrame(y_test_pred)"
   ]
  },
  {
   "cell_type": "code",
   "execution_count": 220,
   "id": "3757ad2f-164f-4383-9d94-94b349f5684e",
   "metadata": {},
   "outputs": [
    {
     "data": {
      "text/html": [
       "<div>\n",
       "<style scoped>\n",
       "    .dataframe tbody tr th:only-of-type {\n",
       "        vertical-align: middle;\n",
       "    }\n",
       "\n",
       "    .dataframe tbody tr th {\n",
       "        vertical-align: top;\n",
       "    }\n",
       "\n",
       "    .dataframe thead th {\n",
       "        text-align: right;\n",
       "    }\n",
       "</style>\n",
       "<table border=\"1\" class=\"dataframe\">\n",
       "  <thead>\n",
       "    <tr style=\"text-align: right;\">\n",
       "      <th></th>\n",
       "      <th>0</th>\n",
       "    </tr>\n",
       "  </thead>\n",
       "  <tbody>\n",
       "    <tr>\n",
       "      <th>4771</th>\n",
       "      <td>0.996296</td>\n",
       "    </tr>\n",
       "    <tr>\n",
       "      <th>6122</th>\n",
       "      <td>0.129992</td>\n",
       "    </tr>\n",
       "    <tr>\n",
       "      <th>9202</th>\n",
       "      <td>0.703937</td>\n",
       "    </tr>\n",
       "    <tr>\n",
       "      <th>6570</th>\n",
       "      <td>0.299564</td>\n",
       "    </tr>\n",
       "    <tr>\n",
       "      <th>2668</th>\n",
       "      <td>0.720796</td>\n",
       "    </tr>\n",
       "  </tbody>\n",
       "</table>\n",
       "</div>"
      ],
      "text/plain": [
       "             0\n",
       "4771  0.996296\n",
       "6122  0.129992\n",
       "9202  0.703937\n",
       "6570  0.299564\n",
       "2668  0.720796"
      ]
     },
     "execution_count": 220,
     "metadata": {},
     "output_type": "execute_result"
    }
   ],
   "source": [
    "# Let's see the head\n",
    "\n",
    "y_pred_1.head()"
   ]
  },
  {
   "cell_type": "code",
   "execution_count": 221,
   "id": "c4b60541-1fc9-458c-973e-ec3eeda3047c",
   "metadata": {},
   "outputs": [],
   "source": [
    "# Converting y_test to dataframe\n",
    "\n",
    "y_test_df = pd.DataFrame(y_test)"
   ]
  },
  {
   "cell_type": "code",
   "execution_count": 222,
   "id": "d1114cbb-6243-4da7-91ca-04bd8a423ff4",
   "metadata": {},
   "outputs": [],
   "source": [
    "# Removing index for both dataframes to append them side by side \n",
    "\n",
    "y_pred_1.reset_index(drop=True, inplace=True)\n",
    "y_test_df.reset_index(drop=True, inplace=True)"
   ]
  },
  {
   "cell_type": "code",
   "execution_count": 223,
   "id": "502f583a-2878-4045-9f55-bc227d634331",
   "metadata": {},
   "outputs": [],
   "source": [
    "# Append y_test_df and y_pred_1\n",
    "\n",
    "y_pred_final = pd.concat([y_test_df, y_pred_1],axis=1)"
   ]
  },
  {
   "cell_type": "code",
   "execution_count": 224,
   "id": "1795366e-b44e-4eac-ac7c-48f855a6f594",
   "metadata": {},
   "outputs": [
    {
     "data": {
      "text/html": [
       "<div>\n",
       "<style scoped>\n",
       "    .dataframe tbody tr th:only-of-type {\n",
       "        vertical-align: middle;\n",
       "    }\n",
       "\n",
       "    .dataframe tbody tr th {\n",
       "        vertical-align: top;\n",
       "    }\n",
       "\n",
       "    .dataframe thead th {\n",
       "        text-align: right;\n",
       "    }\n",
       "</style>\n",
       "<table border=\"1\" class=\"dataframe\">\n",
       "  <thead>\n",
       "    <tr style=\"text-align: right;\">\n",
       "      <th></th>\n",
       "      <th>Converted</th>\n",
       "      <th>0</th>\n",
       "    </tr>\n",
       "  </thead>\n",
       "  <tbody>\n",
       "    <tr>\n",
       "      <th>0</th>\n",
       "      <td>1</td>\n",
       "      <td>0.996296</td>\n",
       "    </tr>\n",
       "    <tr>\n",
       "      <th>1</th>\n",
       "      <td>0</td>\n",
       "      <td>0.129992</td>\n",
       "    </tr>\n",
       "    <tr>\n",
       "      <th>2</th>\n",
       "      <td>0</td>\n",
       "      <td>0.703937</td>\n",
       "    </tr>\n",
       "    <tr>\n",
       "      <th>3</th>\n",
       "      <td>1</td>\n",
       "      <td>0.299564</td>\n",
       "    </tr>\n",
       "    <tr>\n",
       "      <th>4</th>\n",
       "      <td>1</td>\n",
       "      <td>0.720796</td>\n",
       "    </tr>\n",
       "  </tbody>\n",
       "</table>\n",
       "</div>"
      ],
      "text/plain": [
       "   Converted         0\n",
       "0          1  0.996296\n",
       "1          0  0.129992\n",
       "2          0  0.703937\n",
       "3          1  0.299564\n",
       "4          1  0.720796"
      ]
     },
     "execution_count": 224,
     "metadata": {},
     "output_type": "execute_result"
    }
   ],
   "source": [
    "# Checking the 'y_pred_final'\n",
    "\n",
    "y_pred_final.head()"
   ]
  },
  {
   "cell_type": "code",
   "execution_count": 225,
   "id": "f3f76c04-59aa-42a3-9a04-9c1e5b5bf4b5",
   "metadata": {},
   "outputs": [],
   "source": [
    "# Rename the column \n",
    "\n",
    "y_pred_final= y_pred_final.rename(columns = {0 : 'Conversion_Prob'})"
   ]
  },
  {
   "cell_type": "code",
   "execution_count": 226,
   "id": "2e9e3293-187d-47c8-806f-2d073ecd4636",
   "metadata": {},
   "outputs": [
    {
     "data": {
      "text/html": [
       "<div>\n",
       "<style scoped>\n",
       "    .dataframe tbody tr th:only-of-type {\n",
       "        vertical-align: middle;\n",
       "    }\n",
       "\n",
       "    .dataframe tbody tr th {\n",
       "        vertical-align: top;\n",
       "    }\n",
       "\n",
       "    .dataframe thead th {\n",
       "        text-align: right;\n",
       "    }\n",
       "</style>\n",
       "<table border=\"1\" class=\"dataframe\">\n",
       "  <thead>\n",
       "    <tr style=\"text-align: right;\">\n",
       "      <th></th>\n",
       "      <th>Converted</th>\n",
       "      <th>Conversion_Prob</th>\n",
       "    </tr>\n",
       "  </thead>\n",
       "  <tbody>\n",
       "    <tr>\n",
       "      <th>0</th>\n",
       "      <td>1</td>\n",
       "      <td>0.996296</td>\n",
       "    </tr>\n",
       "    <tr>\n",
       "      <th>1</th>\n",
       "      <td>0</td>\n",
       "      <td>0.129992</td>\n",
       "    </tr>\n",
       "    <tr>\n",
       "      <th>2</th>\n",
       "      <td>0</td>\n",
       "      <td>0.703937</td>\n",
       "    </tr>\n",
       "    <tr>\n",
       "      <th>3</th>\n",
       "      <td>1</td>\n",
       "      <td>0.299564</td>\n",
       "    </tr>\n",
       "    <tr>\n",
       "      <th>4</th>\n",
       "      <td>1</td>\n",
       "      <td>0.720796</td>\n",
       "    </tr>\n",
       "  </tbody>\n",
       "</table>\n",
       "</div>"
      ],
      "text/plain": [
       "   Converted  Conversion_Prob\n",
       "0          1         0.996296\n",
       "1          0         0.129992\n",
       "2          0         0.703937\n",
       "3          1         0.299564\n",
       "4          1         0.720796"
      ]
     },
     "execution_count": 226,
     "metadata": {},
     "output_type": "execute_result"
    }
   ],
   "source": [
    "# Let's see the head of y_pred_final\n",
    "\n",
    "y_pred_final.head()"
   ]
  },
  {
   "cell_type": "code",
   "execution_count": 227,
   "id": "62de211f-2416-47b3-8a86-358fa8f4ca83",
   "metadata": {},
   "outputs": [],
   "source": [
    "# Making predictions on the test set using 0.44 as the cutoff\n",
    "\n",
    "y_pred_final['final_predicted'] = y_pred_final.Conversion_Prob.map(lambda x: 1 if x > 0.44 else 0)"
   ]
  },
  {
   "cell_type": "code",
   "execution_count": 228,
   "id": "56c387b3-4bea-45b2-bd08-0680871ea988",
   "metadata": {},
   "outputs": [
    {
     "data": {
      "text/html": [
       "<div>\n",
       "<style scoped>\n",
       "    .dataframe tbody tr th:only-of-type {\n",
       "        vertical-align: middle;\n",
       "    }\n",
       "\n",
       "    .dataframe tbody tr th {\n",
       "        vertical-align: top;\n",
       "    }\n",
       "\n",
       "    .dataframe thead th {\n",
       "        text-align: right;\n",
       "    }\n",
       "</style>\n",
       "<table border=\"1\" class=\"dataframe\">\n",
       "  <thead>\n",
       "    <tr style=\"text-align: right;\">\n",
       "      <th></th>\n",
       "      <th>Converted</th>\n",
       "      <th>Conversion_Prob</th>\n",
       "      <th>final_predicted</th>\n",
       "    </tr>\n",
       "  </thead>\n",
       "  <tbody>\n",
       "    <tr>\n",
       "      <th>0</th>\n",
       "      <td>1</td>\n",
       "      <td>0.996296</td>\n",
       "      <td>1</td>\n",
       "    </tr>\n",
       "    <tr>\n",
       "      <th>1</th>\n",
       "      <td>0</td>\n",
       "      <td>0.129992</td>\n",
       "      <td>0</td>\n",
       "    </tr>\n",
       "    <tr>\n",
       "      <th>2</th>\n",
       "      <td>0</td>\n",
       "      <td>0.703937</td>\n",
       "      <td>1</td>\n",
       "    </tr>\n",
       "    <tr>\n",
       "      <th>3</th>\n",
       "      <td>1</td>\n",
       "      <td>0.299564</td>\n",
       "      <td>0</td>\n",
       "    </tr>\n",
       "    <tr>\n",
       "      <th>4</th>\n",
       "      <td>1</td>\n",
       "      <td>0.720796</td>\n",
       "      <td>1</td>\n",
       "    </tr>\n",
       "  </tbody>\n",
       "</table>\n",
       "</div>"
      ],
      "text/plain": [
       "   Converted  Conversion_Prob  final_predicted\n",
       "0          1         0.996296                1\n",
       "1          0         0.129992                0\n",
       "2          0         0.703937                1\n",
       "3          1         0.299564                0\n",
       "4          1         0.720796                1"
      ]
     },
     "execution_count": 228,
     "metadata": {},
     "output_type": "execute_result"
    }
   ],
   "source": [
    "# Checking y_pred_final\n",
    "\n",
    "y_pred_final.head()"
   ]
  },
  {
   "cell_type": "code",
   "execution_count": 229,
   "id": "7d8be257-3d5f-45b6-98e7-4bc7d0b1cf9b",
   "metadata": {},
   "outputs": [
    {
     "data": {
      "text/plain": [
       "0.7866108786610879"
      ]
     },
     "execution_count": 229,
     "metadata": {},
     "output_type": "execute_result"
    }
   ],
   "source": [
    "# Let's checking the overall accuracy\n",
    "\n",
    "metrics.accuracy_score(y_pred_final['Converted'], y_pred_final.final_predicted)"
   ]
  },
  {
   "cell_type": "code",
   "execution_count": 230,
   "id": "64a932f0-9ebd-4608-bd2f-cef0dabf86c4",
   "metadata": {},
   "outputs": [
    {
     "data": {
      "text/plain": [
       "array([[801, 195],\n",
       "       [213, 703]], dtype=int64)"
      ]
     },
     "execution_count": 230,
     "metadata": {},
     "output_type": "execute_result"
    }
   ],
   "source": [
    "confusion2 = metrics.confusion_matrix(y_pred_final['Converted'], y_pred_final.final_predicted )\n",
    "confusion2"
   ]
  },
  {
   "cell_type": "code",
   "execution_count": 231,
   "id": "1a2afaae-92f2-4775-8b25-57b4b3297f9e",
   "metadata": {},
   "outputs": [],
   "source": [
    "TP = confusion2[1,1] # true positive \n",
    "TN = confusion2[0,0] # true negatives\n",
    "FP = confusion2[0,1] # false positives\n",
    "FN = confusion2[1,0] # false negatives"
   ]
  },
  {
   "cell_type": "code",
   "execution_count": 232,
   "id": "187dfa05-a58e-4a4f-8929-597daed64d22",
   "metadata": {},
   "outputs": [
    {
     "data": {
      "text/plain": [
       "0.7828507795100222"
      ]
     },
     "execution_count": 232,
     "metadata": {},
     "output_type": "execute_result"
    }
   ],
   "source": [
    "# Calculating the Precision\n",
    "\n",
    "TP/(TP+FP)"
   ]
  },
  {
   "cell_type": "code",
   "execution_count": 233,
   "id": "867afd31-44b4-4ad7-957a-290744fad35f",
   "metadata": {},
   "outputs": [
    {
     "data": {
      "text/plain": [
       "0.767467248908297"
      ]
     },
     "execution_count": 233,
     "metadata": {},
     "output_type": "execute_result"
    }
   ],
   "source": [
    "# Calculating Recall\n",
    "\n",
    "TP/(TP+FN)"
   ]
  },
  {
   "cell_type": "code",
   "execution_count": null,
   "id": "72fbe041-40cf-4260-9001-b4c8c331b786",
   "metadata": {},
   "outputs": [],
   "source": []
  }
 ],
 "metadata": {
  "kernelspec": {
   "display_name": "Python 3 (ipykernel)",
   "language": "python",
   "name": "python3"
  },
  "language_info": {
   "codemirror_mode": {
    "name": "ipython",
    "version": 3
   },
   "file_extension": ".py",
   "mimetype": "text/x-python",
   "name": "python",
   "nbconvert_exporter": "python",
   "pygments_lexer": "ipython3",
   "version": "3.9.13"
  }
 },
 "nbformat": 4,
 "nbformat_minor": 5
}
